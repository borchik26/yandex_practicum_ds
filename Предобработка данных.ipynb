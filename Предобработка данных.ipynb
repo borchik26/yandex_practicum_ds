{
 "cells": [
  {
   "cell_type": "markdown",
   "id": "f0c2f6a3",
   "metadata": {
    "deletable": false,
    "editable": false,
    "id": "c81daeeb"
   },
   "source": [
    "# Исследование надежности заемщиков\n"
   ]
  },
  {
   "cell_type": "markdown",
   "id": "0e5f0cc8",
   "metadata": {
    "deletable": false,
    "editable": false,
    "id": "827c20bf"
   },
   "source": [
    "Во второй части проекта вы выполните шаги 3 и 4. Их вручную проверит ревьюер.\n",
    "Чтобы вам не пришлось писать код заново для шагов 1 и 2, мы добавили авторские решения в ячейки с кодом. \n",
    "\n"
   ]
  },
  {
   "cell_type": "markdown",
   "id": "6b6a44f8",
   "metadata": {
    "deletable": false,
    "editable": false,
    "id": "744d7639"
   },
   "source": [
    "## Откройте таблицу и изучите общую информацию о данных"
   ]
  },
  {
   "cell_type": "markdown",
   "id": "bc578fa3",
   "metadata": {
    "deletable": false,
    "editable": false,
    "id": "e7a14c31"
   },
   "source": [
    "**Задание 1. Импортируйте библиотеку pandas. Считайте данные из csv-файла в датафрейм и сохраните в переменную `data`. Путь к файлу:**\n",
    "\n",
    "`/datasets/data.csv`"
   ]
  },
  {
   "cell_type": "code",
   "execution_count": 2,
   "id": "7be992da",
   "metadata": {
    "deletable": false,
    "id": "7bcf75c9"
   },
   "outputs": [],
   "source": [
    "import pandas as pd\n",
    "\n",
    "try:\n",
    "    data = pd.read_csv('/datasets/data.csv')\n",
    "except:\n",
    "    data = pd.read_csv('https://code.s3.yandex.net/datasets/data.csv')"
   ]
  },
  {
   "cell_type": "markdown",
   "id": "e2a421ef",
   "metadata": {
    "deletable": false,
    "editable": false,
    "id": "b8038fe3"
   },
   "source": [
    "**Задание 2. Выведите первые 20 строчек датафрейма `data` на экран.**"
   ]
  },
  {
   "cell_type": "code",
   "execution_count": 3,
   "id": "1f84a7f5",
   "metadata": {
    "deletable": false,
    "id": "2a7cab99",
    "outputId": "1a8f3ef2-d323-4ec2-ddf7-89670b5944c4",
    "scrolled": true
   },
   "outputs": [
    {
     "data": {
      "text/html": [
       "<div>\n",
       "<style scoped>\n",
       "    .dataframe tbody tr th:only-of-type {\n",
       "        vertical-align: middle;\n",
       "    }\n",
       "\n",
       "    .dataframe tbody tr th {\n",
       "        vertical-align: top;\n",
       "    }\n",
       "\n",
       "    .dataframe thead th {\n",
       "        text-align: right;\n",
       "    }\n",
       "</style>\n",
       "<table border=\"1\" class=\"dataframe\">\n",
       "  <thead>\n",
       "    <tr style=\"text-align: right;\">\n",
       "      <th></th>\n",
       "      <th>children</th>\n",
       "      <th>days_employed</th>\n",
       "      <th>dob_years</th>\n",
       "      <th>education</th>\n",
       "      <th>education_id</th>\n",
       "      <th>family_status</th>\n",
       "      <th>family_status_id</th>\n",
       "      <th>gender</th>\n",
       "      <th>income_type</th>\n",
       "      <th>debt</th>\n",
       "      <th>total_income</th>\n",
       "      <th>purpose</th>\n",
       "    </tr>\n",
       "  </thead>\n",
       "  <tbody>\n",
       "    <tr>\n",
       "      <th>0</th>\n",
       "      <td>1</td>\n",
       "      <td>-8437.673028</td>\n",
       "      <td>42</td>\n",
       "      <td>высшее</td>\n",
       "      <td>0</td>\n",
       "      <td>женат / замужем</td>\n",
       "      <td>0</td>\n",
       "      <td>F</td>\n",
       "      <td>сотрудник</td>\n",
       "      <td>0</td>\n",
       "      <td>253875.639453</td>\n",
       "      <td>покупка жилья</td>\n",
       "    </tr>\n",
       "    <tr>\n",
       "      <th>1</th>\n",
       "      <td>1</td>\n",
       "      <td>-4024.803754</td>\n",
       "      <td>36</td>\n",
       "      <td>среднее</td>\n",
       "      <td>1</td>\n",
       "      <td>женат / замужем</td>\n",
       "      <td>0</td>\n",
       "      <td>F</td>\n",
       "      <td>сотрудник</td>\n",
       "      <td>0</td>\n",
       "      <td>112080.014102</td>\n",
       "      <td>приобретение автомобиля</td>\n",
       "    </tr>\n",
       "    <tr>\n",
       "      <th>2</th>\n",
       "      <td>0</td>\n",
       "      <td>-5623.422610</td>\n",
       "      <td>33</td>\n",
       "      <td>Среднее</td>\n",
       "      <td>1</td>\n",
       "      <td>женат / замужем</td>\n",
       "      <td>0</td>\n",
       "      <td>M</td>\n",
       "      <td>сотрудник</td>\n",
       "      <td>0</td>\n",
       "      <td>145885.952297</td>\n",
       "      <td>покупка жилья</td>\n",
       "    </tr>\n",
       "    <tr>\n",
       "      <th>3</th>\n",
       "      <td>3</td>\n",
       "      <td>-4124.747207</td>\n",
       "      <td>32</td>\n",
       "      <td>среднее</td>\n",
       "      <td>1</td>\n",
       "      <td>женат / замужем</td>\n",
       "      <td>0</td>\n",
       "      <td>M</td>\n",
       "      <td>сотрудник</td>\n",
       "      <td>0</td>\n",
       "      <td>267628.550329</td>\n",
       "      <td>дополнительное образование</td>\n",
       "    </tr>\n",
       "    <tr>\n",
       "      <th>4</th>\n",
       "      <td>0</td>\n",
       "      <td>340266.072047</td>\n",
       "      <td>53</td>\n",
       "      <td>среднее</td>\n",
       "      <td>1</td>\n",
       "      <td>гражданский брак</td>\n",
       "      <td>1</td>\n",
       "      <td>F</td>\n",
       "      <td>пенсионер</td>\n",
       "      <td>0</td>\n",
       "      <td>158616.077870</td>\n",
       "      <td>сыграть свадьбу</td>\n",
       "    </tr>\n",
       "    <tr>\n",
       "      <th>5</th>\n",
       "      <td>0</td>\n",
       "      <td>-926.185831</td>\n",
       "      <td>27</td>\n",
       "      <td>высшее</td>\n",
       "      <td>0</td>\n",
       "      <td>гражданский брак</td>\n",
       "      <td>1</td>\n",
       "      <td>M</td>\n",
       "      <td>компаньон</td>\n",
       "      <td>0</td>\n",
       "      <td>255763.565419</td>\n",
       "      <td>покупка жилья</td>\n",
       "    </tr>\n",
       "    <tr>\n",
       "      <th>6</th>\n",
       "      <td>0</td>\n",
       "      <td>-2879.202052</td>\n",
       "      <td>43</td>\n",
       "      <td>высшее</td>\n",
       "      <td>0</td>\n",
       "      <td>женат / замужем</td>\n",
       "      <td>0</td>\n",
       "      <td>F</td>\n",
       "      <td>компаньон</td>\n",
       "      <td>0</td>\n",
       "      <td>240525.971920</td>\n",
       "      <td>операции с жильем</td>\n",
       "    </tr>\n",
       "    <tr>\n",
       "      <th>7</th>\n",
       "      <td>0</td>\n",
       "      <td>-152.779569</td>\n",
       "      <td>50</td>\n",
       "      <td>СРЕДНЕЕ</td>\n",
       "      <td>1</td>\n",
       "      <td>женат / замужем</td>\n",
       "      <td>0</td>\n",
       "      <td>M</td>\n",
       "      <td>сотрудник</td>\n",
       "      <td>0</td>\n",
       "      <td>135823.934197</td>\n",
       "      <td>образование</td>\n",
       "    </tr>\n",
       "    <tr>\n",
       "      <th>8</th>\n",
       "      <td>2</td>\n",
       "      <td>-6929.865299</td>\n",
       "      <td>35</td>\n",
       "      <td>ВЫСШЕЕ</td>\n",
       "      <td>0</td>\n",
       "      <td>гражданский брак</td>\n",
       "      <td>1</td>\n",
       "      <td>F</td>\n",
       "      <td>сотрудник</td>\n",
       "      <td>0</td>\n",
       "      <td>95856.832424</td>\n",
       "      <td>на проведение свадьбы</td>\n",
       "    </tr>\n",
       "    <tr>\n",
       "      <th>9</th>\n",
       "      <td>0</td>\n",
       "      <td>-2188.756445</td>\n",
       "      <td>41</td>\n",
       "      <td>среднее</td>\n",
       "      <td>1</td>\n",
       "      <td>женат / замужем</td>\n",
       "      <td>0</td>\n",
       "      <td>M</td>\n",
       "      <td>сотрудник</td>\n",
       "      <td>0</td>\n",
       "      <td>144425.938277</td>\n",
       "      <td>покупка жилья для семьи</td>\n",
       "    </tr>\n",
       "    <tr>\n",
       "      <th>10</th>\n",
       "      <td>2</td>\n",
       "      <td>-4171.483647</td>\n",
       "      <td>36</td>\n",
       "      <td>высшее</td>\n",
       "      <td>0</td>\n",
       "      <td>женат / замужем</td>\n",
       "      <td>0</td>\n",
       "      <td>M</td>\n",
       "      <td>компаньон</td>\n",
       "      <td>0</td>\n",
       "      <td>113943.491460</td>\n",
       "      <td>покупка недвижимости</td>\n",
       "    </tr>\n",
       "    <tr>\n",
       "      <th>11</th>\n",
       "      <td>0</td>\n",
       "      <td>-792.701887</td>\n",
       "      <td>40</td>\n",
       "      <td>среднее</td>\n",
       "      <td>1</td>\n",
       "      <td>женат / замужем</td>\n",
       "      <td>0</td>\n",
       "      <td>F</td>\n",
       "      <td>сотрудник</td>\n",
       "      <td>0</td>\n",
       "      <td>77069.234271</td>\n",
       "      <td>покупка коммерческой недвижимости</td>\n",
       "    </tr>\n",
       "    <tr>\n",
       "      <th>12</th>\n",
       "      <td>0</td>\n",
       "      <td>NaN</td>\n",
       "      <td>65</td>\n",
       "      <td>среднее</td>\n",
       "      <td>1</td>\n",
       "      <td>гражданский брак</td>\n",
       "      <td>1</td>\n",
       "      <td>M</td>\n",
       "      <td>пенсионер</td>\n",
       "      <td>0</td>\n",
       "      <td>NaN</td>\n",
       "      <td>сыграть свадьбу</td>\n",
       "    </tr>\n",
       "    <tr>\n",
       "      <th>13</th>\n",
       "      <td>0</td>\n",
       "      <td>-1846.641941</td>\n",
       "      <td>54</td>\n",
       "      <td>неоконченное высшее</td>\n",
       "      <td>2</td>\n",
       "      <td>женат / замужем</td>\n",
       "      <td>0</td>\n",
       "      <td>F</td>\n",
       "      <td>сотрудник</td>\n",
       "      <td>0</td>\n",
       "      <td>130458.228857</td>\n",
       "      <td>приобретение автомобиля</td>\n",
       "    </tr>\n",
       "    <tr>\n",
       "      <th>14</th>\n",
       "      <td>0</td>\n",
       "      <td>-1844.956182</td>\n",
       "      <td>56</td>\n",
       "      <td>высшее</td>\n",
       "      <td>0</td>\n",
       "      <td>гражданский брак</td>\n",
       "      <td>1</td>\n",
       "      <td>F</td>\n",
       "      <td>компаньон</td>\n",
       "      <td>1</td>\n",
       "      <td>165127.911772</td>\n",
       "      <td>покупка жилой недвижимости</td>\n",
       "    </tr>\n",
       "    <tr>\n",
       "      <th>15</th>\n",
       "      <td>1</td>\n",
       "      <td>-972.364419</td>\n",
       "      <td>26</td>\n",
       "      <td>среднее</td>\n",
       "      <td>1</td>\n",
       "      <td>женат / замужем</td>\n",
       "      <td>0</td>\n",
       "      <td>F</td>\n",
       "      <td>сотрудник</td>\n",
       "      <td>0</td>\n",
       "      <td>116820.904450</td>\n",
       "      <td>строительство собственной недвижимости</td>\n",
       "    </tr>\n",
       "    <tr>\n",
       "      <th>16</th>\n",
       "      <td>0</td>\n",
       "      <td>-1719.934226</td>\n",
       "      <td>35</td>\n",
       "      <td>среднее</td>\n",
       "      <td>1</td>\n",
       "      <td>женат / замужем</td>\n",
       "      <td>0</td>\n",
       "      <td>F</td>\n",
       "      <td>сотрудник</td>\n",
       "      <td>0</td>\n",
       "      <td>289202.704229</td>\n",
       "      <td>недвижимость</td>\n",
       "    </tr>\n",
       "    <tr>\n",
       "      <th>17</th>\n",
       "      <td>0</td>\n",
       "      <td>-2369.999720</td>\n",
       "      <td>33</td>\n",
       "      <td>высшее</td>\n",
       "      <td>0</td>\n",
       "      <td>гражданский брак</td>\n",
       "      <td>1</td>\n",
       "      <td>M</td>\n",
       "      <td>сотрудник</td>\n",
       "      <td>0</td>\n",
       "      <td>90410.586745</td>\n",
       "      <td>строительство недвижимости</td>\n",
       "    </tr>\n",
       "    <tr>\n",
       "      <th>18</th>\n",
       "      <td>0</td>\n",
       "      <td>400281.136913</td>\n",
       "      <td>53</td>\n",
       "      <td>среднее</td>\n",
       "      <td>1</td>\n",
       "      <td>вдовец / вдова</td>\n",
       "      <td>2</td>\n",
       "      <td>F</td>\n",
       "      <td>пенсионер</td>\n",
       "      <td>0</td>\n",
       "      <td>56823.777243</td>\n",
       "      <td>на покупку подержанного автомобиля</td>\n",
       "    </tr>\n",
       "    <tr>\n",
       "      <th>19</th>\n",
       "      <td>0</td>\n",
       "      <td>-10038.818549</td>\n",
       "      <td>48</td>\n",
       "      <td>СРЕДНЕЕ</td>\n",
       "      <td>1</td>\n",
       "      <td>в разводе</td>\n",
       "      <td>3</td>\n",
       "      <td>F</td>\n",
       "      <td>сотрудник</td>\n",
       "      <td>0</td>\n",
       "      <td>242831.107982</td>\n",
       "      <td>на покупку своего автомобиля</td>\n",
       "    </tr>\n",
       "  </tbody>\n",
       "</table>\n",
       "</div>"
      ],
      "text/plain": [
       "    children  days_employed  dob_years            education  education_id  \\\n",
       "0          1   -8437.673028         42               высшее             0   \n",
       "1          1   -4024.803754         36              среднее             1   \n",
       "2          0   -5623.422610         33              Среднее             1   \n",
       "3          3   -4124.747207         32              среднее             1   \n",
       "4          0  340266.072047         53              среднее             1   \n",
       "5          0    -926.185831         27               высшее             0   \n",
       "6          0   -2879.202052         43               высшее             0   \n",
       "7          0    -152.779569         50              СРЕДНЕЕ             1   \n",
       "8          2   -6929.865299         35               ВЫСШЕЕ             0   \n",
       "9          0   -2188.756445         41              среднее             1   \n",
       "10         2   -4171.483647         36               высшее             0   \n",
       "11         0    -792.701887         40              среднее             1   \n",
       "12         0            NaN         65              среднее             1   \n",
       "13         0   -1846.641941         54  неоконченное высшее             2   \n",
       "14         0   -1844.956182         56               высшее             0   \n",
       "15         1    -972.364419         26              среднее             1   \n",
       "16         0   -1719.934226         35              среднее             1   \n",
       "17         0   -2369.999720         33               высшее             0   \n",
       "18         0  400281.136913         53              среднее             1   \n",
       "19         0  -10038.818549         48              СРЕДНЕЕ             1   \n",
       "\n",
       "       family_status  family_status_id gender income_type  debt  \\\n",
       "0    женат / замужем                 0      F   сотрудник     0   \n",
       "1    женат / замужем                 0      F   сотрудник     0   \n",
       "2    женат / замужем                 0      M   сотрудник     0   \n",
       "3    женат / замужем                 0      M   сотрудник     0   \n",
       "4   гражданский брак                 1      F   пенсионер     0   \n",
       "5   гражданский брак                 1      M   компаньон     0   \n",
       "6    женат / замужем                 0      F   компаньон     0   \n",
       "7    женат / замужем                 0      M   сотрудник     0   \n",
       "8   гражданский брак                 1      F   сотрудник     0   \n",
       "9    женат / замужем                 0      M   сотрудник     0   \n",
       "10   женат / замужем                 0      M   компаньон     0   \n",
       "11   женат / замужем                 0      F   сотрудник     0   \n",
       "12  гражданский брак                 1      M   пенсионер     0   \n",
       "13   женат / замужем                 0      F   сотрудник     0   \n",
       "14  гражданский брак                 1      F   компаньон     1   \n",
       "15   женат / замужем                 0      F   сотрудник     0   \n",
       "16   женат / замужем                 0      F   сотрудник     0   \n",
       "17  гражданский брак                 1      M   сотрудник     0   \n",
       "18    вдовец / вдова                 2      F   пенсионер     0   \n",
       "19         в разводе                 3      F   сотрудник     0   \n",
       "\n",
       "     total_income                                 purpose  \n",
       "0   253875.639453                           покупка жилья  \n",
       "1   112080.014102                 приобретение автомобиля  \n",
       "2   145885.952297                           покупка жилья  \n",
       "3   267628.550329              дополнительное образование  \n",
       "4   158616.077870                         сыграть свадьбу  \n",
       "5   255763.565419                           покупка жилья  \n",
       "6   240525.971920                       операции с жильем  \n",
       "7   135823.934197                             образование  \n",
       "8    95856.832424                   на проведение свадьбы  \n",
       "9   144425.938277                 покупка жилья для семьи  \n",
       "10  113943.491460                    покупка недвижимости  \n",
       "11   77069.234271       покупка коммерческой недвижимости  \n",
       "12            NaN                         сыграть свадьбу  \n",
       "13  130458.228857                 приобретение автомобиля  \n",
       "14  165127.911772              покупка жилой недвижимости  \n",
       "15  116820.904450  строительство собственной недвижимости  \n",
       "16  289202.704229                            недвижимость  \n",
       "17   90410.586745              строительство недвижимости  \n",
       "18   56823.777243      на покупку подержанного автомобиля  \n",
       "19  242831.107982            на покупку своего автомобиля  "
      ]
     },
     "execution_count": 3,
     "metadata": {},
     "output_type": "execute_result"
    }
   ],
   "source": [
    "data.head(20)"
   ]
  },
  {
   "cell_type": "markdown",
   "id": "519ee5b0",
   "metadata": {
    "deletable": false,
    "editable": false,
    "id": "1c12e233"
   },
   "source": [
    "**Задание 3. Выведите основную информацию о датафрейме с помощью метода `info()`.**"
   ]
  },
  {
   "cell_type": "code",
   "execution_count": 4,
   "id": "34f80d75",
   "metadata": {
    "deletable": false,
    "id": "2b757bca",
    "outputId": "15376089-8dad-46c9-b520-c05248d43158"
   },
   "outputs": [
    {
     "name": "stdout",
     "output_type": "stream",
     "text": [
      "<class 'pandas.core.frame.DataFrame'>\n",
      "RangeIndex: 21525 entries, 0 to 21524\n",
      "Data columns (total 12 columns):\n",
      " #   Column            Non-Null Count  Dtype  \n",
      "---  ------            --------------  -----  \n",
      " 0   children          21525 non-null  int64  \n",
      " 1   days_employed     19351 non-null  float64\n",
      " 2   dob_years         21525 non-null  int64  \n",
      " 3   education         21525 non-null  object \n",
      " 4   education_id      21525 non-null  int64  \n",
      " 5   family_status     21525 non-null  object \n",
      " 6   family_status_id  21525 non-null  int64  \n",
      " 7   gender            21525 non-null  object \n",
      " 8   income_type       21525 non-null  object \n",
      " 9   debt              21525 non-null  int64  \n",
      " 10  total_income      19351 non-null  float64\n",
      " 11  purpose           21525 non-null  object \n",
      "dtypes: float64(2), int64(5), object(5)\n",
      "memory usage: 2.0+ MB\n"
     ]
    }
   ],
   "source": [
    "data.info()"
   ]
  },
  {
   "cell_type": "markdown",
   "id": "46637ad4",
   "metadata": {
    "deletable": false,
    "editable": false,
    "id": "333ec665"
   },
   "source": [
    "## Предобработка данных"
   ]
  },
  {
   "cell_type": "markdown",
   "id": "9481e953",
   "metadata": {
    "deletable": false,
    "editable": false,
    "id": "02d92d53"
   },
   "source": [
    "### Удаление пропусков"
   ]
  },
  {
   "cell_type": "markdown",
   "id": "68fabdfd",
   "metadata": {
    "deletable": false,
    "editable": false,
    "id": "cd84967c"
   },
   "source": [
    "**Задание 4. Выведите количество пропущенных значений для каждого столбца. Используйте комбинацию двух методов.**"
   ]
  },
  {
   "cell_type": "code",
   "execution_count": 5,
   "id": "b35b91e7",
   "metadata": {
    "deletable": false,
    "id": "7f9b2309",
    "outputId": "81f4d817-781c-465c-ed15-91ce4446810d"
   },
   "outputs": [
    {
     "data": {
      "text/plain": [
       "children               0\n",
       "days_employed       2174\n",
       "dob_years              0\n",
       "education              0\n",
       "education_id           0\n",
       "family_status          0\n",
       "family_status_id       0\n",
       "gender                 0\n",
       "income_type            0\n",
       "debt                   0\n",
       "total_income        2174\n",
       "purpose                0\n",
       "dtype: int64"
      ]
     },
     "execution_count": 5,
     "metadata": {},
     "output_type": "execute_result"
    }
   ],
   "source": [
    "data.isna().sum()"
   ]
  },
  {
   "cell_type": "markdown",
   "id": "5d19c8ad",
   "metadata": {
    "deletable": false,
    "editable": false,
    "id": "db86e27b"
   },
   "source": [
    "**Задание 5. В двух столбцах есть пропущенные значения. Один из них — `days_employed`. Пропуски в этом столбце вы обработаете на следующем этапе. Другой столбец с пропущенными значениями — `total_income` — хранит данные о доходах. На сумму дохода сильнее всего влияет тип занятости, поэтому заполнить пропуски в этом столбце нужно медианным значением по каждому типу из столбца `income_type`. Например, у человека с типом занятости `сотрудник` пропуск в столбце `total_income` должен быть заполнен медианным доходом среди всех записей с тем же типом.**"
   ]
  },
  {
   "cell_type": "code",
   "execution_count": 6,
   "id": "11fb83cf",
   "metadata": {
    "deletable": false,
    "id": "42006a93"
   },
   "outputs": [],
   "source": [
    "for t in data['income_type'].unique():\n",
    "    data.loc[(data['income_type'] == t) & (data['total_income'].isna()), 'total_income'] = \\\n",
    "    data.loc[(data['income_type'] == t), 'total_income'].median()"
   ]
  },
  {
   "cell_type": "markdown",
   "id": "7cad542f",
   "metadata": {
    "deletable": false,
    "editable": false,
    "id": "89da5ece"
   },
   "source": [
    "### Обработка аномальных значений"
   ]
  },
  {
   "cell_type": "markdown",
   "id": "de5af123",
   "metadata": {
    "deletable": false,
    "editable": false,
    "id": "57964554"
   },
   "source": [
    "**Задание 6. В данных могут встречаться артефакты (аномалии) — значения, которые не отражают действительность и появились по какой-то ошибке. таким артефактом будет отрицательное количество дней трудового стажа в столбце `days_employed`. Для реальных данных это нормально. Обработайте значения в этом столбце: замените все отрицательные значения положительными с помощью метода `abs()`.**"
   ]
  },
  {
   "cell_type": "code",
   "execution_count": 7,
   "id": "b1306d4f",
   "metadata": {
    "deletable": false,
    "id": "f6f055bf"
   },
   "outputs": [],
   "source": [
    "data['days_employed'] = data['days_employed'].abs()"
   ]
  },
  {
   "cell_type": "markdown",
   "id": "dc83ecee",
   "metadata": {
    "deletable": false,
    "editable": false,
    "id": "6107dd2f"
   },
   "source": [
    "**Задание 7. Для каждого типа занятости выведите медианное значение трудового стажа `days_employed` в днях.**"
   ]
  },
  {
   "cell_type": "code",
   "execution_count": 8,
   "id": "dba1c4ff",
   "metadata": {
    "deletable": false,
    "id": "85a5faf6",
    "outputId": "801ef80e-522b-4668-f34e-565af7432bcf"
   },
   "outputs": [
    {
     "data": {
      "text/plain": [
       "income_type\n",
       "безработный        366413.652744\n",
       "в декрете            3296.759962\n",
       "госслужащий          2689.368353\n",
       "компаньон            1547.382223\n",
       "пенсионер          365213.306266\n",
       "предприниматель       520.848083\n",
       "сотрудник            1574.202821\n",
       "студент               578.751554\n",
       "Name: days_employed, dtype: float64"
      ]
     },
     "execution_count": 8,
     "metadata": {},
     "output_type": "execute_result"
    }
   ],
   "source": [
    "data.groupby('income_type')['days_employed'].agg('median')"
   ]
  },
  {
   "cell_type": "markdown",
   "id": "61849804",
   "metadata": {
    "deletable": false,
    "editable": false,
    "id": "38d1a030"
   },
   "source": [
    "У двух типов (безработные и пенсионеры) получатся аномально большие значения. Исправить такие значения сложно, поэтому оставьте их как есть. Тем более этот столбец не понадобится вам для исследования."
   ]
  },
  {
   "cell_type": "markdown",
   "id": "5d8008d4",
   "metadata": {
    "deletable": false,
    "editable": false,
    "id": "d8a9f147"
   },
   "source": [
    "**Задание 8. Выведите перечень уникальных значений столбца `children`.**"
   ]
  },
  {
   "cell_type": "code",
   "execution_count": 9,
   "id": "7f53f2ff",
   "metadata": {
    "deletable": false,
    "id": "ef5056eb",
    "outputId": "6975b15c-7f95-4697-d16d-a0c79b657b03"
   },
   "outputs": [
    {
     "data": {
      "text/plain": [
       "array([ 1,  0,  3,  2, -1,  4, 20,  5])"
      ]
     },
     "execution_count": 9,
     "metadata": {},
     "output_type": "execute_result"
    }
   ],
   "source": [
    "data['children'].unique()"
   ]
  },
  {
   "cell_type": "markdown",
   "id": "bc374bc2",
   "metadata": {
    "deletable": false,
    "editable": false,
    "id": "40b9ebf2"
   },
   "source": [
    "**Задание 9. В столбце `children` есть два аномальных значения. Удалите строки, в которых встречаются такие аномальные значения из датафрейма `data`.**"
   ]
  },
  {
   "cell_type": "code",
   "execution_count": 10,
   "id": "58ca4918",
   "metadata": {
    "deletable": false,
    "id": "3ff9801d"
   },
   "outputs": [],
   "source": [
    "data = data[(data['children'] != -1) & (data['children'] != 20)]"
   ]
  },
  {
   "cell_type": "markdown",
   "id": "d509fd02",
   "metadata": {
    "deletable": false,
    "editable": false,
    "id": "bbc4d0ce"
   },
   "source": [
    "**Задание 10. Ещё раз выведите перечень уникальных значений столбца `children`, чтобы убедиться, что артефакты удалены.**"
   ]
  },
  {
   "cell_type": "code",
   "execution_count": 11,
   "id": "0ac9b974",
   "metadata": {
    "deletable": false,
    "id": "ad4fa8b7",
    "outputId": "b2097101-d49d-44d9-901b-32a65c9463d1"
   },
   "outputs": [
    {
     "data": {
      "text/plain": [
       "array([1, 0, 3, 2, 4, 5])"
      ]
     },
     "execution_count": 11,
     "metadata": {},
     "output_type": "execute_result"
    }
   ],
   "source": [
    "data['children'].unique()"
   ]
  },
  {
   "cell_type": "markdown",
   "id": "8245be4d",
   "metadata": {
    "deletable": false,
    "editable": false,
    "id": "75440b63"
   },
   "source": [
    "### Удаление пропусков (продолжение)"
   ]
  },
  {
   "cell_type": "markdown",
   "id": "655a4161",
   "metadata": {
    "deletable": false,
    "editable": false,
    "id": "f4ea573f"
   },
   "source": [
    "**Задание 11. Заполните пропуски в столбце `days_employed` медианными значениями по каждого типа занятости `income_type`.**"
   ]
  },
  {
   "cell_type": "code",
   "execution_count": 12,
   "id": "b4d8cfe3",
   "metadata": {
    "deletable": false,
    "id": "af6b1a7e"
   },
   "outputs": [],
   "source": [
    "for t in data['income_type'].unique():\n",
    "    data.loc[(data['income_type'] == t) & (data['days_employed'].isna()), 'days_employed'] = \\\n",
    "    data.loc[(data['income_type'] == t), 'days_employed'].median()"
   ]
  },
  {
   "cell_type": "markdown",
   "id": "b327c4c2",
   "metadata": {
    "deletable": false,
    "editable": false,
    "id": "2753f40d"
   },
   "source": [
    "**Задание 12. Убедитесь, что все пропуски заполнены. Проверьте себя и ещё раз выведите количество пропущенных значений для каждого столбца с помощью двух методов.**"
   ]
  },
  {
   "cell_type": "code",
   "execution_count": 13,
   "id": "522790da",
   "metadata": {
    "deletable": false,
    "id": "55f78bc2",
    "outputId": "8da1e4e1-358e-4e87-98c9-f261bce0a7b2"
   },
   "outputs": [
    {
     "data": {
      "text/plain": [
       "children            0\n",
       "days_employed       0\n",
       "dob_years           0\n",
       "education           0\n",
       "education_id        0\n",
       "family_status       0\n",
       "family_status_id    0\n",
       "gender              0\n",
       "income_type         0\n",
       "debt                0\n",
       "total_income        0\n",
       "purpose             0\n",
       "dtype: int64"
      ]
     },
     "execution_count": 13,
     "metadata": {},
     "output_type": "execute_result"
    }
   ],
   "source": [
    "data.isna().sum()"
   ]
  },
  {
   "cell_type": "markdown",
   "id": "7d0b3fff",
   "metadata": {
    "deletable": false,
    "editable": false,
    "id": "ddc81e43"
   },
   "source": [
    "### Изменение типов данных"
   ]
  },
  {
   "cell_type": "markdown",
   "id": "629b8f15",
   "metadata": {
    "deletable": false,
    "editable": false,
    "id": "42d19d24"
   },
   "source": [
    "**Задание 13. Замените вещественный тип данных в столбце `total_income` на целочисленный с помощью метода `astype()`.**"
   ]
  },
  {
   "cell_type": "code",
   "execution_count": 14,
   "id": "b98f66e2",
   "metadata": {
    "deletable": false,
    "id": "920b65ad"
   },
   "outputs": [],
   "source": [
    "data['total_income'] = data['total_income'].astype(int)"
   ]
  },
  {
   "cell_type": "markdown",
   "id": "18070310",
   "metadata": {
    "deletable": false,
    "editable": false,
    "id": "80c420ba"
   },
   "source": [
    "### Обработка дубликатов"
   ]
  },
  {
   "cell_type": "markdown",
   "id": "38b40600",
   "metadata": {
    "deletable": false,
    "editable": false
   },
   "source": [
    "**Задание 14. Обработайте неявные дубликаты в столбце `education`. В этом столбце есть одни и те же значения, но записанные по-разному: с использованием заглавных и строчных букв. Приведите их к нижнему регистру. Проверьте остальные столбцы.**"
   ]
  },
  {
   "cell_type": "code",
   "execution_count": 15,
   "id": "40421066",
   "metadata": {
    "deletable": false
   },
   "outputs": [],
   "source": [
    "data['education'] = data['education'].str.lower()"
   ]
  },
  {
   "cell_type": "markdown",
   "id": "e26450cf",
   "metadata": {
    "deletable": false,
    "editable": false,
    "id": "dc587695"
   },
   "source": [
    "**Задание 15. Выведите на экран количество строк-дубликатов в данных. Если такие строки присутствуют, удалите их.**"
   ]
  },
  {
   "cell_type": "code",
   "execution_count": 16,
   "id": "b60b903f",
   "metadata": {
    "deletable": false,
    "id": "3ee445e4",
    "outputId": "9684deba-1934-42d1-99e1-cda61740f822"
   },
   "outputs": [
    {
     "data": {
      "text/plain": [
       "71"
      ]
     },
     "execution_count": 16,
     "metadata": {},
     "output_type": "execute_result"
    }
   ],
   "source": [
    "data.duplicated().sum()"
   ]
  },
  {
   "cell_type": "code",
   "execution_count": 17,
   "id": "1f699fbb",
   "metadata": {
    "deletable": false,
    "id": "8575fe05"
   },
   "outputs": [],
   "source": [
    "data = data.drop_duplicates()"
   ]
  },
  {
   "cell_type": "markdown",
   "id": "01ecf717",
   "metadata": {
    "deletable": false,
    "editable": false,
    "id": "9904cf55"
   },
   "source": [
    "### Категоризация данных"
   ]
  },
  {
   "cell_type": "markdown",
   "id": "68e33b67",
   "metadata": {
    "deletable": false,
    "editable": false,
    "id": "72fcc8a2"
   },
   "source": [
    "**Задание 16. На основании диапазонов, указанных ниже, создайте в датафрейме `data` столбец `total_income_category` с категориями:**\n",
    "\n",
    "- 0–30000 — `'E'`;\n",
    "- 30001–50000 — `'D'`;\n",
    "- 50001–200000 — `'C'`;\n",
    "- 200001–1000000 — `'B'`;\n",
    "- 1000001 и выше — `'A'`.\n",
    "\n",
    "\n",
    "**Например, кредитополучателю с доходом 25000 нужно назначить категорию `'E'`, а клиенту, получающему 235000, — `'B'`. Используйте собственную функцию с именем `categorize_income()` и метод `apply()`.**"
   ]
  },
  {
   "cell_type": "code",
   "execution_count": 18,
   "id": "e4c95284",
   "metadata": {
    "deletable": false,
    "id": "e1771346"
   },
   "outputs": [],
   "source": [
    "def categorize_income(income):\n",
    "    try:\n",
    "        if 0 <= income <= 30000:\n",
    "            return 'E'\n",
    "        elif 30001 <= income <= 50000:\n",
    "            return 'D'\n",
    "        elif 50001 <= income <= 200000:\n",
    "            return 'C'\n",
    "        elif 200001 <= income <= 1000000:\n",
    "            return 'B'\n",
    "        elif income >= 1000001:\n",
    "            return 'A'\n",
    "    except:\n",
    "        pass"
   ]
  },
  {
   "cell_type": "code",
   "execution_count": 19,
   "id": "3303d07b",
   "metadata": {
    "deletable": false,
    "id": "d5f3586d"
   },
   "outputs": [],
   "source": [
    "data['total_income_category'] = data['total_income'].apply(categorize_income)"
   ]
  },
  {
   "cell_type": "markdown",
   "id": "7a9fa220",
   "metadata": {
    "deletable": false,
    "editable": false,
    "id": "dde49b5c"
   },
   "source": [
    "**Задание 17. Выведите на экран перечень уникальных целей взятия кредита из столбца `purpose`.**"
   ]
  },
  {
   "cell_type": "code",
   "execution_count": 20,
   "id": "c7745be5",
   "metadata": {
    "deletable": false,
    "id": "f67ce9b3",
    "outputId": "673c12d9-7d7e-4ae0-9812-c622c89dd244"
   },
   "outputs": [
    {
     "data": {
      "text/plain": [
       "array(['покупка жилья', 'приобретение автомобиля',\n",
       "       'дополнительное образование', 'сыграть свадьбу',\n",
       "       'операции с жильем', 'образование', 'на проведение свадьбы',\n",
       "       'покупка жилья для семьи', 'покупка недвижимости',\n",
       "       'покупка коммерческой недвижимости', 'покупка жилой недвижимости',\n",
       "       'строительство собственной недвижимости', 'недвижимость',\n",
       "       'строительство недвижимости', 'на покупку подержанного автомобиля',\n",
       "       'на покупку своего автомобиля',\n",
       "       'операции с коммерческой недвижимостью',\n",
       "       'строительство жилой недвижимости', 'жилье',\n",
       "       'операции со своей недвижимостью', 'автомобили',\n",
       "       'заняться образованием', 'сделка с подержанным автомобилем',\n",
       "       'получение образования', 'автомобиль', 'свадьба',\n",
       "       'получение дополнительного образования', 'покупка своего жилья',\n",
       "       'операции с недвижимостью', 'получение высшего образования',\n",
       "       'свой автомобиль', 'сделка с автомобилем',\n",
       "       'профильное образование', 'высшее образование',\n",
       "       'покупка жилья для сдачи', 'на покупку автомобиля', 'ремонт жилью',\n",
       "       'заняться высшим образованием'], dtype=object)"
      ]
     },
     "execution_count": 20,
     "metadata": {},
     "output_type": "execute_result"
    }
   ],
   "source": [
    "data['purpose'].unique()"
   ]
  },
  {
   "cell_type": "markdown",
   "id": "cf2dbad8",
   "metadata": {
    "deletable": false,
    "editable": false,
    "id": "85d0aef0"
   },
   "source": [
    "**Задание 18. Создайте функцию, которая на основании данных из столбца `purpose` сформирует новый столбец `purpose_category`, в который войдут следующие категории:**\n",
    "\n",
    "- `'операции с автомобилем'`,\n",
    "- `'операции с недвижимостью'`,\n",
    "- `'проведение свадьбы'`,\n",
    "- `'получение образования'`.\n",
    "\n",
    "**Например, если в столбце `purpose` находится подстрока `'на покупку автомобиля'`, то в столбце `purpose_category` должна появиться строка `'операции с автомобилем'`.**\n",
    "\n",
    "**Используйте собственную функцию с именем `categorize_purpose()` и метод `apply()`. Изучите данные в столбце `purpose` и определите, какие подстроки помогут вам правильно определить категорию.**"
   ]
  },
  {
   "cell_type": "code",
   "execution_count": 21,
   "id": "19db0c62",
   "metadata": {
    "deletable": false,
    "id": "e149fab4"
   },
   "outputs": [],
   "source": [
    "def categorize_purpose(row):\n",
    "    try:\n",
    "        if 'автом' in row:\n",
    "            return 'операции с автомобилем'\n",
    "        elif 'жил' in row or 'недвиж' in row:\n",
    "            return 'операции с недвижимостью'\n",
    "        elif 'свад' in row:\n",
    "            return 'проведение свадьбы'\n",
    "        elif 'образов' in row:\n",
    "            return 'получение образования'\n",
    "    except:\n",
    "        return 'нет категории'"
   ]
  },
  {
   "cell_type": "code",
   "execution_count": 22,
   "id": "0d1cdad0",
   "metadata": {
    "deletable": false,
    "id": "bf36e69b"
   },
   "outputs": [],
   "source": [
    "data['purpose_category'] = data['purpose'].apply(categorize_purpose)"
   ]
  },
  {
   "cell_type": "markdown",
   "id": "39f0a7d5",
   "metadata": {
    "deletable": false,
    "editable": false,
    "id": "09b242bf"
   },
   "source": [
    "### Шаг 3. Исследуйте данные и ответьте на вопросы"
   ]
  },
  {
   "cell_type": "markdown",
   "id": "646626bc",
   "metadata": {
    "deletable": false,
    "editable": false,
    "id": "c5d66278"
   },
   "source": [
    "#### 3.1 Есть ли зависимость между количеством детей и возвратом кредита в срок?"
   ]
  },
  {
   "cell_type": "code",
   "execution_count": 23,
   "id": "3a314a85",
   "metadata": {},
   "outputs": [
    {
     "name": "stdout",
     "output_type": "stream",
     "text": [
      "0    14091\n",
      "1     4808\n",
      "2     2052\n",
      "3      330\n",
      "4       41\n",
      "5        9\n",
      "Name: children, dtype: int64\n"
     ]
    }
   ],
   "source": [
    "print(data['children'].value_counts())\n",
    "#В столбце children есть два аномальных значения, их количество незначительно."
   ]
  },
  {
   "cell_type": "code",
   "execution_count": 24,
   "id": "a848c94c",
   "metadata": {},
   "outputs": [],
   "source": [
    "data = data.loc[(data['children'] != -1) & (data['children'] != 20)]\n",
    "#удалим два аномальных значения."
   ]
  },
  {
   "cell_type": "code",
   "execution_count": 25,
   "id": "2f4d1524",
   "metadata": {
    "deletable": false,
    "id": "2cacfc4a"
   },
   "outputs": [
    {
     "data": {
      "text/html": [
       "<style  type=\"text/css\" >\n",
       "</style><table id=\"T_cc18b_\" ><thead>    <tr>        <th class=\"blank level0\" ></th>        <th class=\"col_heading level0 col0\" >Общее количество клиентов в группе</th>        <th class=\"col_heading level0 col1\" >Количество должников в группе</th>        <th class=\"col_heading level0 col2\" >Доля дожников</th>    </tr>    <tr>        <th class=\"index_name level0\" >children</th>        <th class=\"blank\" ></th>        <th class=\"blank\" ></th>        <th class=\"blank\" ></th>    </tr></thead><tbody>\n",
       "                <tr>\n",
       "                        <th id=\"T_cc18b_level0_row0\" class=\"row_heading level0 row0\" >0</th>\n",
       "                        <td id=\"T_cc18b_row0_col0\" class=\"data row0 col0\" >14091</td>\n",
       "                        <td id=\"T_cc18b_row0_col1\" class=\"data row0 col1\" >1063</td>\n",
       "                        <td id=\"T_cc18b_row0_col2\" class=\"data row0 col2\" >7.54%</td>\n",
       "            </tr>\n",
       "            <tr>\n",
       "                        <th id=\"T_cc18b_level0_row1\" class=\"row_heading level0 row1\" >1</th>\n",
       "                        <td id=\"T_cc18b_row1_col0\" class=\"data row1 col0\" >4808</td>\n",
       "                        <td id=\"T_cc18b_row1_col1\" class=\"data row1 col1\" >444</td>\n",
       "                        <td id=\"T_cc18b_row1_col2\" class=\"data row1 col2\" >9.23%</td>\n",
       "            </tr>\n",
       "            <tr>\n",
       "                        <th id=\"T_cc18b_level0_row2\" class=\"row_heading level0 row2\" >2</th>\n",
       "                        <td id=\"T_cc18b_row2_col0\" class=\"data row2 col0\" >2052</td>\n",
       "                        <td id=\"T_cc18b_row2_col1\" class=\"data row2 col1\" >194</td>\n",
       "                        <td id=\"T_cc18b_row2_col2\" class=\"data row2 col2\" >9.45%</td>\n",
       "            </tr>\n",
       "            <tr>\n",
       "                        <th id=\"T_cc18b_level0_row3\" class=\"row_heading level0 row3\" >3</th>\n",
       "                        <td id=\"T_cc18b_row3_col0\" class=\"data row3 col0\" >330</td>\n",
       "                        <td id=\"T_cc18b_row3_col1\" class=\"data row3 col1\" >27</td>\n",
       "                        <td id=\"T_cc18b_row3_col2\" class=\"data row3 col2\" >8.18%</td>\n",
       "            </tr>\n",
       "            <tr>\n",
       "                        <th id=\"T_cc18b_level0_row4\" class=\"row_heading level0 row4\" >4</th>\n",
       "                        <td id=\"T_cc18b_row4_col0\" class=\"data row4 col0\" >41</td>\n",
       "                        <td id=\"T_cc18b_row4_col1\" class=\"data row4 col1\" >4</td>\n",
       "                        <td id=\"T_cc18b_row4_col2\" class=\"data row4 col2\" >9.76%</td>\n",
       "            </tr>\n",
       "            <tr>\n",
       "                        <th id=\"T_cc18b_level0_row5\" class=\"row_heading level0 row5\" >5</th>\n",
       "                        <td id=\"T_cc18b_row5_col0\" class=\"data row5 col0\" >9</td>\n",
       "                        <td id=\"T_cc18b_row5_col1\" class=\"data row5 col1\" >0</td>\n",
       "                        <td id=\"T_cc18b_row5_col2\" class=\"data row5 col2\" >0.00%</td>\n",
       "            </tr>\n",
       "    </tbody></table>"
      ],
      "text/plain": [
       "<pandas.io.formats.style.Styler at 0x7f9108a91820>"
      ]
     },
     "metadata": {},
     "output_type": "display_data"
    }
   ],
   "source": [
    "# Ваш код будет здесь. Вы можете создавать новые ячейки.\n",
    "\n",
    "\n",
    "# Создадим новый столбец, указывающий, был ли кредит погашен вовремя\n",
    "#data['repayed_on_time'] = data['debt'].apply(lambda x: True if x == 0 else False)\n",
    "\n",
    "# Рассчитаем среднее количество детей у тех, кто вовремя погасил кредит, и у тех, кто этого не сделал.\n",
    "#children_repayed_on_time = data[data['repayed_on_time'] == True]['children'].mean()\n",
    "#children_not_repayed_on_time = data[data['repayed_on_time'] == False]['children'].mean()\n",
    "\n",
    "# Сравним переменные, чтобы увидеть, есть ли связь между количеством детей и погашением кредита\n",
    "#if children_repayed_on_time > children_not_repayed_on_time:\n",
    "#    print(\"В среднем, клиенты с большим количеством детей имеют больше шансов погасить кредит вовремя\")\n",
    "#else:\n",
    "#    print(\"В среднем клиенты с большим количеством детей с меньшей вероятностью погасят кредит вовремя\")\n",
    "\n",
    "#print(\"Cреднее количество детей у тех, кто вовремя погасил кредит\",children_repayed_on_time)\n",
    "#print(\"Cреднее количество детей у тех, кто погасил кредит не вовремя\",children_not_repayed_on_time)\n",
    "\n",
    "\n",
    "#Сгруппируем клиентов по количеству детей, посчитаем должников в каждой группе, посчитаем общее количество клиентов в группе.\n",
    "childrens = data.groupby('children')['debt'].agg({'sum', 'count'})\n",
    "#Посчитем долю должников\n",
    "childrens['Доля дожников'] = childrens['sum'] / childrens['count']\n",
    "\n",
    "#Переменуем столбцы для удобства\n",
    "childrens = childrens.rename(\n",
    " columns={\n",
    "'sum': 'Количество должников в группе',\n",
    "'count': 'Общее количество клиентов в группе'\n",
    " }\n",
    ")\n",
    "\n",
    "display(childrens.style.format({('Доля дожников'): '{:.2%}'}))"
   ]
  },
  {
   "cell_type": "code",
   "execution_count": 29,
   "id": "fd0a9e9b",
   "metadata": {},
   "outputs": [
    {
     "data": {
      "text/html": [
       "<div>\n",
       "<style scoped>\n",
       "    .dataframe tbody tr th:only-of-type {\n",
       "        vertical-align: middle;\n",
       "    }\n",
       "\n",
       "    .dataframe tbody tr th {\n",
       "        vertical-align: top;\n",
       "    }\n",
       "\n",
       "    .dataframe thead th {\n",
       "        text-align: right;\n",
       "    }\n",
       "</style>\n",
       "<table border=\"1\" class=\"dataframe\">\n",
       "  <thead>\n",
       "    <tr style=\"text-align: right;\">\n",
       "      <th></th>\n",
       "      <th>count</th>\n",
       "      <th>sum</th>\n",
       "      <th>mean</th>\n",
       "    </tr>\n",
       "    <tr>\n",
       "      <th>children</th>\n",
       "      <th></th>\n",
       "      <th></th>\n",
       "      <th></th>\n",
       "    </tr>\n",
       "  </thead>\n",
       "  <tbody>\n",
       "    <tr>\n",
       "      <th>0</th>\n",
       "      <td>14091</td>\n",
       "      <td>1063</td>\n",
       "      <td>0.075438</td>\n",
       "    </tr>\n",
       "    <tr>\n",
       "      <th>1</th>\n",
       "      <td>4808</td>\n",
       "      <td>444</td>\n",
       "      <td>0.092346</td>\n",
       "    </tr>\n",
       "    <tr>\n",
       "      <th>2</th>\n",
       "      <td>2052</td>\n",
       "      <td>194</td>\n",
       "      <td>0.094542</td>\n",
       "    </tr>\n",
       "    <tr>\n",
       "      <th>3</th>\n",
       "      <td>330</td>\n",
       "      <td>27</td>\n",
       "      <td>0.081818</td>\n",
       "    </tr>\n",
       "    <tr>\n",
       "      <th>4</th>\n",
       "      <td>41</td>\n",
       "      <td>4</td>\n",
       "      <td>0.097561</td>\n",
       "    </tr>\n",
       "    <tr>\n",
       "      <th>5</th>\n",
       "      <td>9</td>\n",
       "      <td>0</td>\n",
       "      <td>0.000000</td>\n",
       "    </tr>\n",
       "  </tbody>\n",
       "</table>\n",
       "</div>"
      ],
      "text/plain": [
       "          count   sum      mean\n",
       "children                       \n",
       "0         14091  1063  0.075438\n",
       "1          4808   444  0.092346\n",
       "2          2052   194  0.094542\n",
       "3           330    27  0.081818\n",
       "4            41     4  0.097561\n",
       "5             9     0  0.000000"
      ]
     },
     "execution_count": 29,
     "metadata": {},
     "output_type": "execute_result"
    }
   ],
   "source": [
    "# КОД РЕВЬЮЕРА\n",
    "\n",
    "data.groupby('children')['debt'].agg(['count','sum','mean'])"
   ]
  },
  {
   "cell_type": "code",
   "execution_count": 35,
   "id": "618c46d8",
   "metadata": {},
   "outputs": [
    {
     "data": {
      "text/html": [
       "<div>\n",
       "<style scoped>\n",
       "    .dataframe tbody tr th:only-of-type {\n",
       "        vertical-align: middle;\n",
       "    }\n",
       "\n",
       "    .dataframe tbody tr th {\n",
       "        vertical-align: top;\n",
       "    }\n",
       "\n",
       "    .dataframe thead th {\n",
       "        text-align: right;\n",
       "    }\n",
       "</style>\n",
       "<table border=\"1\" class=\"dataframe\">\n",
       "  <thead>\n",
       "    <tr style=\"text-align: right;\">\n",
       "      <th></th>\n",
       "      <th>count</th>\n",
       "      <th>sum</th>\n",
       "      <th>my_mean</th>\n",
       "    </tr>\n",
       "    <tr>\n",
       "      <th>children</th>\n",
       "      <th></th>\n",
       "      <th></th>\n",
       "      <th></th>\n",
       "    </tr>\n",
       "  </thead>\n",
       "  <tbody>\n",
       "    <tr>\n",
       "      <th>0</th>\n",
       "      <td>14091</td>\n",
       "      <td>1063</td>\n",
       "      <td>7.543822</td>\n",
       "    </tr>\n",
       "    <tr>\n",
       "      <th>1</th>\n",
       "      <td>4808</td>\n",
       "      <td>444</td>\n",
       "      <td>9.234609</td>\n",
       "    </tr>\n",
       "    <tr>\n",
       "      <th>2</th>\n",
       "      <td>2052</td>\n",
       "      <td>194</td>\n",
       "      <td>9.454191</td>\n",
       "    </tr>\n",
       "    <tr>\n",
       "      <th>3</th>\n",
       "      <td>330</td>\n",
       "      <td>27</td>\n",
       "      <td>8.181818</td>\n",
       "    </tr>\n",
       "    <tr>\n",
       "      <th>4</th>\n",
       "      <td>41</td>\n",
       "      <td>4</td>\n",
       "      <td>9.756098</td>\n",
       "    </tr>\n",
       "    <tr>\n",
       "      <th>5</th>\n",
       "      <td>9</td>\n",
       "      <td>0</td>\n",
       "      <td>0.000000</td>\n",
       "    </tr>\n",
       "  </tbody>\n",
       "</table>\n",
       "</div>"
      ],
      "text/plain": [
       "          count   sum   my_mean\n",
       "children                       \n",
       "0         14091  1063  7.543822\n",
       "1          4808   444  9.234609\n",
       "2          2052   194  9.454191\n",
       "3           330    27  8.181818\n",
       "4            41     4  9.756098\n",
       "5             9     0  0.000000"
      ]
     },
     "execution_count": 35,
     "metadata": {},
     "output_type": "execute_result"
    }
   ],
   "source": [
    "# КОД РЕВЬЮЕРА\n",
    "\n",
    "def my_mean(x): return x.mean()*100\n",
    "\n",
    "# В кач-ве агрегирования можно любую функцию брать.\n",
    "data.groupby('children')['debt'].agg(['count', 'sum', my_mean])"
   ]
  },
  {
   "cell_type": "code",
   "execution_count": 36,
   "id": "512cb7f8",
   "metadata": {},
   "outputs": [
    {
     "data": {
      "text/html": [
       "<div>\n",
       "<style scoped>\n",
       "    .dataframe tbody tr th:only-of-type {\n",
       "        vertical-align: middle;\n",
       "    }\n",
       "\n",
       "    .dataframe tbody tr th {\n",
       "        vertical-align: top;\n",
       "    }\n",
       "\n",
       "    .dataframe thead th {\n",
       "        text-align: right;\n",
       "    }\n",
       "</style>\n",
       "<table border=\"1\" class=\"dataframe\">\n",
       "  <thead>\n",
       "    <tr style=\"text-align: right;\">\n",
       "      <th></th>\n",
       "      <th>count</th>\n",
       "      <th>sum</th>\n",
       "      <th>my_mean</th>\n",
       "    </tr>\n",
       "    <tr>\n",
       "      <th>children</th>\n",
       "      <th></th>\n",
       "      <th></th>\n",
       "      <th></th>\n",
       "    </tr>\n",
       "  </thead>\n",
       "  <tbody>\n",
       "    <tr>\n",
       "      <th>0</th>\n",
       "      <td>14091</td>\n",
       "      <td>1063</td>\n",
       "      <td>7.54%</td>\n",
       "    </tr>\n",
       "    <tr>\n",
       "      <th>1</th>\n",
       "      <td>4808</td>\n",
       "      <td>444</td>\n",
       "      <td>9.23%</td>\n",
       "    </tr>\n",
       "    <tr>\n",
       "      <th>2</th>\n",
       "      <td>2052</td>\n",
       "      <td>194</td>\n",
       "      <td>9.45%</td>\n",
       "    </tr>\n",
       "    <tr>\n",
       "      <th>3</th>\n",
       "      <td>330</td>\n",
       "      <td>27</td>\n",
       "      <td>8.18%</td>\n",
       "    </tr>\n",
       "    <tr>\n",
       "      <th>4</th>\n",
       "      <td>41</td>\n",
       "      <td>4</td>\n",
       "      <td>9.76%</td>\n",
       "    </tr>\n",
       "    <tr>\n",
       "      <th>5</th>\n",
       "      <td>9</td>\n",
       "      <td>0</td>\n",
       "      <td>0.00%</td>\n",
       "    </tr>\n",
       "  </tbody>\n",
       "</table>\n",
       "</div>"
      ],
      "text/plain": [
       "          count   sum my_mean\n",
       "children                     \n",
       "0         14091  1063  7.54% \n",
       "1          4808   444  9.23% \n",
       "2          2052   194  9.45% \n",
       "3           330    27  8.18% \n",
       "4            41     4  9.76% \n",
       "5             9     0  0.00% "
      ]
     },
     "execution_count": 36,
     "metadata": {},
     "output_type": "execute_result"
    }
   ],
   "source": [
    "# КОД РЕВЬЮЕРА\n",
    "\n",
    "def my_mean(x): return '{:.2%} '.format(x.mean())\n",
    "\n",
    "data.groupby('children')['debt'].agg(['count', 'sum', my_mean])"
   ]
  },
  {
   "cell_type": "markdown",
   "id": "b284bd48",
   "metadata": {
    "deletable": false,
    "id": "3a6b99ec"
   },
   "source": [
    "**Вывод:** В среднем клиенты с большим количеством детей с меньшей вероятностью погасят кредит вовремя, но это очень незначителный показатель тк разница минимальна."
   ]
  },
  {
   "cell_type": "markdown",
   "id": "f87cda22",
   "metadata": {
    "deletable": false,
    "editable": false,
    "id": "97be82ca"
   },
   "source": [
    "#### 3.2 Есть ли зависимость между семейным положением и возвратом кредита в срок?"
   ]
  },
  {
   "cell_type": "code",
   "execution_count": 25,
   "id": "e08b22ec",
   "metadata": {
    "deletable": false,
    "id": "dc3f7ee8"
   },
   "outputs": [
    {
     "data": {
      "text/html": [
       "<style  type=\"text/css\" >\n",
       "</style><table id=\"T_2aa3d_\" ><thead>    <tr>        <th class=\"blank level0\" ></th>        <th class=\"col_heading level0 col0\" >Общее количество клиентов в группе</th>        <th class=\"col_heading level0 col1\" >Количество должников в группе</th>        <th class=\"col_heading level0 col2\" >Доля дожников</th>    </tr>    <tr>        <th class=\"index_name level0\" >family_status</th>        <th class=\"blank\" ></th>        <th class=\"blank\" ></th>        <th class=\"blank\" ></th>    </tr></thead><tbody>\n",
       "                <tr>\n",
       "                        <th id=\"T_2aa3d_level0_row0\" class=\"row_heading level0 row0\" >вдовец / вдова</th>\n",
       "                        <td id=\"T_2aa3d_row0_col0\" class=\"data row0 col0\" >951</td>\n",
       "                        <td id=\"T_2aa3d_row0_col1\" class=\"data row0 col1\" >63</td>\n",
       "                        <td id=\"T_2aa3d_row0_col2\" class=\"data row0 col2\" >6.62%</td>\n",
       "            </tr>\n",
       "            <tr>\n",
       "                        <th id=\"T_2aa3d_level0_row1\" class=\"row_heading level0 row1\" >в разводе</th>\n",
       "                        <td id=\"T_2aa3d_row1_col0\" class=\"data row1 col0\" >1189</td>\n",
       "                        <td id=\"T_2aa3d_row1_col1\" class=\"data row1 col1\" >84</td>\n",
       "                        <td id=\"T_2aa3d_row1_col2\" class=\"data row1 col2\" >7.06%</td>\n",
       "            </tr>\n",
       "            <tr>\n",
       "                        <th id=\"T_2aa3d_level0_row2\" class=\"row_heading level0 row2\" >женат / замужем</th>\n",
       "                        <td id=\"T_2aa3d_row2_col0\" class=\"data row2 col0\" >12261</td>\n",
       "                        <td id=\"T_2aa3d_row2_col1\" class=\"data row2 col1\" >927</td>\n",
       "                        <td id=\"T_2aa3d_row2_col2\" class=\"data row2 col2\" >7.56%</td>\n",
       "            </tr>\n",
       "            <tr>\n",
       "                        <th id=\"T_2aa3d_level0_row3\" class=\"row_heading level0 row3\" >гражданский брак</th>\n",
       "                        <td id=\"T_2aa3d_row3_col0\" class=\"data row3 col0\" >4134</td>\n",
       "                        <td id=\"T_2aa3d_row3_col1\" class=\"data row3 col1\" >385</td>\n",
       "                        <td id=\"T_2aa3d_row3_col2\" class=\"data row3 col2\" >9.31%</td>\n",
       "            </tr>\n",
       "            <tr>\n",
       "                        <th id=\"T_2aa3d_level0_row4\" class=\"row_heading level0 row4\" >Не женат / не замужем</th>\n",
       "                        <td id=\"T_2aa3d_row4_col0\" class=\"data row4 col0\" >2796</td>\n",
       "                        <td id=\"T_2aa3d_row4_col1\" class=\"data row4 col1\" >273</td>\n",
       "                        <td id=\"T_2aa3d_row4_col2\" class=\"data row4 col2\" >9.76%</td>\n",
       "            </tr>\n",
       "    </tbody></table>"
      ],
      "text/plain": [
       "<pandas.io.formats.style.Styler at 0x7f93e60f48e0>"
      ]
     },
     "metadata": {},
     "output_type": "display_data"
    }
   ],
   "source": [
    "#Сгруппируем клиентов по семейному положению, посчитаем должников в каждой группе, посчитаем общее количество клиентов в группе.\n",
    "family_status = data.groupby('family_status')['debt'].agg({'sum', 'count'})\n",
    "#Посчитем долю должников\n",
    "family_status['Доля дожников'] = family_status['sum'] / family_status['count']\n",
    "\n",
    "#Переменуем столбцы для удобства\n",
    "family_status = family_status.rename(\n",
    " columns={\n",
    "'sum': 'Количество должников в группе',\n",
    "'count': 'Общее количество клиентов в группе'\n",
    " }\n",
    ")\n",
    "\n",
    "family_status = family_status.sort_values(by='Доля дожников')\n",
    "display(family_status.style.format({('Доля дожников'): '{:.2%}'}))"
   ]
  },
  {
   "cell_type": "markdown",
   "id": "162070c0",
   "metadata": {
    "deletable": false,
    "id": "1cef7837"
   },
   "source": [
    "**Вывод:** В категории 'Не женат / не замужем' вероятнсть возврата кредита ниже всего, в категории 'Вдовец / Вдова' вероятнсть возврата кредита выше всего."
   ]
  },
  {
   "cell_type": "markdown",
   "id": "5367f008",
   "metadata": {
    "deletable": false,
    "editable": false,
    "id": "1e8b2fca"
   },
   "source": [
    "#### 3.3 Есть ли зависимость между уровнем дохода и возвратом кредита в срок?"
   ]
  },
  {
   "cell_type": "code",
   "execution_count": 26,
   "id": "1a0256c1",
   "metadata": {},
   "outputs": [
    {
     "name": "stdout",
     "output_type": "stream",
     "text": [
      "142594    1066\n",
      "172357     498\n",
      "118514     384\n",
      "150447     144\n",
      "244123       3\n",
      "          ... \n",
      "66485        1\n",
      "72630        1\n",
      "627639       1\n",
      "125880       1\n",
      "126820       1\n",
      "Name: total_income, Length: 18504, dtype: int64\n"
     ]
    }
   ],
   "source": [
    "print(data['total_income'].value_counts())"
   ]
  },
  {
   "cell_type": "markdown",
   "id": "5a000ef8",
   "metadata": {},
   "source": [
    "Так как в столбце total_income (уровень дохода) много уникальных значений (Количественная переменная) ее надо преобразовать в категориальную переменную. Для этого узнаем минимальное, максимальное, среднее, медианое значение чтобы создать столбец с категориями в виде: \"Уровень дохода от * до *\""
   ]
  },
  {
   "cell_type": "code",
   "execution_count": 27,
   "id": "a073e898",
   "metadata": {
    "deletable": false,
    "id": "cd7e3720"
   },
   "outputs": [
    {
     "name": "stdout",
     "output_type": "stream",
     "text": [
      "Минимальное 20667\n",
      "Максиальное 2265604\n",
      "Среднее 165342.74576906848\n",
      "Медианное 142594.0\n"
     ]
    }
   ],
   "source": [
    "print('Минимальное', data['total_income'].min())\n",
    "print('Максиальное', data['total_income'].max())\n",
    "print('Среднее', data['total_income'].mean())\n",
    "print('Медианное', data['total_income'].median())\n",
    "\n",
    "\n",
    "\n"
   ]
  },
  {
   "cell_type": "markdown",
   "id": "ec2b14e4",
   "metadata": {},
   "source": [
    "Сгрупируем людей по уровню дохода и запишем категорию в столбец total_income_category"
   ]
  },
  {
   "cell_type": "code",
   "execution_count": 28,
   "id": "00fad55c",
   "metadata": {},
   "outputs": [],
   "source": [
    "def categorize_total_income(row):\n",
    "    try:\n",
    "        if row <= 50000:\n",
    "            return 'Уровень дохода - до 50 000'\n",
    "        elif row <= 100000:\n",
    "            return 'Уровень дохода - от 50 000 до 100 000'\n",
    "        elif row <= 150000:\n",
    "            return 'Уровень дохода - от 100 000 до 150 000'       \n",
    "        elif row <= 200000:\n",
    "            return 'Уровень дохода - от 100 000 до 200 000'\n",
    "        elif row <= 250000:\n",
    "            return 'Уровень дохода - от 200 000 до 250 000'\n",
    "        elif row <= 300000:\n",
    "            return 'Уровень дохода - от 250 000 до 300 000'\n",
    "        elif row <= 2300000:\n",
    "            return 'Уровень дохода - от 300 000 до 2 300 000'                \n",
    "    except:\n",
    "        return 'нет категории'\n",
    "\n",
    "data['total_income_category'] = data['total_income'].apply(categorize_total_income)"
   ]
  },
  {
   "cell_type": "code",
   "execution_count": 29,
   "id": "1e99ed94",
   "metadata": {
    "scrolled": true
   },
   "outputs": [
    {
     "data": {
      "text/html": [
       "<style  type=\"text/css\" >\n",
       "</style><table id=\"T_c7b4d_\" ><thead>    <tr>        <th class=\"blank level0\" ></th>        <th class=\"col_heading level0 col0\" >Общее количество клиентов в группе</th>        <th class=\"col_heading level0 col1\" >Количество должников в группе</th>        <th class=\"col_heading level0 col2\" >Доля дожников</th>    </tr>    <tr>        <th class=\"index_name level0\" >total_income_category</th>        <th class=\"blank\" ></th>        <th class=\"blank\" ></th>        <th class=\"blank\" ></th>    </tr></thead><tbody>\n",
       "                <tr>\n",
       "                        <th id=\"T_c7b4d_level0_row0\" class=\"row_heading level0 row0\" >Уровень дохода - до 50 000</th>\n",
       "                        <td id=\"T_c7b4d_row0_col0\" class=\"data row0 col0\" >371</td>\n",
       "                        <td id=\"T_c7b4d_row0_col1\" class=\"data row0 col1\" >23</td>\n",
       "                        <td id=\"T_c7b4d_row0_col2\" class=\"data row0 col2\" >6.20%</td>\n",
       "            </tr>\n",
       "            <tr>\n",
       "                        <th id=\"T_c7b4d_level0_row1\" class=\"row_heading level0 row1\" >Уровень дохода - от 250 000 до 300 000</th>\n",
       "                        <td id=\"T_c7b4d_row1_col0\" class=\"data row1 col0\" >1323</td>\n",
       "                        <td id=\"T_c7b4d_row1_col1\" class=\"data row1 col1\" >88</td>\n",
       "                        <td id=\"T_c7b4d_row1_col2\" class=\"data row1 col2\" >6.65%</td>\n",
       "            </tr>\n",
       "            <tr>\n",
       "                        <th id=\"T_c7b4d_level0_row2\" class=\"row_heading level0 row2\" >Уровень дохода - от 300 000 до 2 300 000</th>\n",
       "                        <td id=\"T_c7b4d_row2_col0\" class=\"data row2 col0\" >1474</td>\n",
       "                        <td id=\"T_c7b4d_row2_col1\" class=\"data row2 col1\" >106</td>\n",
       "                        <td id=\"T_c7b4d_row2_col2\" class=\"data row2 col2\" >7.19%</td>\n",
       "            </tr>\n",
       "            <tr>\n",
       "                        <th id=\"T_c7b4d_level0_row3\" class=\"row_heading level0 row3\" >Уровень дохода - от 200 000 до 250 000</th>\n",
       "                        <td id=\"T_c7b4d_row3_col0\" class=\"data row3 col0\" >2242</td>\n",
       "                        <td id=\"T_c7b4d_row3_col1\" class=\"data row3 col1\" >162</td>\n",
       "                        <td id=\"T_c7b4d_row3_col2\" class=\"data row3 col2\" >7.23%</td>\n",
       "            </tr>\n",
       "            <tr>\n",
       "                        <th id=\"T_c7b4d_level0_row4\" class=\"row_heading level0 row4\" >Уровень дохода - от 50 000 до 100 000</th>\n",
       "                        <td id=\"T_c7b4d_row4_col0\" class=\"data row4 col0\" >4073</td>\n",
       "                        <td id=\"T_c7b4d_row4_col1\" class=\"data row4 col1\" >331</td>\n",
       "                        <td id=\"T_c7b4d_row4_col2\" class=\"data row4 col2\" >8.13%</td>\n",
       "            </tr>\n",
       "            <tr>\n",
       "                        <th id=\"T_c7b4d_level0_row5\" class=\"row_heading level0 row5\" >Уровень дохода - от 100 000 до 200 000</th>\n",
       "                        <td id=\"T_c7b4d_row5_col0\" class=\"data row5 col0\" >4738</td>\n",
       "                        <td id=\"T_c7b4d_row5_col1\" class=\"data row5 col1\" >403</td>\n",
       "                        <td id=\"T_c7b4d_row5_col2\" class=\"data row5 col2\" >8.51%</td>\n",
       "            </tr>\n",
       "            <tr>\n",
       "                        <th id=\"T_c7b4d_level0_row6\" class=\"row_heading level0 row6\" >Уровень дохода - от 100 000 до 150 000</th>\n",
       "                        <td id=\"T_c7b4d_row6_col0\" class=\"data row6 col0\" >7110</td>\n",
       "                        <td id=\"T_c7b4d_row6_col1\" class=\"data row6 col1\" >619</td>\n",
       "                        <td id=\"T_c7b4d_row6_col2\" class=\"data row6 col2\" >8.71%</td>\n",
       "            </tr>\n",
       "    </tbody></table>"
      ],
      "text/plain": [
       "<pandas.io.formats.style.Styler at 0x7f937b5a7460>"
      ]
     },
     "metadata": {},
     "output_type": "display_data"
    }
   ],
   "source": [
    "#Сгруппируем клиентов по уровню дохода, посчитаем должников в каждой группе, посчитаем общее количество клиентов в группе.\n",
    "total_income = data.groupby('total_income_category')['debt'].agg({'sum', 'count'})\n",
    "#Посчитем долю должников\n",
    "total_income['Доля дожников'] = total_income['sum'] / total_income['count']\n",
    "\n",
    "#Переменуем столбцы для удобства\n",
    "total_income = total_income.rename(\n",
    " columns={\n",
    "'sum': 'Количество должников в группе',\n",
    "'count': 'Общее количество клиентов в группе'\n",
    " }\n",
    ")\n",
    "\n",
    "total_income = total_income.sort_values(by='Доля дожников')\n",
    "display(total_income.style.format({('Доля дожников'): '{:.2%}'}))\n",
    " "
   ]
  },
  {
   "cell_type": "markdown",
   "id": "e6760c37",
   "metadata": {
    "deletable": false,
    "id": "e8593def"
   },
   "source": [
    "**Вывод:** Можем сделать непредсказуемый ввывод! Доля должников ниже всего среди людей с доходом до 50 000. А вот самая высокорискованная группа людей для выдачи кредита с доходом от 100 000 до 150 000 рублей."
   ]
  },
  {
   "cell_type": "markdown",
   "id": "51dd5c36",
   "metadata": {
    "deletable": false,
    "editable": false,
    "id": "99ecbd1f"
   },
   "source": [
    "#### 3.4 Как разные цели кредита влияют на его возврат в срок?"
   ]
  },
  {
   "cell_type": "code",
   "execution_count": 30,
   "id": "8392d197",
   "metadata": {
    "deletable": false,
    "id": "2b687290"
   },
   "outputs": [
    {
     "data": {
      "text/html": [
       "<style  type=\"text/css\" >\n",
       "</style><table id=\"T_286d6_\" ><thead>    <tr>        <th class=\"blank level0\" ></th>        <th class=\"col_heading level0 col0\" >Общее количество клиентов в группе</th>        <th class=\"col_heading level0 col1\" >Количество должников в группе</th>        <th class=\"col_heading level0 col2\" >Доля дожников</th>    </tr>    <tr>        <th class=\"index_name level0\" >purpose_category</th>        <th class=\"blank\" ></th>        <th class=\"blank\" ></th>        <th class=\"blank\" ></th>    </tr></thead><tbody>\n",
       "                <tr>\n",
       "                        <th id=\"T_286d6_level0_row0\" class=\"row_heading level0 row0\" >операции с недвижимостью</th>\n",
       "                        <td id=\"T_286d6_row0_col0\" class=\"data row0 col0\" >10751</td>\n",
       "                        <td id=\"T_286d6_row0_col1\" class=\"data row0 col1\" >780</td>\n",
       "                        <td id=\"T_286d6_row0_col2\" class=\"data row0 col2\" >7.26%</td>\n",
       "            </tr>\n",
       "            <tr>\n",
       "                        <th id=\"T_286d6_level0_row1\" class=\"row_heading level0 row1\" >проведение свадьбы</th>\n",
       "                        <td id=\"T_286d6_row1_col0\" class=\"data row1 col0\" >2313</td>\n",
       "                        <td id=\"T_286d6_row1_col1\" class=\"data row1 col1\" >183</td>\n",
       "                        <td id=\"T_286d6_row1_col2\" class=\"data row1 col2\" >7.91%</td>\n",
       "            </tr>\n",
       "            <tr>\n",
       "                        <th id=\"T_286d6_level0_row2\" class=\"row_heading level0 row2\" >получение образования</th>\n",
       "                        <td id=\"T_286d6_row2_col0\" class=\"data row2 col0\" >3988</td>\n",
       "                        <td id=\"T_286d6_row2_col1\" class=\"data row2 col1\" >369</td>\n",
       "                        <td id=\"T_286d6_row2_col2\" class=\"data row2 col2\" >9.25%</td>\n",
       "            </tr>\n",
       "            <tr>\n",
       "                        <th id=\"T_286d6_level0_row3\" class=\"row_heading level0 row3\" >операции с автомобилем</th>\n",
       "                        <td id=\"T_286d6_row3_col0\" class=\"data row3 col0\" >4279</td>\n",
       "                        <td id=\"T_286d6_row3_col1\" class=\"data row3 col1\" >400</td>\n",
       "                        <td id=\"T_286d6_row3_col2\" class=\"data row3 col2\" >9.35%</td>\n",
       "            </tr>\n",
       "    </tbody></table>"
      ],
      "text/plain": [
       "<pandas.io.formats.style.Styler at 0x7f93798c1550>"
      ]
     },
     "metadata": {},
     "output_type": "display_data"
    }
   ],
   "source": [
    "# Ваш код будет здесь. Вы можете создавать новые ячейки.\n",
    "\n",
    "#Сгруппируем клиентов по уровню дохода, посчитаем должников в каждой группе, посчитаем общее количество клиентов в группе.\n",
    "total_income = data.groupby('purpose_category')['debt'].agg({'sum', 'count'})\n",
    "#Посчитем долю должников\n",
    "total_income['Доля дожников'] = total_income['sum'] / total_income['count']\n",
    "\n",
    "#Переменуем столбцы для удобства\n",
    "total_income = total_income.rename(\n",
    " columns={\n",
    "'sum': 'Количество должников в группе',\n",
    "'count': 'Общее количество клиентов в группе'\n",
    " }\n",
    ")\n",
    "\n",
    "total_income = total_income.sort_values(by='Доля дожников')\n",
    "display(total_income.style.format({('Доля дожников'): '{:.2%}'}))"
   ]
  },
  {
   "cell_type": "markdown",
   "id": "92f02e25",
   "metadata": {
    "deletable": false,
    "id": "b4bb2ce6"
   },
   "source": [
    "**Вывод:** Доля дожников среди людей которые берут кредит для операции с автомобилем самая высокая. Доля дожников среди людей которые берут кредит для операции с недвижимостью самая низкая."
   ]
  },
  {
   "cell_type": "markdown",
   "id": "a442ee11",
   "metadata": {
    "deletable": false,
    "editable": false,
    "id": "09c3ac4c"
   },
   "source": [
    "#### 3.5 Приведите возможные причины появления пропусков в исходных данных."
   ]
  },
  {
   "cell_type": "markdown",
   "id": "a51ffee8",
   "metadata": {
    "deletable": false,
    "id": "9da2ceda"
   },
   "source": [
    "*Ответ:* Они либо технические, либо из-за человеческого фактора."
   ]
  },
  {
   "cell_type": "markdown",
   "id": "f5a99659",
   "metadata": {
    "deletable": false,
    "editable": false,
    "id": "7b0487d6"
   },
   "source": [
    "#### 3.6 Объясните, почему заполнить пропуски медианным значением — лучшее решение для количественных переменных."
   ]
  },
  {
   "cell_type": "markdown",
   "id": "c5572280",
   "metadata": {
    "deletable": false,
    "id": "7ecf2b8e"
   },
   "source": [
    "*Ответ:* Медианное значение корректно характеризует данные, когда некоторые значения сильно выделяются среди большинства."
   ]
  },
  {
   "cell_type": "markdown",
   "id": "6ed2d892",
   "metadata": {
    "deletable": false,
    "editable": false,
    "id": "6db5255a"
   },
   "source": [
    "### Шаг 4: общий вывод."
   ]
  },
  {
   "cell_type": "markdown",
   "id": "2e1ae3d4",
   "metadata": {
    "deletable": false,
    "id": "bad65432"
   },
   "source": [
    "Напишите ваш общий вывод.\n",
    "\n",
    "Для выдачи кредита существуют позитивные и негативные признаки\n",
    "\n",
    "Позитивные признаки - Доля дожников\n",
    "Заемщик вдовец / вдова - 6.62% \n",
    "Доход заемщика до 50 000 - 6.20%\n",
    "Заещик берет кредит для операции с недвижимостью - 7.24%\n",
    "У заемщика нет детей - 7.51%\n",
    "\n",
    "Неативные признаки \n",
    "Заемщик не женат / не замужем - 9.75%\n",
    "Доход заемщика от 100 000 до 200 000 - 8.93%\n",
    "Заемщик берет кредит для операции с автомобилем - 9.33%\n",
    "У заемщика 4 детей - 9.76%"
   ]
  },
  {
   "cell_type": "code",
   "execution_count": 31,
   "id": "2ff1ea7f",
   "metadata": {},
   "outputs": [],
   "source": [
    "result_positiv = {\n",
    "  'Позитивные признаки': \n",
    "  {0: 'Заемщик вдовец',\n",
    "   1: 'Доход заемщика',\n",
    "   2: 'Операции с недвижимостью',\n",
    "   3: 'У заемщика нет детей'},   \n",
    "   'Доля дожников':\n",
    "  {0: \"6.62%\",\n",
    "   1: \"6.20%\",\n",
    "   2: \"7.24%\",\n",
    "   3: \"7.51%\"} \n",
    "}\n",
    "\n",
    "result_negativ = {\n",
    "  'Неативные признаки':\n",
    "  {0: 'Заемщик не женат',\n",
    "   1: 'Доход заемщика от 100 000 до 200 000',\n",
    "   2: 'Операция с автомобилем',\n",
    "   3: 'У заемщика 4 детей'},\n",
    "  'Доля дожников':\n",
    "  {0: '9.75%',\n",
    "   1: '8.93%',\n",
    "   2: '9.33%',\n",
    "   3: '9.76%'}  \n",
    "}\n",
    "\n",
    "dfpositiv = pd.DataFrame(result_positiv)\n",
    "dfnegativ = pd.DataFrame(result_negativ)\n",
    "\n",
    "\n"
   ]
  },
  {
   "cell_type": "code",
   "execution_count": 32,
   "id": "c79e2387",
   "metadata": {},
   "outputs": [
    {
     "data": {
      "text/html": [
       "<div>\n",
       "<style scoped>\n",
       "    .dataframe tbody tr th:only-of-type {\n",
       "        vertical-align: middle;\n",
       "    }\n",
       "\n",
       "    .dataframe tbody tr th {\n",
       "        vertical-align: top;\n",
       "    }\n",
       "\n",
       "    .dataframe thead th {\n",
       "        text-align: right;\n",
       "    }\n",
       "</style>\n",
       "<table border=\"1\" class=\"dataframe\">\n",
       "  <thead>\n",
       "    <tr style=\"text-align: right;\">\n",
       "      <th></th>\n",
       "      <th>Позитивные признаки</th>\n",
       "      <th>Доля дожников</th>\n",
       "    </tr>\n",
       "  </thead>\n",
       "  <tbody>\n",
       "    <tr>\n",
       "      <th>0</th>\n",
       "      <td>Заемщик вдовец</td>\n",
       "      <td>6.62%</td>\n",
       "    </tr>\n",
       "    <tr>\n",
       "      <th>1</th>\n",
       "      <td>Доход заемщика</td>\n",
       "      <td>6.20%</td>\n",
       "    </tr>\n",
       "    <tr>\n",
       "      <th>2</th>\n",
       "      <td>Операции с недвижимостью</td>\n",
       "      <td>7.24%</td>\n",
       "    </tr>\n",
       "    <tr>\n",
       "      <th>3</th>\n",
       "      <td>У заемщика нет детей</td>\n",
       "      <td>7.51%</td>\n",
       "    </tr>\n",
       "  </tbody>\n",
       "</table>\n",
       "</div>"
      ],
      "text/plain": [
       "        Позитивные признаки Доля дожников\n",
       "0            Заемщик вдовец         6.62%\n",
       "1            Доход заемщика         6.20%\n",
       "2  Операции с недвижимостью         7.24%\n",
       "3      У заемщика нет детей         7.51%"
      ]
     },
     "execution_count": 32,
     "metadata": {},
     "output_type": "execute_result"
    }
   ],
   "source": [
    "dfpositiv"
   ]
  },
  {
   "cell_type": "code",
   "execution_count": 33,
   "id": "3bfa132c",
   "metadata": {},
   "outputs": [
    {
     "data": {
      "text/html": [
       "<div>\n",
       "<style scoped>\n",
       "    .dataframe tbody tr th:only-of-type {\n",
       "        vertical-align: middle;\n",
       "    }\n",
       "\n",
       "    .dataframe tbody tr th {\n",
       "        vertical-align: top;\n",
       "    }\n",
       "\n",
       "    .dataframe thead th {\n",
       "        text-align: right;\n",
       "    }\n",
       "</style>\n",
       "<table border=\"1\" class=\"dataframe\">\n",
       "  <thead>\n",
       "    <tr style=\"text-align: right;\">\n",
       "      <th></th>\n",
       "      <th>Неативные признаки</th>\n",
       "      <th>Доля дожников</th>\n",
       "    </tr>\n",
       "  </thead>\n",
       "  <tbody>\n",
       "    <tr>\n",
       "      <th>0</th>\n",
       "      <td>Заемщик не женат</td>\n",
       "      <td>9.75%</td>\n",
       "    </tr>\n",
       "    <tr>\n",
       "      <th>1</th>\n",
       "      <td>Доход заемщика от 100 000 до 200 000</td>\n",
       "      <td>8.93%</td>\n",
       "    </tr>\n",
       "    <tr>\n",
       "      <th>2</th>\n",
       "      <td>Операция с автомобилем</td>\n",
       "      <td>9.33%</td>\n",
       "    </tr>\n",
       "    <tr>\n",
       "      <th>3</th>\n",
       "      <td>У заемщика 4 детей</td>\n",
       "      <td>9.76%</td>\n",
       "    </tr>\n",
       "  </tbody>\n",
       "</table>\n",
       "</div>"
      ],
      "text/plain": [
       "                     Неативные признаки Доля дожников\n",
       "0                      Заемщик не женат         9.75%\n",
       "1  Доход заемщика от 100 000 до 200 000         8.93%\n",
       "2                Операция с автомобилем         9.33%\n",
       "3                    У заемщика 4 детей         9.76%"
      ]
     },
     "execution_count": 33,
     "metadata": {},
     "output_type": "execute_result"
    }
   ],
   "source": [
    "dfnegativ"
   ]
  },
  {
   "cell_type": "code",
   "execution_count": null,
   "id": "b4949f37",
   "metadata": {},
   "outputs": [],
   "source": []
  }
 ],
 "metadata": {
  "ExecuteTimeLog": [
   {
    "duration": 45,
    "start_time": "2023-02-07T18:27:48.770Z"
   },
   {
    "duration": 702,
    "start_time": "2023-02-07T18:27:55.101Z"
   },
   {
    "duration": 22,
    "start_time": "2023-02-07T18:27:55.805Z"
   },
   {
    "duration": 14,
    "start_time": "2023-02-07T18:27:55.828Z"
   },
   {
    "duration": 9,
    "start_time": "2023-02-07T18:27:55.844Z"
   },
   {
    "duration": 45,
    "start_time": "2023-02-07T18:27:55.855Z"
   },
   {
    "duration": 3,
    "start_time": "2023-02-07T18:27:55.902Z"
   },
   {
    "duration": 23,
    "start_time": "2023-02-07T18:27:55.906Z"
   },
   {
    "duration": 5,
    "start_time": "2023-02-07T18:27:55.930Z"
   },
   {
    "duration": 12,
    "start_time": "2023-02-07T18:27:55.937Z"
   },
   {
    "duration": 5,
    "start_time": "2023-02-07T18:27:55.952Z"
   },
   {
    "duration": 48,
    "start_time": "2023-02-07T18:27:55.959Z"
   },
   {
    "duration": 12,
    "start_time": "2023-02-07T18:27:56.010Z"
   },
   {
    "duration": 13,
    "start_time": "2023-02-07T18:27:56.024Z"
   },
   {
    "duration": 34,
    "start_time": "2023-02-07T18:27:56.039Z"
   },
   {
    "duration": 32,
    "start_time": "2023-02-07T18:27:56.075Z"
   },
   {
    "duration": 18,
    "start_time": "2023-02-07T18:27:56.109Z"
   },
   {
    "duration": 4,
    "start_time": "2023-02-07T18:27:56.129Z"
   },
   {
    "duration": 18,
    "start_time": "2023-02-07T18:27:56.135Z"
   },
   {
    "duration": 18,
    "start_time": "2023-02-07T18:27:56.155Z"
   },
   {
    "duration": 16,
    "start_time": "2023-02-07T18:27:56.176Z"
   },
   {
    "duration": 23,
    "start_time": "2023-02-07T18:28:05.489Z"
   },
   {
    "duration": 32,
    "start_time": "2023-02-07T18:40:07.046Z"
   },
   {
    "duration": 29,
    "start_time": "2023-02-07T18:43:02.656Z"
   },
   {
    "duration": 29,
    "start_time": "2023-02-07T18:46:18.240Z"
   },
   {
    "duration": 31,
    "start_time": "2023-02-07T18:47:46.494Z"
   },
   {
    "duration": 11,
    "start_time": "2023-02-07T18:50:52.152Z"
   },
   {
    "duration": 30,
    "start_time": "2023-02-07T18:51:32.386Z"
   },
   {
    "duration": 35,
    "start_time": "2023-02-07T18:52:42.151Z"
   },
   {
    "duration": 29,
    "start_time": "2023-02-07T18:53:19.751Z"
   },
   {
    "duration": 13,
    "start_time": "2023-02-07T18:58:26.121Z"
   },
   {
    "duration": 16,
    "start_time": "2023-02-07T18:59:56.278Z"
   },
   {
    "duration": 16,
    "start_time": "2023-02-07T19:10:53.497Z"
   },
   {
    "duration": 7,
    "start_time": "2023-02-07T19:12:24.814Z"
   },
   {
    "duration": 7,
    "start_time": "2023-02-07T19:12:42.469Z"
   },
   {
    "duration": 7,
    "start_time": "2023-02-07T19:21:38.226Z"
   },
   {
    "duration": 16,
    "start_time": "2023-02-07T19:24:31.554Z"
   },
   {
    "duration": 9,
    "start_time": "2023-02-07T19:29:04.761Z"
   },
   {
    "duration": 10,
    "start_time": "2023-02-07T19:29:28.271Z"
   },
   {
    "duration": 12,
    "start_time": "2023-02-07T19:32:57.995Z"
   },
   {
    "duration": 29,
    "start_time": "2023-02-07T19:33:07.334Z"
   },
   {
    "duration": 4,
    "start_time": "2023-02-07T19:33:55.823Z"
   },
   {
    "duration": 9,
    "start_time": "2023-02-07T19:33:57.332Z"
   },
   {
    "duration": 26,
    "start_time": "2023-02-07T19:34:07.063Z"
   },
   {
    "duration": 34,
    "start_time": "2023-02-07T19:34:34.655Z"
   },
   {
    "duration": 11,
    "start_time": "2023-02-07T19:35:01.987Z"
   },
   {
    "duration": 14,
    "start_time": "2023-02-07T19:36:40.794Z"
   },
   {
    "duration": 10,
    "start_time": "2023-02-07T19:36:55.253Z"
   },
   {
    "duration": 12,
    "start_time": "2023-02-07T19:38:00.348Z"
   },
   {
    "duration": 10,
    "start_time": "2023-02-07T19:39:44.362Z"
   },
   {
    "duration": 13,
    "start_time": "2023-02-07T19:41:08.876Z"
   },
   {
    "duration": 10,
    "start_time": "2023-02-07T19:41:16.869Z"
   },
   {
    "duration": 13,
    "start_time": "2023-02-07T19:41:29.568Z"
   },
   {
    "duration": 9,
    "start_time": "2023-02-07T19:42:00.049Z"
   },
   {
    "duration": 19,
    "start_time": "2023-02-07T19:42:37.234Z"
   },
   {
    "duration": 9,
    "start_time": "2023-02-07T19:42:55.054Z"
   },
   {
    "duration": 13,
    "start_time": "2023-02-07T19:43:27.084Z"
   },
   {
    "duration": 11,
    "start_time": "2023-02-07T19:44:07.081Z"
   },
   {
    "duration": 11,
    "start_time": "2023-02-07T19:44:19.218Z"
   },
   {
    "duration": 8,
    "start_time": "2023-02-07T19:44:24.796Z"
   },
   {
    "duration": 14,
    "start_time": "2023-02-07T19:46:51.133Z"
   },
   {
    "duration": 8,
    "start_time": "2023-02-07T19:47:06.545Z"
   },
   {
    "duration": 46,
    "start_time": "2023-02-08T08:20:17.460Z"
   },
   {
    "duration": 663,
    "start_time": "2023-02-08T08:20:36.987Z"
   },
   {
    "duration": 19,
    "start_time": "2023-02-08T08:20:37.652Z"
   },
   {
    "duration": 13,
    "start_time": "2023-02-08T08:20:37.672Z"
   },
   {
    "duration": 9,
    "start_time": "2023-02-08T08:20:37.686Z"
   },
   {
    "duration": 32,
    "start_time": "2023-02-08T08:20:37.696Z"
   },
   {
    "duration": 3,
    "start_time": "2023-02-08T08:20:37.743Z"
   },
   {
    "duration": 11,
    "start_time": "2023-02-08T08:20:37.747Z"
   },
   {
    "duration": 18,
    "start_time": "2023-02-08T08:20:37.759Z"
   },
   {
    "duration": 10,
    "start_time": "2023-02-08T08:20:37.778Z"
   },
   {
    "duration": 5,
    "start_time": "2023-02-08T08:20:37.790Z"
   },
   {
    "duration": 33,
    "start_time": "2023-02-08T08:20:37.796Z"
   },
   {
    "duration": 14,
    "start_time": "2023-02-08T08:20:37.830Z"
   },
   {
    "duration": 4,
    "start_time": "2023-02-08T08:20:37.846Z"
   },
   {
    "duration": 13,
    "start_time": "2023-02-08T08:20:37.851Z"
   },
   {
    "duration": 19,
    "start_time": "2023-02-08T08:20:37.866Z"
   },
   {
    "duration": 15,
    "start_time": "2023-02-08T08:20:37.886Z"
   },
   {
    "duration": 3,
    "start_time": "2023-02-08T08:20:37.903Z"
   },
   {
    "duration": 15,
    "start_time": "2023-02-08T08:20:37.908Z"
   },
   {
    "duration": 23,
    "start_time": "2023-02-08T08:20:37.924Z"
   },
   {
    "duration": 18,
    "start_time": "2023-02-08T08:20:37.949Z"
   },
   {
    "duration": 19,
    "start_time": "2023-02-08T08:20:37.968Z"
   },
   {
    "duration": 30,
    "start_time": "2023-02-08T08:20:37.989Z"
   },
   {
    "duration": 7,
    "start_time": "2023-02-08T08:21:27.434Z"
   },
   {
    "duration": 72,
    "start_time": "2023-02-08T08:49:42.020Z"
   },
   {
    "duration": 14,
    "start_time": "2023-02-08T08:49:42.094Z"
   },
   {
    "duration": 17,
    "start_time": "2023-02-08T08:49:42.109Z"
   },
   {
    "duration": 19,
    "start_time": "2023-02-08T08:49:42.128Z"
   },
   {
    "duration": 33,
    "start_time": "2023-02-08T08:49:42.149Z"
   },
   {
    "duration": 3,
    "start_time": "2023-02-08T08:49:42.183Z"
   },
   {
    "duration": 10,
    "start_time": "2023-02-08T08:49:42.188Z"
   },
   {
    "duration": 10,
    "start_time": "2023-02-08T08:49:42.199Z"
   },
   {
    "duration": 10,
    "start_time": "2023-02-08T08:49:42.210Z"
   },
   {
    "duration": 29,
    "start_time": "2023-02-08T08:49:42.221Z"
   },
   {
    "duration": 32,
    "start_time": "2023-02-08T08:49:42.280Z"
   },
   {
    "duration": 12,
    "start_time": "2023-02-08T08:49:42.314Z"
   },
   {
    "duration": 4,
    "start_time": "2023-02-08T08:49:42.327Z"
   },
   {
    "duration": 14,
    "start_time": "2023-02-08T08:49:42.333Z"
   },
   {
    "duration": 16,
    "start_time": "2023-02-08T08:49:42.349Z"
   },
   {
    "duration": 15,
    "start_time": "2023-02-08T08:49:42.367Z"
   },
   {
    "duration": 3,
    "start_time": "2023-02-08T08:49:42.384Z"
   },
   {
    "duration": 11,
    "start_time": "2023-02-08T08:49:42.388Z"
   },
   {
    "duration": 5,
    "start_time": "2023-02-08T08:49:42.401Z"
   },
   {
    "duration": 6,
    "start_time": "2023-02-08T08:49:42.407Z"
   },
   {
    "duration": 33,
    "start_time": "2023-02-08T08:49:42.414Z"
   },
   {
    "duration": 16,
    "start_time": "2023-02-08T08:49:42.518Z"
   },
   {
    "duration": 67,
    "start_time": "2023-02-08T08:50:40.567Z"
   },
   {
    "duration": 14,
    "start_time": "2023-02-08T08:50:40.636Z"
   },
   {
    "duration": 14,
    "start_time": "2023-02-08T08:50:40.652Z"
   },
   {
    "duration": 9,
    "start_time": "2023-02-08T08:50:40.668Z"
   },
   {
    "duration": 31,
    "start_time": "2023-02-08T08:50:40.678Z"
   },
   {
    "duration": 3,
    "start_time": "2023-02-08T08:50:40.711Z"
   },
   {
    "duration": 33,
    "start_time": "2023-02-08T08:50:40.715Z"
   },
   {
    "duration": 14,
    "start_time": "2023-02-08T08:50:40.749Z"
   },
   {
    "duration": 10,
    "start_time": "2023-02-08T08:50:40.764Z"
   },
   {
    "duration": 4,
    "start_time": "2023-02-08T08:50:40.776Z"
   },
   {
    "duration": 30,
    "start_time": "2023-02-08T08:50:40.781Z"
   },
   {
    "duration": 9,
    "start_time": "2023-02-08T08:50:40.813Z"
   },
   {
    "duration": 3,
    "start_time": "2023-02-08T08:50:40.823Z"
   },
   {
    "duration": 24,
    "start_time": "2023-02-08T08:50:40.827Z"
   },
   {
    "duration": 19,
    "start_time": "2023-02-08T08:50:40.852Z"
   },
   {
    "duration": 15,
    "start_time": "2023-02-08T08:50:40.873Z"
   },
   {
    "duration": 3,
    "start_time": "2023-02-08T08:50:40.890Z"
   },
   {
    "duration": 14,
    "start_time": "2023-02-08T08:50:40.895Z"
   },
   {
    "duration": 5,
    "start_time": "2023-02-08T08:50:40.911Z"
   },
   {
    "duration": 7,
    "start_time": "2023-02-08T08:50:40.917Z"
   },
   {
    "duration": 12,
    "start_time": "2023-02-08T08:50:40.944Z"
   },
   {
    "duration": 17,
    "start_time": "2023-02-08T08:50:40.957Z"
   },
   {
    "duration": 7,
    "start_time": "2023-02-08T08:51:00.881Z"
   },
   {
    "duration": 7,
    "start_time": "2023-02-08T08:51:53.301Z"
   },
   {
    "duration": 8,
    "start_time": "2023-02-08T08:57:38.052Z"
   },
   {
    "duration": 10,
    "start_time": "2023-02-08T09:16:48.702Z"
   },
   {
    "duration": 10,
    "start_time": "2023-02-08T09:17:36.332Z"
   },
   {
    "duration": 9,
    "start_time": "2023-02-08T09:17:45.694Z"
   },
   {
    "duration": 7,
    "start_time": "2023-02-08T09:17:59.902Z"
   },
   {
    "duration": 534,
    "start_time": "2023-02-09T05:21:49.075Z"
   },
   {
    "duration": 23,
    "start_time": "2023-02-09T05:21:49.611Z"
   },
   {
    "duration": 13,
    "start_time": "2023-02-09T05:21:49.636Z"
   },
   {
    "duration": 9,
    "start_time": "2023-02-09T05:21:49.651Z"
   },
   {
    "duration": 53,
    "start_time": "2023-02-09T05:21:49.661Z"
   },
   {
    "duration": 3,
    "start_time": "2023-02-09T05:21:49.716Z"
   },
   {
    "duration": 9,
    "start_time": "2023-02-09T05:21:49.720Z"
   },
   {
    "duration": 10,
    "start_time": "2023-02-09T05:21:49.731Z"
   },
   {
    "duration": 8,
    "start_time": "2023-02-09T05:21:49.742Z"
   },
   {
    "duration": 4,
    "start_time": "2023-02-09T05:21:49.754Z"
   },
   {
    "duration": 30,
    "start_time": "2023-02-09T05:21:49.759Z"
   },
   {
    "duration": 9,
    "start_time": "2023-02-09T05:21:49.809Z"
   },
   {
    "duration": 4,
    "start_time": "2023-02-09T05:21:49.819Z"
   },
   {
    "duration": 11,
    "start_time": "2023-02-09T05:21:49.825Z"
   },
   {
    "duration": 29,
    "start_time": "2023-02-09T05:21:49.837Z"
   },
   {
    "duration": 15,
    "start_time": "2023-02-09T05:21:49.868Z"
   },
   {
    "duration": 3,
    "start_time": "2023-02-09T05:21:49.884Z"
   },
   {
    "duration": 25,
    "start_time": "2023-02-09T05:21:49.889Z"
   },
   {
    "duration": 5,
    "start_time": "2023-02-09T05:21:49.915Z"
   },
   {
    "duration": 3,
    "start_time": "2023-02-09T05:21:49.921Z"
   },
   {
    "duration": 16,
    "start_time": "2023-02-09T05:21:49.925Z"
   },
   {
    "duration": 18,
    "start_time": "2023-02-09T05:21:49.942Z"
   },
   {
    "duration": 6,
    "start_time": "2023-02-09T05:21:49.962Z"
   },
   {
    "duration": 10,
    "start_time": "2023-02-09T05:21:49.969Z"
   },
   {
    "duration": 31,
    "start_time": "2023-02-09T05:21:49.980Z"
   },
   {
    "duration": 53,
    "start_time": "2023-02-09T09:01:30.074Z"
   },
   {
    "duration": 776,
    "start_time": "2023-02-09T09:01:37.786Z"
   },
   {
    "duration": 23,
    "start_time": "2023-02-09T09:01:38.564Z"
   },
   {
    "duration": 16,
    "start_time": "2023-02-09T09:01:38.589Z"
   },
   {
    "duration": 10,
    "start_time": "2023-02-09T09:01:38.607Z"
   },
   {
    "duration": 41,
    "start_time": "2023-02-09T09:01:38.619Z"
   },
   {
    "duration": 4,
    "start_time": "2023-02-09T09:01:38.661Z"
   },
   {
    "duration": 19,
    "start_time": "2023-02-09T09:01:38.666Z"
   },
   {
    "duration": 9,
    "start_time": "2023-02-09T09:01:38.687Z"
   },
   {
    "duration": 11,
    "start_time": "2023-02-09T09:01:38.698Z"
   },
   {
    "duration": 26,
    "start_time": "2023-02-09T09:01:38.711Z"
   },
   {
    "duration": 42,
    "start_time": "2023-02-09T09:01:38.739Z"
   },
   {
    "duration": 10,
    "start_time": "2023-02-09T09:01:38.783Z"
   },
   {
    "duration": 4,
    "start_time": "2023-02-09T09:01:38.795Z"
   },
   {
    "duration": 28,
    "start_time": "2023-02-09T09:01:38.801Z"
   },
   {
    "duration": 20,
    "start_time": "2023-02-09T09:01:38.831Z"
   },
   {
    "duration": 23,
    "start_time": "2023-02-09T09:01:38.853Z"
   },
   {
    "duration": 4,
    "start_time": "2023-02-09T09:01:38.877Z"
   },
   {
    "duration": 13,
    "start_time": "2023-02-09T09:01:38.883Z"
   },
   {
    "duration": 6,
    "start_time": "2023-02-09T09:01:38.922Z"
   },
   {
    "duration": 11,
    "start_time": "2023-02-09T09:01:38.930Z"
   },
   {
    "duration": 16,
    "start_time": "2023-02-09T09:01:38.943Z"
   },
   {
    "duration": 18,
    "start_time": "2023-02-09T09:01:58.222Z"
   },
   {
    "duration": 15,
    "start_time": "2023-02-09T09:02:04.778Z"
   },
   {
    "duration": 16,
    "start_time": "2023-02-09T09:02:24.387Z"
   },
   {
    "duration": 37,
    "start_time": "2023-02-09T09:16:30.112Z"
   },
   {
    "duration": 14,
    "start_time": "2023-02-09T09:18:40.599Z"
   },
   {
    "duration": 11,
    "start_time": "2023-02-09T09:18:50.725Z"
   },
   {
    "duration": 13,
    "start_time": "2023-02-09T09:25:00.231Z"
   },
   {
    "duration": 14,
    "start_time": "2023-02-09T09:26:30.970Z"
   },
   {
    "duration": 13,
    "start_time": "2023-02-09T09:26:50.231Z"
   },
   {
    "duration": 51,
    "start_time": "2023-02-09T09:27:03.079Z"
   },
   {
    "duration": 55,
    "start_time": "2023-02-09T09:39:47.164Z"
   },
   {
    "duration": 12,
    "start_time": "2023-02-09T09:39:52.673Z"
   },
   {
    "duration": 55,
    "start_time": "2023-02-12T15:59:53.757Z"
   },
   {
    "duration": 838,
    "start_time": "2023-02-12T16:00:02.230Z"
   },
   {
    "duration": 38,
    "start_time": "2023-02-12T16:00:03.071Z"
   },
   {
    "duration": 36,
    "start_time": "2023-02-12T16:00:03.111Z"
   },
   {
    "duration": 15,
    "start_time": "2023-02-12T16:00:03.150Z"
   },
   {
    "duration": 49,
    "start_time": "2023-02-12T16:00:03.167Z"
   },
   {
    "duration": 0,
    "start_time": "2023-02-12T16:00:03.219Z"
   },
   {
    "duration": 0,
    "start_time": "2023-02-12T16:00:03.220Z"
   },
   {
    "duration": 0,
    "start_time": "2023-02-12T16:00:03.221Z"
   },
   {
    "duration": 0,
    "start_time": "2023-02-12T16:00:03.222Z"
   },
   {
    "duration": 1,
    "start_time": "2023-02-12T16:00:03.223Z"
   },
   {
    "duration": 0,
    "start_time": "2023-02-12T16:00:03.225Z"
   },
   {
    "duration": 0,
    "start_time": "2023-02-12T16:00:03.227Z"
   },
   {
    "duration": 1,
    "start_time": "2023-02-12T16:00:03.228Z"
   },
   {
    "duration": 0,
    "start_time": "2023-02-12T16:00:03.230Z"
   },
   {
    "duration": 0,
    "start_time": "2023-02-12T16:00:03.232Z"
   },
   {
    "duration": 0,
    "start_time": "2023-02-12T16:00:03.233Z"
   },
   {
    "duration": 0,
    "start_time": "2023-02-12T16:00:03.235Z"
   },
   {
    "duration": 0,
    "start_time": "2023-02-12T16:00:03.238Z"
   },
   {
    "duration": 0,
    "start_time": "2023-02-12T16:00:03.240Z"
   },
   {
    "duration": 0,
    "start_time": "2023-02-12T16:00:03.242Z"
   },
   {
    "duration": 0,
    "start_time": "2023-02-12T16:00:03.243Z"
   },
   {
    "duration": 0,
    "start_time": "2023-02-12T16:00:03.245Z"
   },
   {
    "duration": 512,
    "start_time": "2023-02-12T16:00:10.560Z"
   },
   {
    "duration": 6,
    "start_time": "2023-02-12T16:02:02.740Z"
   },
   {
    "duration": 5,
    "start_time": "2023-02-12T16:02:27.506Z"
   },
   {
    "duration": 6,
    "start_time": "2023-02-12T16:04:04.918Z"
   },
   {
    "duration": 8,
    "start_time": "2023-02-12T16:05:34.021Z"
   },
   {
    "duration": 12,
    "start_time": "2023-02-12T16:05:38.869Z"
   },
   {
    "duration": 845,
    "start_time": "2023-02-12T16:08:10.394Z"
   },
   {
    "duration": 12,
    "start_time": "2023-02-12T16:08:31.273Z"
   },
   {
    "duration": 22,
    "start_time": "2023-02-12T16:09:16.380Z"
   },
   {
    "duration": 7,
    "start_time": "2023-02-12T16:11:12.813Z"
   },
   {
    "duration": 10,
    "start_time": "2023-02-12T16:17:17.616Z"
   },
   {
    "duration": 17,
    "start_time": "2023-02-12T16:17:57.716Z"
   },
   {
    "duration": 20,
    "start_time": "2023-02-12T16:18:16.549Z"
   },
   {
    "duration": 16,
    "start_time": "2023-02-12T16:20:39.771Z"
   },
   {
    "duration": 4,
    "start_time": "2023-02-12T16:20:59.144Z"
   },
   {
    "duration": 12,
    "start_time": "2023-02-12T16:21:00.665Z"
   },
   {
    "duration": 18,
    "start_time": "2023-02-12T16:21:09.669Z"
   },
   {
    "duration": 8,
    "start_time": "2023-02-12T16:50:10.199Z"
   },
   {
    "duration": 7,
    "start_time": "2023-02-12T16:50:13.032Z"
   },
   {
    "duration": 7,
    "start_time": "2023-02-12T16:50:14.465Z"
   },
   {
    "duration": 44,
    "start_time": "2023-02-12T17:00:06.539Z"
   },
   {
    "duration": 7,
    "start_time": "2023-02-12T17:00:08.275Z"
   },
   {
    "duration": 4,
    "start_time": "2023-02-12T17:01:55.012Z"
   },
   {
    "duration": 4,
    "start_time": "2023-02-12T17:02:24.661Z"
   },
   {
    "duration": 8,
    "start_time": "2023-02-12T17:02:27.158Z"
   },
   {
    "duration": 40,
    "start_time": "2023-02-12T17:13:09.513Z"
   },
   {
    "duration": 4,
    "start_time": "2023-02-12T17:14:18.532Z"
   },
   {
    "duration": 11,
    "start_time": "2023-02-12T17:14:49.340Z"
   },
   {
    "duration": 49,
    "start_time": "2023-02-12T17:15:51.331Z"
   },
   {
    "duration": 47,
    "start_time": "2023-02-12T17:17:19.889Z"
   },
   {
    "duration": 51,
    "start_time": "2023-02-12T17:17:57.630Z"
   },
   {
    "duration": 11,
    "start_time": "2023-02-12T17:18:09.643Z"
   },
   {
    "duration": 11,
    "start_time": "2023-02-12T17:18:17.659Z"
   },
   {
    "duration": 12,
    "start_time": "2023-02-12T17:18:58.654Z"
   },
   {
    "duration": 592,
    "start_time": "2023-02-12T17:21:07.504Z"
   },
   {
    "duration": 54,
    "start_time": "2023-02-12T17:21:36.783Z"
   },
   {
    "duration": 11,
    "start_time": "2023-02-12T17:21:48.215Z"
   },
   {
    "duration": 9,
    "start_time": "2023-02-12T17:22:30.104Z"
   },
   {
    "duration": 10,
    "start_time": "2023-02-12T17:23:17.129Z"
   },
   {
    "duration": 12,
    "start_time": "2023-02-12T17:23:46.780Z"
   },
   {
    "duration": 9,
    "start_time": "2023-02-12T17:24:09.826Z"
   },
   {
    "duration": 11,
    "start_time": "2023-02-12T17:24:24.205Z"
   },
   {
    "duration": 8,
    "start_time": "2023-02-12T17:24:44.107Z"
   },
   {
    "duration": 12,
    "start_time": "2023-02-12T17:26:27.912Z"
   },
   {
    "duration": 9,
    "start_time": "2023-02-12T17:26:32.660Z"
   },
   {
    "duration": 9,
    "start_time": "2023-02-12T17:27:03.714Z"
   },
   {
    "duration": 7,
    "start_time": "2023-02-12T17:27:07.001Z"
   },
   {
    "duration": 9,
    "start_time": "2023-02-12T17:27:07.951Z"
   },
   {
    "duration": 7,
    "start_time": "2023-02-12T17:27:08.629Z"
   },
   {
    "duration": 7,
    "start_time": "2023-02-12T17:28:01.005Z"
   },
   {
    "duration": 7,
    "start_time": "2023-02-12T17:28:02.031Z"
   },
   {
    "duration": 7,
    "start_time": "2023-02-12T17:28:02.814Z"
   },
   {
    "duration": 826,
    "start_time": "2023-02-13T14:06:34.328Z"
   },
   {
    "duration": 31,
    "start_time": "2023-02-13T14:06:35.157Z"
   },
   {
    "duration": 17,
    "start_time": "2023-02-13T14:06:35.190Z"
   },
   {
    "duration": 16,
    "start_time": "2023-02-13T14:06:35.210Z"
   },
   {
    "duration": 73,
    "start_time": "2023-02-13T14:06:35.228Z"
   },
   {
    "duration": 0,
    "start_time": "2023-02-13T14:06:35.304Z"
   },
   {
    "duration": 0,
    "start_time": "2023-02-13T14:06:35.305Z"
   },
   {
    "duration": 0,
    "start_time": "2023-02-13T14:06:35.306Z"
   },
   {
    "duration": 0,
    "start_time": "2023-02-13T14:06:35.309Z"
   },
   {
    "duration": 0,
    "start_time": "2023-02-13T14:06:35.310Z"
   },
   {
    "duration": 0,
    "start_time": "2023-02-13T14:06:35.312Z"
   },
   {
    "duration": 0,
    "start_time": "2023-02-13T14:06:35.314Z"
   },
   {
    "duration": 0,
    "start_time": "2023-02-13T14:06:35.315Z"
   },
   {
    "duration": 0,
    "start_time": "2023-02-13T14:06:35.316Z"
   },
   {
    "duration": 0,
    "start_time": "2023-02-13T14:06:35.317Z"
   },
   {
    "duration": 0,
    "start_time": "2023-02-13T14:06:35.319Z"
   },
   {
    "duration": 0,
    "start_time": "2023-02-13T14:06:35.320Z"
   },
   {
    "duration": 0,
    "start_time": "2023-02-13T14:06:35.321Z"
   },
   {
    "duration": 0,
    "start_time": "2023-02-13T14:06:35.323Z"
   },
   {
    "duration": 0,
    "start_time": "2023-02-13T14:06:35.324Z"
   },
   {
    "duration": 0,
    "start_time": "2023-02-13T14:06:35.325Z"
   },
   {
    "duration": 0,
    "start_time": "2023-02-13T14:06:35.326Z"
   },
   {
    "duration": 0,
    "start_time": "2023-02-13T14:06:35.327Z"
   },
   {
    "duration": 0,
    "start_time": "2023-02-13T14:06:35.328Z"
   },
   {
    "duration": 0,
    "start_time": "2023-02-13T14:06:35.332Z"
   },
   {
    "duration": 0,
    "start_time": "2023-02-13T14:06:35.334Z"
   },
   {
    "duration": 0,
    "start_time": "2023-02-13T14:06:35.335Z"
   },
   {
    "duration": 0,
    "start_time": "2023-02-13T14:06:35.337Z"
   },
   {
    "duration": 0,
    "start_time": "2023-02-13T14:06:35.338Z"
   },
   {
    "duration": 0,
    "start_time": "2023-02-13T14:06:35.340Z"
   },
   {
    "duration": 0,
    "start_time": "2023-02-13T14:06:35.342Z"
   },
   {
    "duration": 0,
    "start_time": "2023-02-13T14:06:35.343Z"
   },
   {
    "duration": 0,
    "start_time": "2023-02-13T14:06:35.345Z"
   },
   {
    "duration": 0,
    "start_time": "2023-02-13T14:06:35.346Z"
   },
   {
    "duration": 1061,
    "start_time": "2023-02-13T15:32:44.418Z"
   },
   {
    "duration": 24,
    "start_time": "2023-02-13T15:32:45.482Z"
   },
   {
    "duration": 22,
    "start_time": "2023-02-13T15:32:45.508Z"
   },
   {
    "duration": 14,
    "start_time": "2023-02-13T15:32:45.534Z"
   },
   {
    "duration": 51,
    "start_time": "2023-02-13T15:32:45.549Z"
   },
   {
    "duration": 0,
    "start_time": "2023-02-13T15:32:45.603Z"
   },
   {
    "duration": 0,
    "start_time": "2023-02-13T15:32:45.604Z"
   },
   {
    "duration": 0,
    "start_time": "2023-02-13T15:32:45.605Z"
   },
   {
    "duration": 0,
    "start_time": "2023-02-13T15:32:45.606Z"
   },
   {
    "duration": 0,
    "start_time": "2023-02-13T15:32:45.607Z"
   },
   {
    "duration": 5,
    "start_time": "2023-02-13T15:32:45.708Z"
   },
   {
    "duration": 51,
    "start_time": "2023-02-13T15:32:45.715Z"
   },
   {
    "duration": 10,
    "start_time": "2023-02-13T15:32:45.768Z"
   },
   {
    "duration": 87,
    "start_time": "2023-02-13T15:32:45.780Z"
   },
   {
    "duration": 0,
    "start_time": "2023-02-13T15:32:45.869Z"
   },
   {
    "duration": 0,
    "start_time": "2023-02-13T15:32:45.870Z"
   },
   {
    "duration": 0,
    "start_time": "2023-02-13T15:32:45.871Z"
   },
   {
    "duration": 1,
    "start_time": "2023-02-13T15:32:45.872Z"
   },
   {
    "duration": 9,
    "start_time": "2023-02-13T15:32:47.552Z"
   },
   {
    "duration": 0,
    "start_time": "2023-02-13T15:32:47.563Z"
   },
   {
    "duration": 0,
    "start_time": "2023-02-13T15:32:47.564Z"
   },
   {
    "duration": 0,
    "start_time": "2023-02-13T15:32:47.565Z"
   },
   {
    "duration": 0,
    "start_time": "2023-02-13T15:32:47.566Z"
   },
   {
    "duration": 0,
    "start_time": "2023-02-13T15:32:47.567Z"
   },
   {
    "duration": 0,
    "start_time": "2023-02-13T15:32:47.568Z"
   },
   {
    "duration": 0,
    "start_time": "2023-02-13T15:32:47.569Z"
   },
   {
    "duration": 7,
    "start_time": "2023-02-13T15:32:47.711Z"
   },
   {
    "duration": 27,
    "start_time": "2023-02-13T15:32:47.721Z"
   },
   {
    "duration": 15,
    "start_time": "2023-02-13T15:32:48.295Z"
   },
   {
    "duration": 472,
    "start_time": "2023-02-13T15:32:48.313Z"
   },
   {
    "duration": 25,
    "start_time": "2023-02-13T15:32:48.787Z"
   },
   {
    "duration": 0,
    "start_time": "2023-02-13T15:32:48.814Z"
   },
   {
    "duration": 0,
    "start_time": "2023-02-13T15:32:48.816Z"
   },
   {
    "duration": 0,
    "start_time": "2023-02-13T15:32:48.817Z"
   },
   {
    "duration": 78,
    "start_time": "2023-02-13T15:35:11.168Z"
   },
   {
    "duration": 17,
    "start_time": "2023-02-13T15:35:11.248Z"
   },
   {
    "duration": 18,
    "start_time": "2023-02-13T15:35:11.267Z"
   },
   {
    "duration": 17,
    "start_time": "2023-02-13T15:35:11.287Z"
   },
   {
    "duration": 36,
    "start_time": "2023-02-13T15:35:11.306Z"
   },
   {
    "duration": 9,
    "start_time": "2023-02-13T15:35:11.547Z"
   },
   {
    "duration": 0,
    "start_time": "2023-02-13T15:35:11.558Z"
   },
   {
    "duration": 0,
    "start_time": "2023-02-13T15:35:11.559Z"
   },
   {
    "duration": 0,
    "start_time": "2023-02-13T15:35:11.560Z"
   },
   {
    "duration": 0,
    "start_time": "2023-02-13T15:35:11.562Z"
   },
   {
    "duration": 4,
    "start_time": "2023-02-13T15:35:11.795Z"
   },
   {
    "duration": 35,
    "start_time": "2023-02-13T15:35:11.801Z"
   },
   {
    "duration": 10,
    "start_time": "2023-02-13T15:35:11.838Z"
   },
   {
    "duration": 20,
    "start_time": "2023-02-13T15:35:11.849Z"
   },
   {
    "duration": 0,
    "start_time": "2023-02-13T15:35:11.870Z"
   },
   {
    "duration": 0,
    "start_time": "2023-02-13T15:35:11.872Z"
   },
   {
    "duration": 19,
    "start_time": "2023-02-13T15:35:12.134Z"
   },
   {
    "duration": 4,
    "start_time": "2023-02-13T15:35:12.156Z"
   },
   {
    "duration": 23,
    "start_time": "2023-02-13T15:35:12.162Z"
   },
   {
    "duration": 7,
    "start_time": "2023-02-13T15:35:12.187Z"
   },
   {
    "duration": 4,
    "start_time": "2023-02-13T15:35:12.994Z"
   },
   {
    "duration": 17,
    "start_time": "2023-02-13T15:35:13.000Z"
   },
   {
    "duration": 5,
    "start_time": "2023-02-13T15:35:13.248Z"
   },
   {
    "duration": 13,
    "start_time": "2023-02-13T15:35:13.255Z"
   },
   {
    "duration": 13,
    "start_time": "2023-02-13T15:35:13.841Z"
   },
   {
    "duration": 13,
    "start_time": "2023-02-13T15:35:13.856Z"
   },
   {
    "duration": 6,
    "start_time": "2023-02-13T15:35:14.048Z"
   },
   {
    "duration": 22,
    "start_time": "2023-02-13T15:35:14.056Z"
   },
   {
    "duration": 15,
    "start_time": "2023-02-13T15:35:14.476Z"
   },
   {
    "duration": 31,
    "start_time": "2023-02-13T15:35:14.493Z"
   },
   {
    "duration": 17,
    "start_time": "2023-02-13T15:35:15.281Z"
   },
   {
    "duration": 8,
    "start_time": "2023-02-13T15:35:15.689Z"
   },
   {
    "duration": 7,
    "start_time": "2023-02-13T15:35:15.755Z"
   },
   {
    "duration": 13,
    "start_time": "2023-02-13T15:35:15.764Z"
   },
   {
    "duration": 6,
    "start_time": "2023-02-13T15:36:31.642Z"
   },
   {
    "duration": 68,
    "start_time": "2023-02-13T15:37:17.744Z"
   },
   {
    "duration": 17,
    "start_time": "2023-02-13T15:37:17.815Z"
   },
   {
    "duration": 15,
    "start_time": "2023-02-13T15:37:17.834Z"
   },
   {
    "duration": 9,
    "start_time": "2023-02-13T15:37:17.851Z"
   },
   {
    "duration": 33,
    "start_time": "2023-02-13T15:37:17.881Z"
   },
   {
    "duration": 4,
    "start_time": "2023-02-13T15:37:17.937Z"
   },
   {
    "duration": 14,
    "start_time": "2023-02-13T15:37:17.944Z"
   },
   {
    "duration": 4,
    "start_time": "2023-02-13T15:37:17.960Z"
   },
   {
    "duration": 19,
    "start_time": "2023-02-13T15:37:17.966Z"
   },
   {
    "duration": 5,
    "start_time": "2023-02-13T15:37:17.987Z"
   },
   {
    "duration": 37,
    "start_time": "2023-02-13T15:37:18.134Z"
   },
   {
    "duration": 11,
    "start_time": "2023-02-13T15:37:18.174Z"
   },
   {
    "duration": 17,
    "start_time": "2023-02-13T15:37:18.186Z"
   },
   {
    "duration": 0,
    "start_time": "2023-02-13T15:37:18.204Z"
   },
   {
    "duration": 0,
    "start_time": "2023-02-13T15:37:18.206Z"
   },
   {
    "duration": 0,
    "start_time": "2023-02-13T15:37:18.208Z"
   },
   {
    "duration": 4,
    "start_time": "2023-02-13T15:37:18.545Z"
   },
   {
    "duration": 17,
    "start_time": "2023-02-13T15:37:18.551Z"
   },
   {
    "duration": 7,
    "start_time": "2023-02-13T15:37:18.570Z"
   },
   {
    "duration": 4,
    "start_time": "2023-02-13T15:37:18.579Z"
   },
   {
    "duration": 11,
    "start_time": "2023-02-13T15:37:18.584Z"
   },
   {
    "duration": 4,
    "start_time": "2023-02-13T15:37:18.597Z"
   },
   {
    "duration": 13,
    "start_time": "2023-02-13T15:37:18.603Z"
   },
   {
    "duration": 13,
    "start_time": "2023-02-13T15:37:18.763Z"
   },
   {
    "duration": 13,
    "start_time": "2023-02-13T15:37:18.922Z"
   },
   {
    "duration": 6,
    "start_time": "2023-02-13T15:37:18.937Z"
   },
   {
    "duration": 7,
    "start_time": "2023-02-13T15:37:18.945Z"
   },
   {
    "duration": 12,
    "start_time": "2023-02-13T15:37:19.071Z"
   },
   {
    "duration": 26,
    "start_time": "2023-02-13T15:37:19.085Z"
   },
   {
    "duration": 11,
    "start_time": "2023-02-13T15:37:19.260Z"
   },
   {
    "duration": 6,
    "start_time": "2023-02-13T15:37:19.273Z"
   },
   {
    "duration": 12,
    "start_time": "2023-02-13T15:37:19.280Z"
   },
   {
    "duration": 7,
    "start_time": "2023-02-13T15:37:19.423Z"
   },
   {
    "duration": 13,
    "start_time": "2023-02-13T15:37:30.779Z"
   },
   {
    "duration": 34,
    "start_time": "2023-02-13T15:38:32.005Z"
   },
   {
    "duration": 14,
    "start_time": "2023-02-13T15:38:33.833Z"
   },
   {
    "duration": 33,
    "start_time": "2023-02-13T15:40:19.838Z"
   },
   {
    "duration": 12,
    "start_time": "2023-02-13T15:40:30.079Z"
   },
   {
    "duration": 4,
    "start_time": "2023-02-13T15:40:39.058Z"
   },
   {
    "duration": 9,
    "start_time": "2023-02-13T15:40:40.510Z"
   },
   {
    "duration": 6,
    "start_time": "2023-02-13T15:40:43.259Z"
   },
   {
    "duration": 7,
    "start_time": "2023-02-13T15:40:51.568Z"
   },
   {
    "duration": 496,
    "start_time": "2023-02-13T15:41:33.052Z"
   },
   {
    "duration": 28,
    "start_time": "2023-02-13T15:41:35.029Z"
   },
   {
    "duration": 16,
    "start_time": "2023-02-13T15:41:40.503Z"
   },
   {
    "duration": 10,
    "start_time": "2023-02-13T15:41:44.990Z"
   },
   {
    "duration": 38,
    "start_time": "2023-02-13T15:41:49.675Z"
   },
   {
    "duration": 4,
    "start_time": "2023-02-13T15:41:54.159Z"
   },
   {
    "duration": 8,
    "start_time": "2023-02-13T15:42:09.558Z"
   },
   {
    "duration": 5,
    "start_time": "2023-02-13T15:42:13.150Z"
   },
   {
    "duration": 6,
    "start_time": "2023-02-13T15:42:18.933Z"
   },
   {
    "duration": 5,
    "start_time": "2023-02-13T15:42:22.587Z"
   },
   {
    "duration": 35,
    "start_time": "2023-02-13T15:42:30.040Z"
   },
   {
    "duration": 11,
    "start_time": "2023-02-13T15:42:32.151Z"
   },
   {
    "duration": 4,
    "start_time": "2023-02-13T15:42:37.099Z"
   },
   {
    "duration": 10,
    "start_time": "2023-02-13T15:43:21.516Z"
   },
   {
    "duration": 21,
    "start_time": "2023-02-13T15:43:24.479Z"
   },
   {
    "duration": 19,
    "start_time": "2023-02-13T15:43:25.407Z"
   },
   {
    "duration": 4,
    "start_time": "2023-02-13T15:43:37.954Z"
   },
   {
    "duration": 11,
    "start_time": "2023-02-13T15:43:39.937Z"
   },
   {
    "duration": 7,
    "start_time": "2023-02-13T15:43:41.975Z"
   },
   {
    "duration": 3,
    "start_time": "2023-02-13T15:43:45.137Z"
   },
   {
    "duration": 9,
    "start_time": "2023-02-13T15:43:47.761Z"
   },
   {
    "duration": 5,
    "start_time": "2023-02-13T15:43:52.051Z"
   },
   {
    "duration": 11,
    "start_time": "2023-02-13T15:43:52.944Z"
   },
   {
    "duration": 291,
    "start_time": "2023-02-13T15:43:54.004Z"
   },
   {
    "duration": 14,
    "start_time": "2023-02-13T15:44:01.554Z"
   },
   {
    "duration": 6,
    "start_time": "2023-02-13T15:44:08.533Z"
   },
   {
    "duration": 6,
    "start_time": "2023-02-13T15:44:49.084Z"
   },
   {
    "duration": 10,
    "start_time": "2023-02-13T15:44:54.129Z"
   },
   {
    "duration": 21,
    "start_time": "2023-02-13T15:44:58.671Z"
   },
   {
    "duration": 14,
    "start_time": "2023-02-13T15:45:14.907Z"
   },
   {
    "duration": 6,
    "start_time": "2023-02-13T15:45:23.020Z"
   },
   {
    "duration": 9,
    "start_time": "2023-02-13T15:45:23.605Z"
   },
   {
    "duration": 8,
    "start_time": "2023-02-13T15:45:25.139Z"
   },
   {
    "duration": 522,
    "start_time": "2023-02-13T15:45:56.278Z"
   },
   {
    "duration": 22,
    "start_time": "2023-02-13T15:45:56.802Z"
   },
   {
    "duration": 15,
    "start_time": "2023-02-13T15:45:56.826Z"
   },
   {
    "duration": 9,
    "start_time": "2023-02-13T15:45:56.844Z"
   },
   {
    "duration": 50,
    "start_time": "2023-02-13T15:45:56.854Z"
   },
   {
    "duration": 3,
    "start_time": "2023-02-13T15:45:56.906Z"
   },
   {
    "duration": 13,
    "start_time": "2023-02-13T15:45:56.910Z"
   },
   {
    "duration": 3,
    "start_time": "2023-02-13T15:45:56.925Z"
   },
   {
    "duration": 9,
    "start_time": "2023-02-13T15:45:56.929Z"
   },
   {
    "duration": 4,
    "start_time": "2023-02-13T15:45:56.940Z"
   },
   {
    "duration": 57,
    "start_time": "2023-02-13T15:45:56.946Z"
   },
   {
    "duration": 11,
    "start_time": "2023-02-13T15:45:57.004Z"
   },
   {
    "duration": 5,
    "start_time": "2023-02-13T15:45:57.016Z"
   },
   {
    "duration": 11,
    "start_time": "2023-02-13T15:45:57.023Z"
   },
   {
    "duration": 20,
    "start_time": "2023-02-13T15:45:57.035Z"
   },
   {
    "duration": 39,
    "start_time": "2023-02-13T15:45:57.056Z"
   },
   {
    "duration": 4,
    "start_time": "2023-02-13T15:45:57.096Z"
   },
   {
    "duration": 15,
    "start_time": "2023-02-13T15:45:57.101Z"
   },
   {
    "duration": 9,
    "start_time": "2023-02-13T15:45:57.117Z"
   },
   {
    "duration": 5,
    "start_time": "2023-02-13T15:45:57.128Z"
   },
   {
    "duration": 12,
    "start_time": "2023-02-13T15:45:57.134Z"
   },
   {
    "duration": 4,
    "start_time": "2023-02-13T15:45:57.148Z"
   },
   {
    "duration": 35,
    "start_time": "2023-02-13T15:45:57.153Z"
   },
   {
    "duration": 273,
    "start_time": "2023-02-13T15:45:57.190Z"
   },
   {
    "duration": 17,
    "start_time": "2023-02-13T15:45:57.465Z"
   },
   {
    "duration": 6,
    "start_time": "2023-02-13T15:45:57.484Z"
   },
   {
    "duration": 8,
    "start_time": "2023-02-13T15:45:57.492Z"
   },
   {
    "duration": 17,
    "start_time": "2023-02-13T15:45:57.504Z"
   },
   {
    "duration": 34,
    "start_time": "2023-02-13T15:45:57.523Z"
   },
   {
    "duration": 13,
    "start_time": "2023-02-13T15:45:57.559Z"
   },
   {
    "duration": 7,
    "start_time": "2023-02-13T15:45:57.580Z"
   },
   {
    "duration": 11,
    "start_time": "2023-02-13T15:45:57.588Z"
   },
   {
    "duration": 12,
    "start_time": "2023-02-13T15:45:57.601Z"
   },
   {
    "duration": 537,
    "start_time": "2023-02-14T06:10:37.207Z"
   },
   {
    "duration": 21,
    "start_time": "2023-02-14T06:10:37.746Z"
   },
   {
    "duration": 13,
    "start_time": "2023-02-14T06:10:37.769Z"
   },
   {
    "duration": 9,
    "start_time": "2023-02-14T06:10:37.784Z"
   },
   {
    "duration": 40,
    "start_time": "2023-02-14T06:10:37.794Z"
   },
   {
    "duration": 4,
    "start_time": "2023-02-14T06:10:37.835Z"
   },
   {
    "duration": 12,
    "start_time": "2023-02-14T06:10:37.840Z"
   },
   {
    "duration": 4,
    "start_time": "2023-02-14T06:10:37.853Z"
   },
   {
    "duration": 7,
    "start_time": "2023-02-14T06:10:37.858Z"
   },
   {
    "duration": 5,
    "start_time": "2023-02-14T06:10:37.869Z"
   },
   {
    "duration": 59,
    "start_time": "2023-02-14T06:10:37.875Z"
   },
   {
    "duration": 9,
    "start_time": "2023-02-14T06:10:37.936Z"
   },
   {
    "duration": 4,
    "start_time": "2023-02-14T06:10:37.947Z"
   },
   {
    "duration": 20,
    "start_time": "2023-02-14T06:10:37.953Z"
   },
   {
    "duration": 47,
    "start_time": "2023-02-14T06:10:37.975Z"
   },
   {
    "duration": 22,
    "start_time": "2023-02-14T06:10:38.024Z"
   },
   {
    "duration": 3,
    "start_time": "2023-02-14T06:10:38.047Z"
   },
   {
    "duration": 14,
    "start_time": "2023-02-14T06:10:38.052Z"
   },
   {
    "duration": 5,
    "start_time": "2023-02-14T06:10:38.068Z"
   },
   {
    "duration": 6,
    "start_time": "2023-02-14T06:10:38.074Z"
   },
   {
    "duration": 29,
    "start_time": "2023-02-14T06:10:38.082Z"
   },
   {
    "duration": 8,
    "start_time": "2023-02-14T06:10:38.113Z"
   },
   {
    "duration": 11,
    "start_time": "2023-02-14T06:10:38.123Z"
   },
   {
    "duration": 317,
    "start_time": "2023-02-14T06:10:38.135Z"
   },
   {
    "duration": 13,
    "start_time": "2023-02-14T06:10:38.453Z"
   },
   {
    "duration": 9,
    "start_time": "2023-02-14T06:10:38.467Z"
   },
   {
    "duration": 7,
    "start_time": "2023-02-14T06:10:38.477Z"
   },
   {
    "duration": 30,
    "start_time": "2023-02-14T06:10:38.487Z"
   },
   {
    "duration": 17,
    "start_time": "2023-02-14T06:10:38.519Z"
   },
   {
    "duration": 13,
    "start_time": "2023-02-14T06:10:38.538Z"
   },
   {
    "duration": 6,
    "start_time": "2023-02-14T06:10:38.553Z"
   },
   {
    "duration": 15,
    "start_time": "2023-02-14T06:10:38.561Z"
   },
   {
    "duration": 12,
    "start_time": "2023-02-14T06:10:38.578Z"
   },
   {
    "duration": 10,
    "start_time": "2023-02-14T06:11:44.680Z"
   },
   {
    "duration": 13,
    "start_time": "2023-02-14T06:11:48.452Z"
   },
   {
    "duration": 12,
    "start_time": "2023-02-14T06:11:52.310Z"
   },
   {
    "duration": 43,
    "start_time": "2023-02-14T11:57:03.267Z"
   },
   {
    "duration": 669,
    "start_time": "2023-02-14T11:57:09.100Z"
   },
   {
    "duration": 20,
    "start_time": "2023-02-14T11:57:09.771Z"
   },
   {
    "duration": 17,
    "start_time": "2023-02-14T11:57:09.792Z"
   },
   {
    "duration": 8,
    "start_time": "2023-02-14T11:57:09.811Z"
   },
   {
    "duration": 48,
    "start_time": "2023-02-14T11:57:09.821Z"
   },
   {
    "duration": 4,
    "start_time": "2023-02-14T11:57:09.871Z"
   },
   {
    "duration": 12,
    "start_time": "2023-02-14T11:57:09.876Z"
   },
   {
    "duration": 8,
    "start_time": "2023-02-14T11:57:09.889Z"
   },
   {
    "duration": 8,
    "start_time": "2023-02-14T11:57:09.899Z"
   },
   {
    "duration": 7,
    "start_time": "2023-02-14T11:57:09.910Z"
   },
   {
    "duration": 66,
    "start_time": "2023-02-14T11:57:09.918Z"
   },
   {
    "duration": 10,
    "start_time": "2023-02-14T11:57:09.986Z"
   },
   {
    "duration": 6,
    "start_time": "2023-02-14T11:57:09.998Z"
   },
   {
    "duration": 13,
    "start_time": "2023-02-14T11:57:10.005Z"
   },
   {
    "duration": 33,
    "start_time": "2023-02-14T11:57:10.020Z"
   },
   {
    "duration": 15,
    "start_time": "2023-02-14T11:57:10.055Z"
   },
   {
    "duration": 3,
    "start_time": "2023-02-14T11:57:10.072Z"
   },
   {
    "duration": 13,
    "start_time": "2023-02-14T11:57:10.077Z"
   },
   {
    "duration": 9,
    "start_time": "2023-02-14T11:57:10.091Z"
   },
   {
    "duration": 9,
    "start_time": "2023-02-14T11:57:10.102Z"
   },
   {
    "duration": 14,
    "start_time": "2023-02-14T11:57:10.112Z"
   },
   {
    "duration": 22,
    "start_time": "2023-02-14T11:57:10.127Z"
   },
   {
    "duration": 11,
    "start_time": "2023-02-14T11:57:10.150Z"
   },
   {
    "duration": 443,
    "start_time": "2023-02-14T11:57:10.163Z"
   },
   {
    "duration": 13,
    "start_time": "2023-02-14T11:57:10.607Z"
   },
   {
    "duration": 12,
    "start_time": "2023-02-14T11:57:14.209Z"
   },
   {
    "duration": 12,
    "start_time": "2023-02-14T11:57:34.494Z"
   },
   {
    "duration": 9,
    "start_time": "2023-02-14T11:57:46.330Z"
   }
  ],
  "colab": {
   "name": "dpp_template_part2.ipynb",
   "provenance": []
  },
  "kernelspec": {
   "display_name": "Python 3 (ipykernel)",
   "language": "python",
   "name": "python3"
  },
  "language_info": {
   "codemirror_mode": {
    "name": "ipython",
    "version": 3
   },
   "file_extension": ".py",
   "mimetype": "text/x-python",
   "name": "python",
   "nbconvert_exporter": "python",
   "pygments_lexer": "ipython3",
   "version": "3.9.13"
  },
  "toc": {
   "base_numbering": 1,
   "nav_menu": {},
   "number_sections": true,
   "sideBar": true,
   "skip_h1_title": true,
   "title_cell": "Table of Contents",
   "title_sidebar": "Contents",
   "toc_cell": false,
   "toc_position": {
    "height": "calc(100% - 180px)",
    "left": "10px",
    "top": "150px",
    "width": "307.2px"
   },
   "toc_section_display": true,
   "toc_window_display": true
  }
 },
 "nbformat": 4,
 "nbformat_minor": 5
}
