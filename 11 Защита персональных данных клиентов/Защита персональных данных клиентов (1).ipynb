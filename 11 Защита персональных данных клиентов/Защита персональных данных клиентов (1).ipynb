{
 "cells": [
  {
   "cell_type": "markdown",
   "metadata": {
    "toc": true
   },
   "source": [
    "<h1>Содержание<span class=\"tocSkip\"></span></h1>\n",
    "<div class=\"toc\"><ul class=\"toc-item\"><li><span><a href=\"#Изучение-входных-данных\" data-toc-modified-id=\"Изучение-входных-данных-1\"><span class=\"toc-item-num\">1&nbsp;&nbsp;</span>Изучение входных данных</a></span><ul class=\"toc-item\"><li><span><a href=\"#Загрузка-данных\" data-toc-modified-id=\"Загрузка-данных-1.1\"><span class=\"toc-item-num\">1.1&nbsp;&nbsp;</span>Загрузка данных</a></span></li><li><span><a href=\"#Общая-информация-о-датафрейме-и-предобработка-данных\" data-toc-modified-id=\"Общая-информация-о-датафрейме-и-предобработка-данных-1.2\"><span class=\"toc-item-num\">1.2&nbsp;&nbsp;</span>Общая информация о датафрейме и предобработка данных</a></span></li><li><span><a href=\"#Описание-данных\" data-toc-modified-id=\"Описание-данных-1.3\"><span class=\"toc-item-num\">1.3&nbsp;&nbsp;</span>Описание данных</a></span></li></ul></li><li><span><a href=\"#Умножение-матриц\" data-toc-modified-id=\"Умножение-матриц-2\"><span class=\"toc-item-num\">2&nbsp;&nbsp;</span>Умножение матриц</a></span></li><li><span><a href=\"#Алгоритм-преобразования\" data-toc-modified-id=\"Алгоритм-преобразования-3\"><span class=\"toc-item-num\">3&nbsp;&nbsp;</span>Алгоритм преобразования</a></span></li><li><span><a href=\"#Проверка-алгоритма\" data-toc-modified-id=\"Проверка-алгоритма-4\"><span class=\"toc-item-num\">4&nbsp;&nbsp;</span>Проверка алгоритма</a></span></li></ul></div>"
   ]
  },
  {
   "cell_type": "markdown",
   "metadata": {},
   "source": [
    "# Защита персональных данных клиентов"
   ]
  },
  {
   "cell_type": "markdown",
   "metadata": {},
   "source": [
    "Вам нужно защитить данные клиентов страховой компании «Хоть потоп». Разработайте такой метод преобразования данных, чтобы по ним было сложно восстановить персональную информацию. Обоснуйте корректность его работы.\n",
    "\n",
    "Нужно защитить данные, чтобы при преобразовании качество моделей машинного обучения не ухудшилось. Подбирать наилучшую модель не требуется."
   ]
  },
  {
   "cell_type": "markdown",
   "metadata": {},
   "source": [
    "**Алгоритм выполнения работы**"
   ]
  },
  {
   "cell_type": "markdown",
   "metadata": {},
   "source": [
    "1. Загрузка и анализ имеющихся данных\n",
    "2. Необходимо ответить на вопрос и обосновать решение. \n",
    " Признаки умножают на обратимую матрицу. Изменится ли качество линейной регрессии? (Её можно обучить заново.)\n",
    "- a. Изменится. Приведите примеры матриц.\n",
    "- b. Не изменится. Укажите, как связаны параметры линейной регрессии в исходной задаче и в преобразованной.\n",
    "3. Предложить алгоритм преобразования данных для решения задачи. Обосновать почему качество линейной регрессии не поменяется:\n",
    "- разделить выборку на признаки + целевой признак\n",
    "- создать обратимую матрицу размером 4х4, проверить, что она обратима\n",
    "- признаки умножить на обратимую матрицу\n",
    "- посчитать метрику R2 до и после шифрования данных пользователей (умножением на обратимую матрицу)\n",
    "4. Проверить работу этого алгоритма, применив матричные операции:\n",
    "- вернуть в исходное состояние зашифрованную матрицу умножив ее на обратную\n",
    "- сравнить данные матриц до и после шифрования"
   ]
  },
  {
   "cell_type": "markdown",
   "metadata": {},
   "source": [
    "## Изучение входных данных"
   ]
  },
  {
   "cell_type": "markdown",
   "metadata": {},
   "source": [
    "### Загрузка данных"
   ]
  },
  {
   "cell_type": "code",
   "execution_count": 1,
   "metadata": {},
   "outputs": [],
   "source": [
    "# для анализа и работы с данных\n",
    "import numpy as np\n",
    "import pandas as pd\n",
    "import matplotlib.pyplot as plt\n",
    "import seaborn as sns\n",
    "\n",
    "# алгоритмы машинного обучения\n",
    "from sklearn.linear_model import LinearRegression\n",
    "from sklearn.model_selection import train_test_split\n",
    "\n",
    "# метрики для алгоритмов ML\n",
    "from sklearn.metrics import r2_score"
   ]
  },
  {
   "cell_type": "code",
   "execution_count": 2,
   "metadata": {},
   "outputs": [],
   "source": [
    "# загрузка датафрейма (try - локально, except - по ссылке)\n",
    "try:\n",
    "    df = pd.read_csv('D:\\jupyter notebook EDU\\data\\insurance.csv')\n",
    "   \n",
    "except:\n",
    "    df = pd.read_csv('https://code.s3.yandex.net/datasets/insurance.csv')"
   ]
  },
  {
   "cell_type": "markdown",
   "metadata": {},
   "source": [
    "### Общая информация о датафрейме и предобработка данных"
   ]
  },
  {
   "cell_type": "code",
   "execution_count": 3,
   "metadata": {},
   "outputs": [
    {
     "name": "stdout",
     "output_type": "stream",
     "text": [
      "<class 'pandas.core.frame.DataFrame'>\n",
      "RangeIndex: 5000 entries, 0 to 4999\n",
      "Data columns (total 5 columns):\n",
      " #   Column             Non-Null Count  Dtype  \n",
      "---  ------             --------------  -----  \n",
      " 0   Пол                5000 non-null   int64  \n",
      " 1   Возраст            5000 non-null   float64\n",
      " 2   Зарплата           5000 non-null   float64\n",
      " 3   Члены семьи        5000 non-null   int64  \n",
      " 4   Страховые выплаты  5000 non-null   int64  \n",
      "dtypes: float64(2), int64(3)\n",
      "memory usage: 195.4 KB\n"
     ]
    }
   ],
   "source": [
    "df.info()"
   ]
  },
  {
   "cell_type": "code",
   "execution_count": 4,
   "metadata": {
    "scrolled": true
   },
   "outputs": [
    {
     "data": {
      "text/html": [
       "<div>\n",
       "<style scoped>\n",
       "    .dataframe tbody tr th:only-of-type {\n",
       "        vertical-align: middle;\n",
       "    }\n",
       "\n",
       "    .dataframe tbody tr th {\n",
       "        vertical-align: top;\n",
       "    }\n",
       "\n",
       "    .dataframe thead th {\n",
       "        text-align: right;\n",
       "    }\n",
       "</style>\n",
       "<table border=\"1\" class=\"dataframe\">\n",
       "  <thead>\n",
       "    <tr style=\"text-align: right;\">\n",
       "      <th></th>\n",
       "      <th>Пол</th>\n",
       "      <th>Возраст</th>\n",
       "      <th>Зарплата</th>\n",
       "      <th>Члены семьи</th>\n",
       "      <th>Страховые выплаты</th>\n",
       "    </tr>\n",
       "  </thead>\n",
       "  <tbody>\n",
       "    <tr>\n",
       "      <th>0</th>\n",
       "      <td>1</td>\n",
       "      <td>41.0</td>\n",
       "      <td>49600.0</td>\n",
       "      <td>1</td>\n",
       "      <td>0</td>\n",
       "    </tr>\n",
       "    <tr>\n",
       "      <th>1</th>\n",
       "      <td>0</td>\n",
       "      <td>46.0</td>\n",
       "      <td>38000.0</td>\n",
       "      <td>1</td>\n",
       "      <td>1</td>\n",
       "    </tr>\n",
       "    <tr>\n",
       "      <th>2</th>\n",
       "      <td>0</td>\n",
       "      <td>29.0</td>\n",
       "      <td>21000.0</td>\n",
       "      <td>0</td>\n",
       "      <td>0</td>\n",
       "    </tr>\n",
       "    <tr>\n",
       "      <th>3</th>\n",
       "      <td>0</td>\n",
       "      <td>21.0</td>\n",
       "      <td>41700.0</td>\n",
       "      <td>2</td>\n",
       "      <td>0</td>\n",
       "    </tr>\n",
       "    <tr>\n",
       "      <th>4</th>\n",
       "      <td>1</td>\n",
       "      <td>28.0</td>\n",
       "      <td>26100.0</td>\n",
       "      <td>0</td>\n",
       "      <td>0</td>\n",
       "    </tr>\n",
       "  </tbody>\n",
       "</table>\n",
       "</div>"
      ],
      "text/plain": [
       "   Пол  Возраст  Зарплата  Члены семьи  Страховые выплаты\n",
       "0    1     41.0   49600.0            1                  0\n",
       "1    0     46.0   38000.0            1                  1\n",
       "2    0     29.0   21000.0            0                  0\n",
       "3    0     21.0   41700.0            2                  0\n",
       "4    1     28.0   26100.0            0                  0"
      ]
     },
     "execution_count": 4,
     "metadata": {},
     "output_type": "execute_result"
    }
   ],
   "source": [
    "df.head()"
   ]
  },
  {
   "cell_type": "markdown",
   "metadata": {},
   "source": [
    "Колонках \"Возраст\" и \"Зарплата\" в датафрейме имеет тип данных **float64**, но при этом десятичных значений нет. Преобразуем ее в тип **integer**"
   ]
  },
  {
   "cell_type": "code",
   "execution_count": 5,
   "metadata": {},
   "outputs": [],
   "source": [
    "# преобразуем колонкм \"Возраст\" и \"Зарплата\" датафрейма df из типа float в тип integer\n",
    "df['Возраст'] = df['Возраст'].astype(int)\n",
    "df['Зарплата'] = df['Зарплата'].astype(int)"
   ]
  },
  {
   "cell_type": "markdown",
   "metadata": {},
   "source": [
    "Посмотрим на количество пропусков и дубликатов:"
   ]
  },
  {
   "cell_type": "code",
   "execution_count": 6,
   "metadata": {},
   "outputs": [
    {
     "data": {
      "text/plain": [
       "Пол                  0\n",
       "Возраст              0\n",
       "Зарплата             0\n",
       "Члены семьи          0\n",
       "Страховые выплаты    0\n",
       "dtype: int64"
      ]
     },
     "execution_count": 6,
     "metadata": {},
     "output_type": "execute_result"
    }
   ],
   "source": [
    "df.isna().sum()"
   ]
  },
  {
   "cell_type": "code",
   "execution_count": 7,
   "metadata": {},
   "outputs": [
    {
     "data": {
      "text/plain": [
       "153"
      ]
     },
     "execution_count": 7,
     "metadata": {},
     "output_type": "execute_result"
    }
   ],
   "source": [
    "df.duplicated().sum()"
   ]
  },
  {
   "cell_type": "markdown",
   "metadata": {},
   "source": [
    "\n",
    "    \n",
    "**ВАЖНОЕ ЗАМЕЧАНИЕ**\n",
    "    \n",
    "Удалим дублирующиеся строки. Однако, нужно помнить о том, что дубликаты в данных могут быть из-за особенностей клиентской базы (например, сотрудники госучреждений), где разные люди могут иметь дублирующиеся данные, такие как одинаковый оклад, одинаковый возраст, состав семьи и т.д. В таких случаях без иникального идентификатора клиента отличить разных людей будет невозможно"
   ]
  },
  {
   "cell_type": "code",
   "execution_count": 8,
   "metadata": {},
   "outputs": [
    {
     "data": {
      "text/plain": [
       "0"
      ]
     },
     "execution_count": 8,
     "metadata": {},
     "output_type": "execute_result"
    }
   ],
   "source": [
    "# удаляем\n",
    "df.drop_duplicates(inplace=True)\n",
    "\n",
    "# проверяем\n",
    "df.duplicated().sum()"
   ]
  },
  {
   "cell_type": "code",
   "execution_count": 9,
   "metadata": {},
   "outputs": [
    {
     "data": {
      "image/png": "[encoded data removed]",
      "text/plain": [
       "<Figure size 800x800 with 6 Axes>"
      ]
     },
     "metadata": {},
     "output_type": "display_data"
    }
   ],
   "source": [
    "# откроем датафрейм, посмотрим на содержимое\n",
    "df.hist(figsize=(8, 8), color='#08cc9e', ec='#fc5a14')\n",
    "plt.show()"
   ]
  },
  {
   "cell_type": "markdown",
   "metadata": {},
   "source": [
    "Статистические данные датафрейма"
   ]
  },
  {
   "cell_type": "code",
   "execution_count": 10,
   "metadata": {},
   "outputs": [
    {
     "data": {
      "text/html": [
       "<div>\n",
       "<style scoped>\n",
       "    .dataframe tbody tr th:only-of-type {\n",
       "        vertical-align: middle;\n",
       "    }\n",
       "\n",
       "    .dataframe tbody tr th {\n",
       "        vertical-align: top;\n",
       "    }\n",
       "\n",
       "    .dataframe thead th {\n",
       "        text-align: right;\n",
       "    }\n",
       "</style>\n",
       "<table border=\"1\" class=\"dataframe\">\n",
       "  <thead>\n",
       "    <tr style=\"text-align: right;\">\n",
       "      <th></th>\n",
       "      <th>count</th>\n",
       "      <th>mean</th>\n",
       "      <th>std</th>\n",
       "      <th>min</th>\n",
       "      <th>25%</th>\n",
       "      <th>50%</th>\n",
       "      <th>75%</th>\n",
       "      <th>max</th>\n",
       "    </tr>\n",
       "  </thead>\n",
       "  <tbody>\n",
       "    <tr>\n",
       "      <th>Пол</th>\n",
       "      <td>4847.0</td>\n",
       "      <td>0.50</td>\n",
       "      <td>0.50</td>\n",
       "      <td>0.0</td>\n",
       "      <td>0.0</td>\n",
       "      <td>0.0</td>\n",
       "      <td>1.0</td>\n",
       "      <td>1.0</td>\n",
       "    </tr>\n",
       "    <tr>\n",
       "      <th>Возраст</th>\n",
       "      <td>4847.0</td>\n",
       "      <td>31.02</td>\n",
       "      <td>8.49</td>\n",
       "      <td>18.0</td>\n",
       "      <td>24.0</td>\n",
       "      <td>30.0</td>\n",
       "      <td>37.0</td>\n",
       "      <td>65.0</td>\n",
       "    </tr>\n",
       "    <tr>\n",
       "      <th>Зарплата</th>\n",
       "      <td>4847.0</td>\n",
       "      <td>39895.81</td>\n",
       "      <td>9972.95</td>\n",
       "      <td>5300.0</td>\n",
       "      <td>33200.0</td>\n",
       "      <td>40200.0</td>\n",
       "      <td>46600.0</td>\n",
       "      <td>79000.0</td>\n",
       "    </tr>\n",
       "    <tr>\n",
       "      <th>Члены семьи</th>\n",
       "      <td>4847.0</td>\n",
       "      <td>1.20</td>\n",
       "      <td>1.10</td>\n",
       "      <td>0.0</td>\n",
       "      <td>0.0</td>\n",
       "      <td>1.0</td>\n",
       "      <td>2.0</td>\n",
       "      <td>6.0</td>\n",
       "    </tr>\n",
       "    <tr>\n",
       "      <th>Страховые выплаты</th>\n",
       "      <td>4847.0</td>\n",
       "      <td>0.15</td>\n",
       "      <td>0.47</td>\n",
       "      <td>0.0</td>\n",
       "      <td>0.0</td>\n",
       "      <td>0.0</td>\n",
       "      <td>0.0</td>\n",
       "      <td>5.0</td>\n",
       "    </tr>\n",
       "  </tbody>\n",
       "</table>\n",
       "</div>"
      ],
      "text/plain": [
       "                    count      mean      std     min      25%      50%  \\\n",
       "Пол                4847.0      0.50     0.50     0.0      0.0      0.0   \n",
       "Возраст            4847.0     31.02     8.49    18.0     24.0     30.0   \n",
       "Зарплата           4847.0  39895.81  9972.95  5300.0  33200.0  40200.0   \n",
       "Члены семьи        4847.0      1.20     1.10     0.0      0.0      1.0   \n",
       "Страховые выплаты  4847.0      0.15     0.47     0.0      0.0      0.0   \n",
       "\n",
       "                       75%      max  \n",
       "Пол                    1.0      1.0  \n",
       "Возраст               37.0     65.0  \n",
       "Зарплата           46600.0  79000.0  \n",
       "Члены семьи            2.0      6.0  \n",
       "Страховые выплаты      0.0      5.0  "
      ]
     },
     "metadata": {},
     "output_type": "display_data"
    }
   ],
   "source": [
    "display(np.round(df.describe(), 2).T)"
   ]
  },
  {
   "cell_type": "markdown",
   "metadata": {},
   "source": [
    "Посмотрим на матрицу корреляции признаков"
   ]
  },
  {
   "cell_type": "code",
   "execution_count": 11,
   "metadata": {},
   "outputs": [
    {
     "data": {
      "image/png": "[encoded data removed]",
      "text/plain": [
       "<Figure size 640x480 with 2 Axes>"
      ]
     },
     "metadata": {},
     "output_type": "display_data"
    }
   ],
   "source": [
    "sns.heatmap(df.corr(), annot=True, linewidth=.5, cmap='coolwarm')\n",
    "plt.show()"
   ]
  },
  {
   "cell_type": "markdown",
   "metadata": {},
   "source": [
    "### Описание данных"
   ]
  },
  {
   "cell_type": "code",
   "execution_count": 12,
   "metadata": {},
   "outputs": [
    {
     "data": {
      "text/plain": [
       "Index(['Пол', 'Возраст', 'Зарплата', 'Члены семьи', 'Страховые выплаты'], dtype='object')"
      ]
     },
     "execution_count": 12,
     "metadata": {},
     "output_type": "execute_result"
    }
   ],
   "source": [
    "df.columns"
   ]
  },
  {
   "cell_type": "markdown",
   "metadata": {},
   "source": [
    "**Признаки:** пол, возраст и зарплата застрахованного, количество членов его семьи\n",
    "\n",
    "**Целевой признак:** количество страховых выплат клиенту за последние 5 лет (колонка 'Страховые выплаты')"
   ]
  },
  {
   "cell_type": "markdown",
   "metadata": {},
   "source": [
    "\n",
    "    \n",
    "**Выводы п.2:**\n",
    "- В колонке с Заработной платой есть мимимальное значение в равзмере 5300 рублей, что конечно сильно выделяется, но эти строки оставим для обучения модели, эти данные важны. По остальным колонкам выбросов нет\n",
    "- Заметно выделяется количество мужчин и женщим - их поровну\n",
    "- Пропусков в датафрейме нет\n",
    "- Строковых значений в датафрейме нет, только числовые\n",
    "- Явные дубликаты были удалены\n",
    "- С целевым признаком - Страховыми выплатами больше всего коррелирует возраст клиентов"
   ]
  },
  {
   "cell_type": "markdown",
   "metadata": {},
   "source": [
    "## Умножение матриц"
   ]
  },
  {
   "cell_type": "markdown",
   "metadata": {},
   "source": [
    "**ЗАДАЧА:**\n",
    "\n",
    "Необходимо ответить на вопрос и обосновать решение. \n",
    "Признаки умножают на обратимую матрицу. Изменится ли качество линейной регрессии? (Её можно обучить заново.)\n",
    "- a. Изменится. Приведите примеры матриц.\n",
    "- b. Не изменится. Укажите, как связаны параметры линейной регрессии в исходной задаче и в преобразованной."
   ]
  },
  {
   "cell_type": "markdown",
   "metadata": {},
   "source": [
    "**УСЛОВИЕ И ИСХОДНЫЕ ДАННЫЕ:**\n",
    "\n",
    "\n",
    "Предсказания:\n",
    "\n",
    "$\n",
    "a = Xw\n",
    "$\n",
    "\n",
    "Задача обучения:\n",
    "\n",
    "$\n",
    "w = \\arg\\min_w MSE(Xw, y)\n",
    "$\n",
    "\n",
    "Формула обучения:\n",
    "\n",
    "$\n",
    "w = (X^T X)^{-1} X^T y\n",
    "$\n",
    "\n",
    "Обозначения:\n",
    "\n",
    "- $X$ — матрица признаков (нулевой столбец состоит из единиц)\n",
    "\n",
    "- $y$ — вектор целевого признака\n",
    "\n",
    "- $P$ — матрица, на которую умножаются признаки\n",
    "\n",
    "- $w$ — вектор весов линейной регрессии (нулевой элемент равен сдвигу)"
   ]
  },
  {
   "cell_type": "markdown",
   "metadata": {},
   "source": [
    "**ДОКАЗАТЕЛЬСТВО:**\n",
    "\n",
    "$\n",
    "a = X\\cdot w\n",
    "$ \n",
    "\n",
    "Шифрование обычной матрицы обратимой матрицей P: \n",
    "\n",
    "$\n",
    "a' = X\\cdot P\\cdot w'\n",
    "$ \n",
    " \n",
    "    \n",
    "Формула обучения w' для новой матрицы:\n",
    "    \n",
    "$\n",
    "w' = ((X\\cdot P)^T \\cdot (X\\cdot P))^{-1}\\cdot (X\\cdot P)^T\\cdot Y \n",
    "$\n",
    "\n",
    "У нас матрица **P** обратимая, квадратная матрица, размер которой равен ширине **Х**:\n",
    "\n",
    "Теперь:\n",
    "$\n",
    "X' = X\\cdot P\n",
    "$\n",
    "\n",
    "$\n",
    "w' = argminMSE(X\\cdot P\\cdot w, y)\n",
    "$\n",
    "\n",
    "\n",
    "В формулу $w$ (вектор весов линейной регрессии) вставим $X$ и получим :\n",
    "\n",
    "$\n",
    "w' = ((X\\cdot P)^T X\\cdot P)^{-1} (X\\cdot P)^T y\n",
    "$\n",
    "\n",
    "Используя свойства обратных матриц, раскроем скобки:\n",
    "\n",
    "$\n",
    "w' = P^{-1}((X\\cdot P)^T X)^{-1}(X\\cdot P)^T y\n",
    "$\n",
    "\n",
    "Транспонируем матрицу, раскроем скобки:\n",
    "\n",
    "$\n",
    "w' = P^{-1}(P^T\\cdot X^T\\cdot X)^{-1} P^T\\cdot X^T\\cdot y\n",
    "$\n",
    "\n",
    "\n",
    "Вынесем за скобки $(P^T..)^{-1}$:\n",
    "\n",
    "$\n",
    "w' = P^{-1}(X^T\\cdot X)^{-1}(P^T)^{-1} P^T\\cdot X^T\\cdot y\n",
    "$\n",
    "\n",
    "Сократим выражение $(P^{T})^{-1} P^T$:\n",
    "\n",
    "$\n",
    "w' = P^{-1}(X^T\\cdot X)^{-1} X^T\\cdot y\n",
    "$\n",
    "\n",
    "Заметим, что эта часть $ (X^T\\cdot X)^{-1} X^T\\cdot y $ равняется описанному выше $w$:\n",
    "\n",
    "$\n",
    "w' = P^{-1}\\cdot w\n",
    "$\n",
    "\n",
    "Подставим это в формулу $w$ для нахождения $a' = X'\\cdot w'$ и получим:\n",
    "\n",
    "$\n",
    "a' = X'\\cdot P^{-1}\\cdot w\n",
    "$\n",
    "\n",
    "Также подставим из и получим:\n",
    "$\n",
    "a' = X\\cdot P\\cdot P^{-1}\\cdot w\n",
    "$\n",
    "\n",
    "$P\\cdot P^{-1} $ сокращается\n",
    "\n",
    "В итоге получаем:\n",
    "$\n",
    "a' = X\\cdot w\n",
    "$\n",
    "\n",
    "А значит:\n",
    "$\n",
    "a' = a\n",
    "$\n",
    "\n",
    "**ВЫВОД:**\n",
    "при умножении матрицы **X** на обратимую,квадратную матрицу **P** качество линейной регрессии не изменится"
   ]
  },
  {
   "cell_type": "markdown",
   "metadata": {},
   "source": [
    "\n",
    "    \n",
    "**Выводы п.3 + ОТВЕТ:**\n",
    "\n",
    "Если признаки умножить на обратимую матрицу, то качество линейной регрессии *НЕ ИЗМЕНИТСЯ*"
   ]
  },
  {
   "cell_type": "markdown",
   "metadata": {},
   "source": [
    "## Алгоритм преобразования"
   ]
  },
  {
   "cell_type": "markdown",
   "metadata": {},
   "source": [
    "**ЗАДАЧА:**\n",
    "В данном разделе необходимо предложить алгоритм преобразования данных для решения задачи. Обосновать почему качество линейной регрессии не поменяется.После чего запрограммировать этот алгоритм, применив матричные операции. Проверить, что качество линейной регрессии из sklearn не отличается до и после преобразования. Применить метрику R2."
   ]
  },
  {
   "attachments": {
    "image.png": {
     "image/png": "[encoded data removed]"
    }
   },
   "cell_type": "markdown",
   "metadata": {},
   "source": [
    "![image.png](attachment:image.png)"
   ]
  },
  {
   "cell_type": "markdown",
   "metadata": {},
   "source": [
    "Обоснование\n",
    "\n",
    "При умножениии матрицы признаков на обратимую матрицу, вектор весов линейной регрессии после преоброзования связан со старым:\n",
    "\n",
    "$$\n",
    "w`=P^{-1}w\n",
    "$$\n",
    "При этом чтобы получить исходные признаки, т.е. расшифровать их, необхоодимо домножить матрицу преобразованных признаков на матрицу обратную P\n",
    "\n"
   ]
  },
  {
   "cell_type": "code",
   "execution_count": 14,
   "metadata": {},
   "outputs": [
    {
     "name": "stdout",
     "output_type": "stream",
     "text": [
      "Метрика R2 для исходной матрицы: 0.44973497713702293\n"
     ]
    }
   ],
   "source": [
    "# разделение на выборки обуч. 75% и тестовую 25%\n",
    "features_train, features_test, target_train, target_test = train_test_split(\n",
    "    features, target, test_size=.25, random_state=112)\n",
    "\n",
    "model = LinearRegression()\n",
    "model.fit(features_train, target_train)\n",
    "predictions = model.predict(=features_test)\n",
    "\n",
    "r2_source = r2_score(target_test, predictions)\n",
    "print(f'Метрика R2 для исходной матрицы: {r2_source}')"
   ]
  },
  {
   "cell_type": "markdown",
   "metadata": {},
   "source": [
    "Создадим рандомную матрицу, которую будем использовать для шифрования данных, проверим ее на обратимость через детерминант. Чтобы найти обратную матрицу, вызовим функцию numpy.linalg.inv() (от англ. linear algebra, «линейная алгебра»; invert, «обратить»). Также она поможет проверить матрицу на обратимость: если матрица необратима, будет обнаружена ошибка."
   ]
  },
  {
   "cell_type": "code",
   "execution_count": 15,
   "metadata": {},
   "outputs": [],
   "source": [
    "def get_rand_matrix(features):\n",
    "    det = 0\n",
    "    while det == 0:\n",
    "        matrix = np.random.normal(size=(features.shape[1], features.shape[1]))\n",
    "        det = np.linalg.det(matrix)\n",
    "        features_encryption = features @ matrix\n",
    "    return matrix, features_encryption"
   ]
  },
  {
   "cell_type": "markdown",
   "metadata": {},
   "source": [
    "Зашифруем данные пользователей, умножив признаки на полученную обратимую матрицу, далее посчитаем метрику **R2** на шифрованных данных"
   ]
  },
  {
   "cell_type": "code",
   "execution_count": 16,
   "metadata": {},
   "outputs": [],
   "source": [
    "matrix, features_encryption = get_rand_matrix(features)"
   ]
  },
  {
   "cell_type": "code",
   "execution_count": 17,
   "metadata": {},
   "outputs": [
    {
     "name": "stdout",
     "output_type": "stream",
     "text": [
      "[[ 0.03785368 -0.19267632  0.87893267 -0.77123077]\n",
      " [ 0.73338115  0.32843766 -0.8295851   0.61344847]\n",
      " [-0.48754631 -0.09876289 -0.73921872  2.52530821]\n",
      " [ 0.20943844  1.17758936  0.61107523  0.3269743 ]]\n"
     ]
    }
   ],
   "source": [
    "# посмотрим на созданную случайную матрицу\n",
    "print(matrix)"
   ]
  },
  {
   "cell_type": "markdown",
   "metadata": {},
   "source": [
    "Сделаем разбивку на выборки зашифрованные данные, обучим модель и посчитаем метруку **R2** на зашифрованных данных"
   ]
  },
  {
   "cell_type": "code",
   "execution_count": 18,
   "metadata": {},
   "outputs": [
    {
     "name": "stdout",
     "output_type": "stream",
     "text": [
      "Метрика R2 после шифрования: 0.4497349771372131\n"
     ]
    }
   ],
   "source": [
    "# разделение на выборки обуч. 75% и тестовую 25% для зашифрованных данных\n",
    "features_enc_train, features_enc_test, target_enc_train, target_enc_test = train_test_split(\n",
    "    features_encryption, target, test_size=.25, random_state=112)\n",
    "\n",
    "model_enc = LinearRegression()\n",
    "model_enc.fit(features_enc_train, target_enc_train)\n",
    "predictions_enc = model_enc.predict(features_enc_test)\n",
    "\n",
    "r2_encrypted = r2_score(target_enc_test, predictions_enc)\n",
    "print(f'Метрика R2 после шифрования: {r2_encrypted}')"
   ]
  },
  {
   "cell_type": "markdown",
   "metadata": {},
   "source": [
    "Вычислим разницу мертик **R2** до и после шифрования"
   ]
  },
  {
   "cell_type": "code",
   "execution_count": 19,
   "metadata": {},
   "outputs": [
    {
     "data": {
      "text/plain": [
       "-1.9018120411828932e-13"
      ]
     },
     "execution_count": 19,
     "metadata": {},
     "output_type": "execute_result"
    }
   ],
   "source": [
    "R2_change = r2_source - r2_encrypted\n",
    "R2_change"
   ]
  },
  {
   "cell_type": "markdown",
   "metadata": {},
   "source": [
    "\n",
    "    \n",
    "**Выводы п.4:**\n",
    "    \n",
    "- описан алгоритм шифрования данных пользователей с помощью обратимой матрицы\n",
    "- метрики **R2** до и после шифрования совпали до 11-го знака после запятой (можно считать, что полностью совпали, т.к. -12 степень появилась из-за особенностей расчетов в Питоне), это говорит о том, что качество модели не меняется в результате шифрования данных пользователей"
   ]
  },
  {
   "cell_type": "markdown",
   "metadata": {},
   "source": [
    "## Проверка алгоритма"
   ]
  },
  {
   "cell_type": "markdown",
   "metadata": {},
   "source": [
    "**ЗАДАЧА:** Проверить правильность работы алгоритма описанного выше"
   ]
  },
  {
   "cell_type": "markdown",
   "metadata": {},
   "source": [
    "Приведем зашифрованную матрицу к исходной умножив ее на обратную матрицу, созданную ранее **matrix**. Сравним ее с исходной"
   ]
  },
  {
   "cell_type": "code",
   "execution_count": 20,
   "metadata": {},
   "outputs": [
    {
     "data": {
      "text/html": [
       "<div>\n",
       "<style scoped>\n",
       "    .dataframe tbody tr th:only-of-type {\n",
       "        vertical-align: middle;\n",
       "    }\n",
       "\n",
       "    .dataframe tbody tr th {\n",
       "        vertical-align: top;\n",
       "    }\n",
       "\n",
       "    .dataframe thead th {\n",
       "        text-align: right;\n",
       "    }\n",
       "</style>\n",
       "<table border=\"1\" class=\"dataframe\">\n",
       "  <thead>\n",
       "    <tr style=\"text-align: right;\">\n",
       "      <th></th>\n",
       "      <th>0</th>\n",
       "      <th>1</th>\n",
       "      <th>2</th>\n",
       "      <th>3</th>\n",
       "    </tr>\n",
       "  </thead>\n",
       "  <tbody>\n",
       "    <tr>\n",
       "      <th>0</th>\n",
       "      <td>1.000000e+00</td>\n",
       "      <td>41.0</td>\n",
       "      <td>49600.0</td>\n",
       "      <td>1.000000e+00</td>\n",
       "    </tr>\n",
       "    <tr>\n",
       "      <th>1</th>\n",
       "      <td>0.000000e+00</td>\n",
       "      <td>46.0</td>\n",
       "      <td>38000.0</td>\n",
       "      <td>1.000000e+00</td>\n",
       "    </tr>\n",
       "    <tr>\n",
       "      <th>2</th>\n",
       "      <td>-7.275958e-12</td>\n",
       "      <td>29.0</td>\n",
       "      <td>21000.0</td>\n",
       "      <td>-9.094947e-13</td>\n",
       "    </tr>\n",
       "    <tr>\n",
       "      <th>3</th>\n",
       "      <td>0.000000e+00</td>\n",
       "      <td>21.0</td>\n",
       "      <td>41700.0</td>\n",
       "      <td>2.000000e+00</td>\n",
       "    </tr>\n",
       "    <tr>\n",
       "      <th>4</th>\n",
       "      <td>1.000000e+00</td>\n",
       "      <td>28.0</td>\n",
       "      <td>26100.0</td>\n",
       "      <td>-4.547474e-13</td>\n",
       "    </tr>\n",
       "  </tbody>\n",
       "</table>\n",
       "</div>"
      ],
      "text/plain": [
       "              0     1        2             3\n",
       "0  1.000000e+00  41.0  49600.0  1.000000e+00\n",
       "1  0.000000e+00  46.0  38000.0  1.000000e+00\n",
       "2 -7.275958e-12  29.0  21000.0 -9.094947e-13\n",
       "3  0.000000e+00  21.0  41700.0  2.000000e+00\n",
       "4  1.000000e+00  28.0  26100.0 -4.547474e-13"
      ]
     },
     "execution_count": 20,
     "metadata": {},
     "output_type": "execute_result"
    }
   ],
   "source": [
    "features_reverse= features_encryption @ np.linalg.inv(matrix)\n",
    "features_reverse.head(5)"
   ]
  },
  {
   "cell_type": "code",
   "execution_count": 21,
   "metadata": {},
   "outputs": [
    {
     "data": {
      "text/html": [
       "<div>\n",
       "<style scoped>\n",
       "    .dataframe tbody tr th:only-of-type {\n",
       "        vertical-align: middle;\n",
       "    }\n",
       "\n",
       "    .dataframe tbody tr th {\n",
       "        vertical-align: top;\n",
       "    }\n",
       "\n",
       "    .dataframe thead th {\n",
       "        text-align: right;\n",
       "    }\n",
       "</style>\n",
       "<table border=\"1\" class=\"dataframe\">\n",
       "  <thead>\n",
       "    <tr style=\"text-align: right;\">\n",
       "      <th></th>\n",
       "      <th>Пол</th>\n",
       "      <th>Возраст</th>\n",
       "      <th>Зарплата</th>\n",
       "      <th>Члены семьи</th>\n",
       "    </tr>\n",
       "  </thead>\n",
       "  <tbody>\n",
       "    <tr>\n",
       "      <th>0</th>\n",
       "      <td>1</td>\n",
       "      <td>41</td>\n",
       "      <td>49600</td>\n",
       "      <td>1</td>\n",
       "    </tr>\n",
       "    <tr>\n",
       "      <th>1</th>\n",
       "      <td>0</td>\n",
       "      <td>46</td>\n",
       "      <td>38000</td>\n",
       "      <td>1</td>\n",
       "    </tr>\n",
       "    <tr>\n",
       "      <th>2</th>\n",
       "      <td>0</td>\n",
       "      <td>29</td>\n",
       "      <td>21000</td>\n",
       "      <td>0</td>\n",
       "    </tr>\n",
       "    <tr>\n",
       "      <th>3</th>\n",
       "      <td>0</td>\n",
       "      <td>21</td>\n",
       "      <td>41700</td>\n",
       "      <td>2</td>\n",
       "    </tr>\n",
       "    <tr>\n",
       "      <th>4</th>\n",
       "      <td>1</td>\n",
       "      <td>28</td>\n",
       "      <td>26100</td>\n",
       "      <td>0</td>\n",
       "    </tr>\n",
       "  </tbody>\n",
       "</table>\n",
       "</div>"
      ],
      "text/plain": [
       "   Пол  Возраст  Зарплата  Члены семьи\n",
       "0    1       41     49600            1\n",
       "1    0       46     38000            1\n",
       "2    0       29     21000            0\n",
       "3    0       21     41700            2\n",
       "4    1       28     26100            0"
      ]
     },
     "execution_count": 21,
     "metadata": {},
     "output_type": "execute_result"
    }
   ],
   "source": [
    "features.head(5)"
   ]
  },
  {
   "cell_type": "markdown",
   "metadata": {},
   "source": [
    "Проверим равенство исходных данных и зашифрованных после преобразования обратно в исходные.\n"
   ]
  },
  {
   "cell_type": "code",
   "execution_count": 22,
   "metadata": {},
   "outputs": [
    {
     "name": "stdout",
     "output_type": "stream",
     "text": [
      "Данные после расшифровки совпали с исходными\n"
     ]
    }
   ],
   "source": [
    "# Сверим расшифрованные данные с оригиналом\n",
    "count = 0\n",
    "for i in range(len(features_reverse)):\n",
    "    if (np.round(features_reverse.values[i], 0) == np.round(features.values[i],0)).all() == True:\n",
    "        pass\n",
    "    else:\n",
    "        count += 1\n",
    "        break\n",
    "if count > 0:\n",
    "    print('Данные после расшифровки не совпали с исходными')\n",
    "else:\n",
    "    print('Данные после расшифровки совпали с исходными')"
   ]
  },
  {
   "cell_type": "markdown",
   "metadata": {},
   "source": [
    "\n",
    "    \n",
    "**Выводы п.5:**\n",
    "Матрицы равны. Данные после расшифровки совпали с оригиналом"
   ]
  },
  {
   "cell_type": "markdown",
   "metadata": {},
   "source": [
    "**Общий вывод:**\n",
    "\n",
    "В данной работе перед нами стояла задача создания такого алгоритма преобразования данных, который смог бы скрывать персональную информацию о клиентах страховой компании \"Хоть потоп\". Для достижения поставленных целей мы:\n",
    "\n",
    "- выбрали метод матричных преобразований, который путём умножения матрицы с данными на обратимую матрицу позволяет скрыть персональную информацию клиентов компании\n",
    "\n",
    "- проверили и убедились в том, что матрица для умножения на данные должна быть именно обратимой, так как при умножении признаков на необратимую матрицу возникает существенный риск безвозвратной потери информации. Обработали этот риск, в результате чего наш алгоритм всегда проверяет сформированную матрицу на её обратимость, предварительно вычисляя для неё детерминант\n",
    "\n",
    "- проверили работу алгоритма, зашифровав данные и расшифровав их обратно\n",
    "\n",
    "- на каждом этапе исследования формировали предсказания и с помощью коэффициента детерминации R2 замеряли, насколько хорошо модель соответствует данным. В результате проведённых замеров мы убедились в том, что значение R2 для зашифрованных и расшифрованных данных совпадают. Это означает то, что и качество алгоритма линейной регрессии от шифрования данных путём преобразования матриц не теряется, а значит и зависимости между признаками сохраняются.\n",
    "\n",
    "В целом, данный алгоритм преобразования данных может быть полезен в сфере защиты конфиденциальной информации и обеспечения безопасности данных. Он позволяет скрыть персональную информацию клиентов страховой компании, сохраняя при этом зависимости между признаками и качество модели линейной регрессии. Однако, стоит отметить то, что разработанный нами алгоритм преобразования конфиденциальных данных клиентов с целью их защиты может не до конца отвечать современным требованиям безопасности, так как:\n",
    "\n",
    "- он достаточно прост\n",
    "- при больших данных он будет очень дорогим в потреблении ресурсов"
   ]
  }
 ],
 "metadata": {
  "ExecuteTimeLog": [
   {
    "duration": 2918,
    "start_time": "2023-05-31T09:39:52.706Z"
   },
   {
    "duration": 188,
    "start_time": "2023-05-31T09:39:55.627Z"
   },
   {
    "duration": 0,
    "start_time": "2023-05-31T09:39:55.817Z"
   },
   {
    "duration": 0,
    "start_time": "2023-05-31T09:39:55.818Z"
   },
   {
    "duration": 0,
    "start_time": "2023-05-31T09:39:55.820Z"
   },
   {
    "duration": 0,
    "start_time": "2023-05-31T09:39:55.821Z"
   },
   {
    "duration": 0,
    "start_time": "2023-05-31T09:39:55.822Z"
   },
   {
    "duration": 0,
    "start_time": "2023-05-31T09:39:55.823Z"
   },
   {
    "duration": 0,
    "start_time": "2023-05-31T09:39:55.825Z"
   },
   {
    "duration": 0,
    "start_time": "2023-05-31T09:39:55.826Z"
   },
   {
    "duration": 0,
    "start_time": "2023-05-31T09:39:55.827Z"
   },
   {
    "duration": 0,
    "start_time": "2023-05-31T09:39:55.828Z"
   },
   {
    "duration": 0,
    "start_time": "2023-05-31T09:39:55.829Z"
   },
   {
    "duration": 0,
    "start_time": "2023-05-31T09:39:55.830Z"
   },
   {
    "duration": 0,
    "start_time": "2023-05-31T09:39:55.831Z"
   },
   {
    "duration": 0,
    "start_time": "2023-05-31T09:39:55.832Z"
   },
   {
    "duration": 0,
    "start_time": "2023-05-31T09:39:55.833Z"
   },
   {
    "duration": 0,
    "start_time": "2023-05-31T09:39:55.834Z"
   },
   {
    "duration": 0,
    "start_time": "2023-05-31T09:39:55.835Z"
   },
   {
    "duration": 0,
    "start_time": "2023-05-31T09:39:55.836Z"
   },
   {
    "duration": 0,
    "start_time": "2023-05-31T09:39:55.837Z"
   },
   {
    "duration": 131,
    "start_time": "2023-06-19T13:46:59.856Z"
   },
   {
    "duration": 132,
    "start_time": "2023-06-19T13:47:05.097Z"
   },
   {
    "duration": 119,
    "start_time": "2023-06-19T15:48:24.506Z"
   },
   {
    "duration": 77,
    "start_time": "2023-06-19T15:56:52.963Z"
   },
   {
    "duration": 1531,
    "start_time": "2023-06-19T19:18:06.651Z"
   },
   {
    "duration": 70,
    "start_time": "2023-06-19T19:18:09.648Z"
   },
   {
    "duration": 12,
    "start_time": "2023-06-19T19:18:14.649Z"
   },
   {
    "duration": 15,
    "start_time": "2023-06-19T19:18:27.289Z"
   }
  ],
  "kernelspec": {
   "display_name": "Python 3 (ipykernel)",
   "language": "python",
   "name": "python3"
  },
  "language_info": {
   "codemirror_mode": {
    "name": "ipython",
    "version": 3
   },
   "file_extension": ".py",
   "mimetype": "text/x-python",
   "name": "python",
   "nbconvert_exporter": "python",
   "pygments_lexer": "ipython3",
   "version": "3.9.13"
  },
  "toc": {
   "base_numbering": 1,
   "nav_menu": {},
   "number_sections": true,
   "sideBar": true,
   "skip_h1_title": true,
   "title_cell": "Содержание",
   "title_sidebar": "Contents",
   "toc_cell": true,
   "toc_position": {
    "height": "calc(100% - 180px)",
    "left": "10px",
    "top": "150px",
    "width": "165px"
   },
   "toc_section_display": true,
   "toc_window_display": true
  }
 },
 "nbformat": 4,
 "nbformat_minor": 2
}
