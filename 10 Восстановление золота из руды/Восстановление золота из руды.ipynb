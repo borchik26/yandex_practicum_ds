{
 "cells": [
  {
   "cell_type": "markdown",
   "metadata": {
    "toc": true
   },
   "source": [
    "<h1>Содержание<span class=\"tocSkip\"></span></h1>\n",
    "<div class=\"toc\"><ul class=\"toc-item\"><li><span><a href=\"#Постановка-задачи\" data-toc-modified-id=\"Постановка-задачи-1\"><span class=\"toc-item-num\">1&nbsp;&nbsp;</span>Постановка задачи</a></span><ul class=\"toc-item\"><li><span><a href=\"#Технологический-процесс-производства\" data-toc-modified-id=\"Технологический-процесс-производства-1.1\"><span class=\"toc-item-num\">1.1&nbsp;&nbsp;</span>Технологический процесс производства</a></span></li></ul></li><li><span><a href=\"#Подготовка-данных\" data-toc-modified-id=\"Подготовка-данных-2\"><span class=\"toc-item-num\">2&nbsp;&nbsp;</span>Подготовка данных</a></span><ul class=\"toc-item\"><li><span><a href=\"#Импорт-библиотек-и-данных\" data-toc-modified-id=\"Импорт-библиотек-и-данных-2.1\"><span class=\"toc-item-num\">2.1&nbsp;&nbsp;</span>Импорт библиотек и данных</a></span></li><li><span><a href=\"#Общая-информация-о-датафреймах\" data-toc-modified-id=\"Общая-информация-о-датафреймах-2.2\"><span class=\"toc-item-num\">2.2&nbsp;&nbsp;</span>Общая информация о датафреймах</a></span></li><li><span><a href=\"#Проверка-эффективности-обогащения\" data-toc-modified-id=\"Проверка-эффективности-обогащения-2.3\"><span class=\"toc-item-num\">2.3&nbsp;&nbsp;</span>Проверка эффективности обогащения</a></span></li><li><span><a href=\"#-Комментарий-ревьюера-v1\" data-toc-modified-id=\"-Комментарий-ревьюера-v1-2.4\"><span class=\"toc-item-num\">2.4&nbsp;&nbsp;</span> Комментарий ревьюера v1</a></span></li><li><span><a href=\"#Анализ-признаков-датафреймов\" data-toc-modified-id=\"Анализ-признаков-датафреймов-2.5\"><span class=\"toc-item-num\">2.5&nbsp;&nbsp;</span>Анализ признаков датафреймов</a></span></li><li><span><a href=\"#-Комментарий-ревьюера-v1\" data-toc-modified-id=\"-Комментарий-ревьюера-v1-2.6\"><span class=\"toc-item-num\">2.6&nbsp;&nbsp;</span> Комментарий ревьюера v1</a></span></li><li><span><a href=\"#Предобработка-данных\" data-toc-modified-id=\"Предобработка-данных-2.7\"><span class=\"toc-item-num\">2.7&nbsp;&nbsp;</span>Предобработка данных</a></span><ul class=\"toc-item\"><li><span><a href=\"#Доработка-тестовой-выборки\" data-toc-modified-id=\"Доработка-тестовой-выборки-2.7.1\"><span class=\"toc-item-num\">2.7.1&nbsp;&nbsp;</span>Доработка тестовой выборки</a></span></li><li><span><a href=\"#Пропуски-в-датафреймах\" data-toc-modified-id=\"Пропуски-в-датафреймах-2.7.2\"><span class=\"toc-item-num\">2.7.2&nbsp;&nbsp;</span>Пропуски в датафреймах</a></span></li></ul></li><li><span><a href=\"#-Комментарий-ревьюера-v1\" data-toc-modified-id=\"-Комментарий-ревьюера-v1-2.8\"><span class=\"toc-item-num\">2.8&nbsp;&nbsp;</span> Комментарий ревьюера v1</a></span></li><li><span><a href=\"#-Комментарий-ревьюера-v1\" data-toc-modified-id=\"-Комментарий-ревьюера-v1-2.9\"><span class=\"toc-item-num\">2.9&nbsp;&nbsp;</span> Комментарий ревьюера v1</a></span></li></ul></li><li><span><a href=\"#Анализ-данных\" data-toc-modified-id=\"Анализ-данных-3\"><span class=\"toc-item-num\">3&nbsp;&nbsp;</span>Анализ данных</a></span><ul class=\"toc-item\"><li><span><a href=\"#Изменение-концентрации-металлов-на-различных-этапах\" data-toc-modified-id=\"Изменение-концентрации-металлов-на-различных-этапах-3.1\"><span class=\"toc-item-num\">3.1&nbsp;&nbsp;</span>Изменение концентрации металлов на различных этапах</a></span></li><li><span><a href=\"#-Комментарий-ревьюера-v1\" data-toc-modified-id=\"-Комментарий-ревьюера-v1-3.2\"><span class=\"toc-item-num\">3.2&nbsp;&nbsp;</span> Комментарий ревьюера v1</a></span></li><li><span><a href=\"#Сравнение-распределения-размеров-гранул-исходного-сырья-на-обучающей-и-тестовой-выборках\" data-toc-modified-id=\"Сравнение-распределения-размеров-гранул-исходного-сырья-на-обучающей-и-тестовой-выборках-3.3\"><span class=\"toc-item-num\">3.3&nbsp;&nbsp;</span>Сравнение распределения размеров гранул исходного сырья на обучающей и тестовой выборках</a></span></li><li><span><a href=\"#-Комментарий-ревьюера-v1\" data-toc-modified-id=\"-Комментарий-ревьюера-v1-3.4\"><span class=\"toc-item-num\">3.4&nbsp;&nbsp;</span> Комментарий ревьюера v1</a></span></li><li><span><a href=\"#Исследование-суммарной-концентрации-металлов-на-разных-стадиях\" data-toc-modified-id=\"Исследование-суммарной-концентрации-металлов-на-разных-стадиях-3.5\"><span class=\"toc-item-num\">3.5&nbsp;&nbsp;</span>Исследование суммарной концентрации металлов на разных стадиях</a></span></li><li><span><a href=\"#Удаление-выбросов\" data-toc-modified-id=\"Удаление-выбросов-3.6\"><span class=\"toc-item-num\">3.6&nbsp;&nbsp;</span>Удаление выбросов</a></span></li><li><span><a href=\"#-Комментарий-ревьюера-v1\" data-toc-modified-id=\"-Комментарий-ревьюера-v1-3.7\"><span class=\"toc-item-num\">3.7&nbsp;&nbsp;</span> Комментарий ревьюера v1</a></span></li><li><span><a href=\"#-Комментарий-ревьюера-v1\" data-toc-modified-id=\"-Комментарий-ревьюера-v1-3.8\"><span class=\"toc-item-num\">3.8&nbsp;&nbsp;</span> Комментарий ревьюера v1</a></span></li></ul></li><li><span><a href=\"#Модель-предсказывания-коэффициента-восстановления-золота\" data-toc-modified-id=\"Модель-предсказывания-коэффициента-восстановления-золота-4\"><span class=\"toc-item-num\">4&nbsp;&nbsp;</span>Модель предсказывания коэффициента восстановления золота</a></span><ul class=\"toc-item\"><li><span><a href=\"#Подготовка-выборки-и-модели\" data-toc-modified-id=\"Подготовка-выборки-и-модели-4.1\"><span class=\"toc-item-num\">4.1&nbsp;&nbsp;</span>Подготовка выборки и модели</a></span></li><li><span><a href=\"#-Комментарий-ревьюера-v1\" data-toc-modified-id=\"-Комментарий-ревьюера-v1-4.2\"><span class=\"toc-item-num\">4.2&nbsp;&nbsp;</span> Комментарий ревьюера v1</a></span></li><li><span><a href=\"#Линейная-регрессия\" data-toc-modified-id=\"Линейная-регрессия-4.3\"><span class=\"toc-item-num\">4.3&nbsp;&nbsp;</span>Линейная регрессия</a></span></li><li><span><a href=\"#Дерево-решений\" data-toc-modified-id=\"Дерево-решений-4.4\"><span class=\"toc-item-num\">4.4&nbsp;&nbsp;</span>Дерево решений</a></span></li><li><span><a href=\"#-Комментарий-ревьюера-v1\" data-toc-modified-id=\"-Комментарий-ревьюера-v1-4.5\"><span class=\"toc-item-num\">4.5&nbsp;&nbsp;</span> Комментарий ревьюера v1</a></span></li><li><span><a href=\"#Случайный-лес\" data-toc-modified-id=\"Случайный-лес-4.6\"><span class=\"toc-item-num\">4.6&nbsp;&nbsp;</span>Случайный лес</a></span></li><li><span><a href=\"#Cводная-таблица-рассчитанных-значений-sMAPE\" data-toc-modified-id=\"Cводная-таблица-рассчитанных-значений-sMAPE-4.7\"><span class=\"toc-item-num\">4.7&nbsp;&nbsp;</span>Cводная таблица рассчитанных значений sMAPE</a></span></li><li><span><a href=\"#-Комментарий-ревьюера-v1\" data-toc-modified-id=\"-Комментарий-ревьюера-v1-4.8\"><span class=\"toc-item-num\">4.8&nbsp;&nbsp;</span> Комментарий ревьюера v1</a></span></li><li><span><a href=\"#Проверка-лучшей-модели\" data-toc-modified-id=\"Проверка-лучшей-модели-4.9\"><span class=\"toc-item-num\">4.9&nbsp;&nbsp;</span>Проверка лучшей модели</a></span></li><li><span><a href=\"#Проверка-модели-на-адекватность\" data-toc-modified-id=\"Проверка-модели-на-адекватность-4.10\"><span class=\"toc-item-num\">4.10&nbsp;&nbsp;</span>Проверка модели на адекватность</a></span></li><li><span><a href=\"#-Комментарий-ревьюера-v1\" data-toc-modified-id=\"-Комментарий-ревьюера-v1-4.11\"><span class=\"toc-item-num\">4.11&nbsp;&nbsp;</span> Комментарий ревьюера v1</a></span></li></ul></li><li><span><a href=\"#Общий-вывод\" data-toc-modified-id=\"Общий-вывод-5\"><span class=\"toc-item-num\">5&nbsp;&nbsp;</span>Общий вывод</a></span><ul class=\"toc-item\"><li><span><a href=\"#-Итоговый-комментарий\" data-toc-modified-id=\"-Итоговый-комментарий-5.1\"><span class=\"toc-item-num\">5.1&nbsp;&nbsp;</span> Итоговый комментарий</a></span></li></ul></li></ul></div>"
   ]
  },
  {
   "cell_type": "markdown",
   "metadata": {},
   "source": [
    "# Восстановление золота из руды"
   ]
  },
  {
   "cell_type": "markdown",
   "metadata": {},
   "source": [
    "## Постановка задачи\n",
    "В данной работе необходимо подготовить **ML-модель** машинного обучения для компании «Цифры», которая предсказывает коэффициент восстановления золота из золотосодержащей руды для оптимизации производства, чтобы не запускать предприятие с убыточными характеристиками. В модели используются данные с параметрами добычи и очистки.\n",
    "\n",
    "**ОСНОВНЫЕ ЭТАПЫ ПОЕКТА:**\n",
    "1. Подготовка данных;\n",
    "2. Проведение исследовательского анализа данных;\n",
    "3. Построение и обучение модели.\n",
    "\n",
    "**ИСХОДНЫЕ ДАННЫЕ:**\n",
    "1) Данные с параметрами добычи и очистки;\n",
    "Данные находятся в трёх файлах:\n",
    "    - gold_industry_train.csv — обучающая выборка;\n",
    "    - gold_industry_test.csv — тестовая выборка;\n",
    "    - gold_industry_full.csv — исходные данные.\n",
    "\n",
    "2) Технологический процесс производства золота из руды;\n",
    "3) Параметры этапов\n",
    "4) Наименования признаков"
   ]
  },
  {
   "cell_type": "markdown",
   "metadata": {},
   "source": [
    "### Технологический процесс производства"
   ]
  },
  {
   "cell_type": "markdown",
   "metadata": {},
   "source": [
    "Получение золота из руда проходит в несколько стадий. Когда добытая руда проходит первичную обработку, получается дроблёная смесь. Её отправляют на флотацию (обогащение) и двухэтапную очистку."
   ]
  },
  {
   "cell_type": "markdown",
   "metadata": {},
   "source": [
    "**Стадии производства:**\n",
    "\n",
    "1. **Флотация**\n",
    "\n",
    "Во флотационную установку подаётся смесь золотосодержащей руды. После обогащения получается черновой концентрат и «отвальные хвосты», то есть остатки продукта с низкой концентрацией ценных металлов.\n",
    "На стабильность этого процесса влияет непостоянное и неоптимальное физико-химическое состояние флотационной пульпы (смеси твёрдых частиц и жидкости).\n",
    "\n",
    "2. **Очистка** \n",
    "\n",
    "Черновой концентрат проходит две очистки. На выходе получается финальный концентрат и новые отвальные хвосты.\n"
   ]
  },
  {
   "cell_type": "markdown",
   "metadata": {},
   "source": [
    "**Расчёт эффективности**\n",
    "\n",
    "Необходимо смоделировать процесс восстановления золота из золотосодержащей руды. Эффективность обогащения рассчитывается по формуле:"
   ]
  },
  {
   "cell_type": "markdown",
   "metadata": {},
   "source": [
    "где:\n",
    "- **C** — доля золота в концентрате после флотации/очистки;\n",
    "- **F** — доля золота в сырье/концентрате до флотации/очистки;\n",
    "- **T** — доля золота в отвальных хвостах после флотации/очистки.\n",
    "\n",
    "Для прогноза коэффициента нужно найти долю золота в концентратах и хвостах. Причём важен не только финальный продукт, но и черновой концентрат."
   ]
  },
  {
   "cell_type": "markdown",
   "metadata": {},
   "source": [
    "**Метрика качества**\n",
    "\n",
    "Для решения задачи введём новую метрику качества — sMAPE (англ. Symmetric Mean Absolute Percentage Error, «симметричное среднее абсолютное процентное отклонение»).\n",
    "\n",
    "Она похожа на MAE, но выражается не в абсолютных величинах, а в относительных. Почему симметричная? Она одинаково учитывает масштаб и целевого признака, и предсказания.\n",
    "Метрика sMAPE вычисляется так:"
   ]
  },
  {
   "cell_type": "markdown",
   "metadata": {},
   "source": []
  },
  {
   "cell_type": "markdown",
   "metadata": {},
   "source": [
    "где:\n",
    "- **yi** - Значение целевого признака для объекта с порядковым номером i в выборке, на которой измеряется качество.\n",
    "- **Ŷi** -  Значение предсказания для объекта с порядковым номером i, например, в тестовой выборке.\n",
    "- **N** - Количество объектов в выборке.\n",
    "- **∑_(i=1)^N** - Суммирование по всем объектам выборки (i меняется от 1 до N).\n",
    "\n",
    "**Нужно спрогнозировать сразу две величины:**\n",
    "1) эффективность обогащения чернового концентрата rougher.output.recovery;\n",
    "2) эффективность обогащения финального концентрата final.output.recovery.\n",
    "\n",
    "Итоговая метрика складывается из двух величин:\n"
   ]
  },
  {
   "cell_type": "markdown",
   "metadata": {},
   "source": [
    "## Подготовка данных"
   ]
  },
  {
   "cell_type": "markdown",
   "metadata": {},
   "source": [
    "### Импорт библиотек и данных"
   ]
  },
  {
   "cell_type": "code",
   "execution_count": 66,
   "metadata": {},
   "outputs": [],
   "source": [
    "# для анализа и работы с данных\n",
    "import pandas as pd\n",
    "import numpy as np\n",
    "import collections as clns\n",
    "\n",
    "# для графического отображения результатов\n",
    "import seaborn as sns\n",
    "import matplotlib.pyplot as plt\n",
    "\n",
    "# алгоритмы машинного обучения\n",
    "from sklearn.linear_model import LinearRegression\n",
    "from sklearn.tree import DecisionTreeRegressor\n",
    "from sklearn.ensemble import RandomForestRegressor\n",
    "from catboost import CatBoostRegressor\n",
    "from sklearn.dummy import DummyRegressor\n",
    "from sklearn.model_selection import RandomizedSearchCV\n",
    "from sklearn.model_selection import (cross_val_score,\n",
    "                                     GridSearchCV)\n",
    "\n",
    "# метрики для алгоритмов ML\n",
    "from sklearn.metrics import (make_scorer,\n",
    "                             mean_absolute_error)\n",
    "\n",
    "RANDOM_STATE = 112"
   ]
  },
  {
   "cell_type": "code",
   "execution_count": 2,
   "metadata": {},
   "outputs": [],
   "source": [
    "# загрузка датафрейма (try - локально, except - по ссылке)\n",
    "try:\n",
    "    df_train = pd.read_csv('datasets/gold_industry_train.csv')\n",
    "    df_test = pd.read_csv('datasets/gold_industry_test.csv')\n",
    "    df_full = pd.read_csv('datasets/gold_industry_full.csv')\n",
    "    \n",
    "except:\n",
    "    df_train = pd.read_csv('https://code.s3.yandex.net/datasets/gold_industry_train.csv')\n",
    "    df_test= pd.read_csv('https://code.s3.yandex.net/datasets/gold_industry_test.csv')\n",
    "    df_full = pd.read_csv('https://code.s3.yandex.net/datasets/gold_industry_full.csv')"
   ]
  },
  {
   "cell_type": "markdown",
   "metadata": {},
   "source": [
    "### Общая информация о датафреймах"
   ]
  },
  {
   "cell_type": "code",
   "execution_count": 3,
   "metadata": {},
   "outputs": [],
   "source": [
    "# создание списка датафреймов для дальнейших вычислений\n",
    "df_all = [df_train, df_test, df_full]"
   ]
  },
  {
   "cell_type": "code",
   "execution_count": 4,
   "metadata": {},
   "outputs": [],
   "source": [
    "# функиия для вывода основных показателей трех датафреймов\n",
    "def df_info(df):\n",
    "\n",
    "    print(\"-\"*100)\n",
    "    print('Общая информамия о датафрейме:')\n",
    "    print(\"-\"*100)\n",
    "    print(df.info())\n",
    "    \n",
    "    print(\"-\"*100)\n",
    "    print('Первые 5 строк таблицы')\n",
    "    print(\"-\"*100)\n",
    "    display(df.head(5))\n",
    "    \n",
    "    print(\"-\"*100)\n",
    "    print('Количество пропусков')\n",
    "    print(\"-\"*100)\n",
    "    print(df.isnull().sum().sort_values(ascending=False))\n",
    "    \n",
    "    print(\"-\"*100)\n",
    "    print('Статистические данные датафрейма')\n",
    "    print(\"-\"*100)\n",
    "    display(np.round(df.describe(), 2).T)\n",
    "    \n",
    "    print(\"-\"*100)\n",
    "    print('Количество дубликатов:')\n",
    "    print(\"-\"*100)\n",
    "    display(df.duplicated().sum())\n",
    "    \n"
   ]
  },
  {
   "cell_type": "code",
   "execution_count": 5,
   "metadata": {
    "scrolled": true
   },
   "outputs": [
    {
     "name": "stdout",
     "output_type": "stream",
     "text": [
      "----------------------------------------------------------------------------------------------------\n",
      "Общая информамия о датафрейме:\n",
      "----------------------------------------------------------------------------------------------------\n",
      "<class 'pandas.core.frame.DataFrame'>\n",
      "RangeIndex: 14579 entries, 0 to 14578\n",
      "Data columns (total 87 columns):\n",
      " #   Column                                              Non-Null Count  Dtype  \n",
      "---  ------                                              --------------  -----  \n",
      " 0   date                                                14579 non-null  object \n",
      " 1   rougher.input.feed_au                               14579 non-null  float64\n",
      " 2   rougher.input.feed_ag                               14579 non-null  float64\n",
      " 3   rougher.input.feed_pb                               14507 non-null  float64\n",
      " 4   rougher.input.feed_sol                              14502 non-null  float64\n",
      " 5   rougher.input.feed_rate                             14572 non-null  float64\n",
      " 6   rougher.input.feed_size                             14478 non-null  float64\n",
      " 7   rougher.input.floatbank10_sulfate                   14548 non-null  float64\n",
      " 8   rougher.input.floatbank10_xanthate                  14572 non-null  float64\n",
      " 9   rougher.state.floatbank10_a_air                     14579 non-null  float64\n",
      " 10  rougher.state.floatbank10_a_level                   14579 non-null  float64\n",
      " 11  rougher.state.floatbank10_b_air                     14579 non-null  float64\n",
      " 12  rougher.state.floatbank10_b_level                   14579 non-null  float64\n",
      " 13  rougher.state.floatbank10_c_air                     14579 non-null  float64\n",
      " 14  rougher.state.floatbank10_c_level                   14579 non-null  float64\n",
      " 15  rougher.state.floatbank10_d_air                     14579 non-null  float64\n",
      " 16  rougher.state.floatbank10_d_level                   14579 non-null  float64\n",
      " 17  rougher.state.floatbank10_e_air                     14150 non-null  float64\n",
      " 18  rougher.state.floatbank10_e_level                   14579 non-null  float64\n",
      " 19  rougher.state.floatbank10_f_air                     14579 non-null  float64\n",
      " 20  rougher.state.floatbank10_f_level                   14579 non-null  float64\n",
      " 21  rougher.input.floatbank11_sulfate                   14543 non-null  float64\n",
      " 22  rougher.input.floatbank11_xanthate                  14172 non-null  float64\n",
      " 23  rougher.calculation.sulfate_to_au_concentrate       14578 non-null  float64\n",
      " 24  rougher.calculation.floatbank10_sulfate_to_au_feed  14578 non-null  float64\n",
      " 25  rougher.calculation.floatbank11_sulfate_to_au_feed  14578 non-null  float64\n",
      " 26  rougher.calculation.au_pb_ratio                     14579 non-null  float64\n",
      " 27  rougher.output.concentrate_au                       14579 non-null  float64\n",
      " 28  rougher.output.concentrate_ag                       14579 non-null  float64\n",
      " 29  rougher.output.concentrate_pb                       14579 non-null  float64\n",
      " 30  rougher.output.concentrate_sol                      14561 non-null  float64\n",
      " 31  rougher.output.recovery                             14579 non-null  float64\n",
      " 32  rougher.output.tail_au                              14579 non-null  float64\n",
      " 33  rougher.output.tail_ag                              14578 non-null  float64\n",
      " 34  rougher.output.tail_pb                              14579 non-null  float64\n",
      " 35  rougher.output.tail_sol                             14579 non-null  float64\n",
      " 36  primary_cleaner.input.sulfate                       14556 non-null  float64\n",
      " 37  primary_cleaner.input.depressant                    14551 non-null  float64\n",
      " 38  primary_cleaner.input.feed_size                     14579 non-null  float64\n",
      " 39  primary_cleaner.input.xanthate                      14518 non-null  float64\n",
      " 40  primary_cleaner.state.floatbank8_a_air              14576 non-null  float64\n",
      " 41  primary_cleaner.state.floatbank8_a_level            14579 non-null  float64\n",
      " 42  primary_cleaner.state.floatbank8_b_air              14576 non-null  float64\n",
      " 43  primary_cleaner.state.floatbank8_b_level            14579 non-null  float64\n",
      " 44  primary_cleaner.state.floatbank8_c_air              14579 non-null  float64\n",
      " 45  primary_cleaner.state.floatbank8_c_level            14579 non-null  float64\n",
      " 46  primary_cleaner.state.floatbank8_d_air              14578 non-null  float64\n",
      " 47  primary_cleaner.state.floatbank8_d_level            14579 non-null  float64\n",
      " 48  primary_cleaner.output.concentrate_au               14579 non-null  float64\n",
      " 49  primary_cleaner.output.concentrate_ag               14579 non-null  float64\n",
      " 50  primary_cleaner.output.concentrate_pb               14491 non-null  float64\n",
      " 51  primary_cleaner.output.concentrate_sol              14314 non-null  float64\n",
      " 52  primary_cleaner.output.tail_au                      14579 non-null  float64\n",
      " 53  primary_cleaner.output.tail_ag                      14575 non-null  float64\n",
      " 54  primary_cleaner.output.tail_pb                      14573 non-null  float64\n",
      " 55  primary_cleaner.output.tail_sol                     14534 non-null  float64\n",
      " 56  secondary_cleaner.state.floatbank2_a_air            14485 non-null  float64\n",
      " 57  secondary_cleaner.state.floatbank2_a_level          14579 non-null  float64\n",
      " 58  secondary_cleaner.state.floatbank2_b_air            14557 non-null  float64\n",
      " 59  secondary_cleaner.state.floatbank2_b_level          14579 non-null  float64\n",
      " 60  secondary_cleaner.state.floatbank3_a_air            14567 non-null  float64\n",
      " 61  secondary_cleaner.state.floatbank3_a_level          14579 non-null  float64\n",
      " 62  secondary_cleaner.state.floatbank3_b_air            14579 non-null  float64\n",
      " 63  secondary_cleaner.state.floatbank3_b_level          14579 non-null  float64\n",
      " 64  secondary_cleaner.state.floatbank4_a_air            14574 non-null  float64\n",
      " 65  secondary_cleaner.state.floatbank4_a_level          14579 non-null  float64\n",
      " 66  secondary_cleaner.state.floatbank4_b_air            14579 non-null  float64\n",
      " 67  secondary_cleaner.state.floatbank4_b_level          14579 non-null  float64\n",
      " 68  secondary_cleaner.state.floatbank5_a_air            14579 non-null  float64\n",
      " 69  secondary_cleaner.state.floatbank5_a_level          14579 non-null  float64\n",
      " 70  secondary_cleaner.state.floatbank5_b_air            14579 non-null  float64\n",
      " 71  secondary_cleaner.state.floatbank5_b_level          14579 non-null  float64\n",
      " 72  secondary_cleaner.state.floatbank6_a_air            14578 non-null  float64\n",
      " 73  secondary_cleaner.state.floatbank6_a_level          14579 non-null  float64\n",
      " 74  secondary_cleaner.output.tail_au                    14579 non-null  float64\n",
      " 75  secondary_cleaner.output.tail_ag                    14578 non-null  float64\n",
      " 76  secondary_cleaner.output.tail_pb                    14575 non-null  float64\n",
      " 77  secondary_cleaner.output.tail_sol                   13659 non-null  float64\n",
      " 78  final.output.concentrate_au                         14579 non-null  float64\n",
      " 79  final.output.concentrate_ag                         14578 non-null  float64\n",
      " 80  final.output.concentrate_pb                         14578 non-null  float64\n",
      " 81  final.output.concentrate_sol                        14387 non-null  float64\n",
      " 82  final.output.recovery                               14579 non-null  float64\n",
      " 83  final.output.tail_au                                14579 non-null  float64\n",
      " 84  final.output.tail_ag                                14578 non-null  float64\n",
      " 85  final.output.tail_pb                                14504 non-null  float64\n",
      " 86  final.output.tail_sol                               14574 non-null  float64\n",
      "dtypes: float64(86), object(1)\n",
      "memory usage: 9.7+ MB\n",
      "None\n",
      "----------------------------------------------------------------------------------------------------\n",
      "Первые 5 строк таблицы\n",
      "----------------------------------------------------------------------------------------------------\n"
     ]
    },
    {
     "data": {
      "text/html": [
       "<div>\n",
       "<style scoped>\n",
       "    .dataframe tbody tr th:only-of-type {\n",
       "        vertical-align: middle;\n",
       "    }\n",
       "\n",
       "    .dataframe tbody tr th {\n",
       "        vertical-align: top;\n",
       "    }\n",
       "\n",
       "    .dataframe thead th {\n",
       "        text-align: right;\n",
       "    }\n",
       "</style>\n",
       "<table border=\"1\" class=\"dataframe\">\n",
       "  <thead>\n",
       "    <tr style=\"text-align: right;\">\n",
       "      <th></th>\n",
       "      <th>date</th>\n",
       "      <th>rougher.input.feed_au</th>\n",
       "      <th>rougher.input.feed_ag</th>\n",
       "      <th>rougher.input.feed_pb</th>\n",
       "      <th>rougher.input.feed_sol</th>\n",
       "      <th>rougher.input.feed_rate</th>\n",
       "      <th>rougher.input.feed_size</th>\n",
       "      <th>rougher.input.floatbank10_sulfate</th>\n",
       "      <th>rougher.input.floatbank10_xanthate</th>\n",
       "      <th>rougher.state.floatbank10_a_air</th>\n",
       "      <th>...</th>\n",
       "      <th>secondary_cleaner.output.tail_sol</th>\n",
       "      <th>final.output.concentrate_au</th>\n",
       "      <th>final.output.concentrate_ag</th>\n",
       "      <th>final.output.concentrate_pb</th>\n",
       "      <th>final.output.concentrate_sol</th>\n",
       "      <th>final.output.recovery</th>\n",
       "      <th>final.output.tail_au</th>\n",
       "      <th>final.output.tail_ag</th>\n",
       "      <th>final.output.tail_pb</th>\n",
       "      <th>final.output.tail_sol</th>\n",
       "    </tr>\n",
       "  </thead>\n",
       "  <tbody>\n",
       "    <tr>\n",
       "      <th>0</th>\n",
       "      <td>2016-01-15 00:00:00</td>\n",
       "      <td>6.486150</td>\n",
       "      <td>6.100378</td>\n",
       "      <td>2.284912</td>\n",
       "      <td>36.808594</td>\n",
       "      <td>523.546326</td>\n",
       "      <td>55.486599</td>\n",
       "      <td>11.986616</td>\n",
       "      <td>6.007990</td>\n",
       "      <td>999.706909</td>\n",
       "      <td>...</td>\n",
       "      <td>8.764648</td>\n",
       "      <td>42.192020</td>\n",
       "      <td>6.055403</td>\n",
       "      <td>9.889648</td>\n",
       "      <td>5.507324</td>\n",
       "      <td>70.541216</td>\n",
       "      <td>2.143149</td>\n",
       "      <td>10.411962</td>\n",
       "      <td>0.895447</td>\n",
       "      <td>16.904297</td>\n",
       "    </tr>\n",
       "    <tr>\n",
       "      <th>1</th>\n",
       "      <td>2016-01-15 01:00:00</td>\n",
       "      <td>6.478583</td>\n",
       "      <td>6.161113</td>\n",
       "      <td>2.266033</td>\n",
       "      <td>35.753385</td>\n",
       "      <td>525.290581</td>\n",
       "      <td>57.278666</td>\n",
       "      <td>11.971193</td>\n",
       "      <td>6.005766</td>\n",
       "      <td>1000.286398</td>\n",
       "      <td>...</td>\n",
       "      <td>9.001494</td>\n",
       "      <td>42.701629</td>\n",
       "      <td>6.029369</td>\n",
       "      <td>9.968944</td>\n",
       "      <td>5.257781</td>\n",
       "      <td>69.266198</td>\n",
       "      <td>2.224930</td>\n",
       "      <td>10.462676</td>\n",
       "      <td>0.927452</td>\n",
       "      <td>16.634514</td>\n",
       "    </tr>\n",
       "    <tr>\n",
       "      <th>2</th>\n",
       "      <td>2016-01-15 02:00:00</td>\n",
       "      <td>6.362222</td>\n",
       "      <td>6.116455</td>\n",
       "      <td>2.159622</td>\n",
       "      <td>35.971630</td>\n",
       "      <td>530.026610</td>\n",
       "      <td>57.510649</td>\n",
       "      <td>11.920603</td>\n",
       "      <td>6.197377</td>\n",
       "      <td>999.719565</td>\n",
       "      <td>...</td>\n",
       "      <td>8.842896</td>\n",
       "      <td>42.657501</td>\n",
       "      <td>6.055926</td>\n",
       "      <td>10.213995</td>\n",
       "      <td>5.383759</td>\n",
       "      <td>68.116445</td>\n",
       "      <td>2.257889</td>\n",
       "      <td>10.507046</td>\n",
       "      <td>0.953716</td>\n",
       "      <td>16.208849</td>\n",
       "    </tr>\n",
       "    <tr>\n",
       "      <th>3</th>\n",
       "      <td>2016-01-15 03:00:00</td>\n",
       "      <td>6.118189</td>\n",
       "      <td>6.043309</td>\n",
       "      <td>2.037807</td>\n",
       "      <td>36.862241</td>\n",
       "      <td>542.590390</td>\n",
       "      <td>57.792734</td>\n",
       "      <td>11.630094</td>\n",
       "      <td>6.203177</td>\n",
       "      <td>999.814770</td>\n",
       "      <td>...</td>\n",
       "      <td>9.122857</td>\n",
       "      <td>42.689819</td>\n",
       "      <td>6.047977</td>\n",
       "      <td>9.977019</td>\n",
       "      <td>4.858634</td>\n",
       "      <td>68.347543</td>\n",
       "      <td>2.146849</td>\n",
       "      <td>10.422762</td>\n",
       "      <td>0.883763</td>\n",
       "      <td>16.532835</td>\n",
       "    </tr>\n",
       "    <tr>\n",
       "      <th>4</th>\n",
       "      <td>2016-01-15 04:00:00</td>\n",
       "      <td>5.663707</td>\n",
       "      <td>6.060915</td>\n",
       "      <td>1.786875</td>\n",
       "      <td>34.347666</td>\n",
       "      <td>540.531893</td>\n",
       "      <td>56.047189</td>\n",
       "      <td>10.957755</td>\n",
       "      <td>6.198826</td>\n",
       "      <td>999.678690</td>\n",
       "      <td>...</td>\n",
       "      <td>8.871028</td>\n",
       "      <td>42.774141</td>\n",
       "      <td>6.148599</td>\n",
       "      <td>10.142511</td>\n",
       "      <td>4.939416</td>\n",
       "      <td>66.927016</td>\n",
       "      <td>2.055292</td>\n",
       "      <td>10.360302</td>\n",
       "      <td>0.792826</td>\n",
       "      <td>16.525686</td>\n",
       "    </tr>\n",
       "  </tbody>\n",
       "</table>\n",
       "<p>5 rows × 87 columns</p>\n",
       "</div>"
      ],
      "text/plain": [
       "                  date  rougher.input.feed_au  rougher.input.feed_ag  \\\n",
       "0  2016-01-15 00:00:00               6.486150               6.100378   \n",
       "1  2016-01-15 01:00:00               6.478583               6.161113   \n",
       "2  2016-01-15 02:00:00               6.362222               6.116455   \n",
       "3  2016-01-15 03:00:00               6.118189               6.043309   \n",
       "4  2016-01-15 04:00:00               5.663707               6.060915   \n",
       "\n",
       "   rougher.input.feed_pb  rougher.input.feed_sol  rougher.input.feed_rate  \\\n",
       "0               2.284912               36.808594               523.546326   \n",
       "1               2.266033               35.753385               525.290581   \n",
       "2               2.159622               35.971630               530.026610   \n",
       "3               2.037807               36.862241               542.590390   \n",
       "4               1.786875               34.347666               540.531893   \n",
       "\n",
       "   rougher.input.feed_size  rougher.input.floatbank10_sulfate  \\\n",
       "0                55.486599                          11.986616   \n",
       "1                57.278666                          11.971193   \n",
       "2                57.510649                          11.920603   \n",
       "3                57.792734                          11.630094   \n",
       "4                56.047189                          10.957755   \n",
       "\n",
       "   rougher.input.floatbank10_xanthate  rougher.state.floatbank10_a_air  ...  \\\n",
       "0                            6.007990                       999.706909  ...   \n",
       "1                            6.005766                      1000.286398  ...   \n",
       "2                            6.197377                       999.719565  ...   \n",
       "3                            6.203177                       999.814770  ...   \n",
       "4                            6.198826                       999.678690  ...   \n",
       "\n",
       "   secondary_cleaner.output.tail_sol  final.output.concentrate_au  \\\n",
       "0                           8.764648                    42.192020   \n",
       "1                           9.001494                    42.701629   \n",
       "2                           8.842896                    42.657501   \n",
       "3                           9.122857                    42.689819   \n",
       "4                           8.871028                    42.774141   \n",
       "\n",
       "   final.output.concentrate_ag  final.output.concentrate_pb  \\\n",
       "0                     6.055403                     9.889648   \n",
       "1                     6.029369                     9.968944   \n",
       "2                     6.055926                    10.213995   \n",
       "3                     6.047977                     9.977019   \n",
       "4                     6.148599                    10.142511   \n",
       "\n",
       "   final.output.concentrate_sol  final.output.recovery  final.output.tail_au  \\\n",
       "0                      5.507324              70.541216              2.143149   \n",
       "1                      5.257781              69.266198              2.224930   \n",
       "2                      5.383759              68.116445              2.257889   \n",
       "3                      4.858634              68.347543              2.146849   \n",
       "4                      4.939416              66.927016              2.055292   \n",
       "\n",
       "   final.output.tail_ag  final.output.tail_pb  final.output.tail_sol  \n",
       "0             10.411962              0.895447              16.904297  \n",
       "1             10.462676              0.927452              16.634514  \n",
       "2             10.507046              0.953716              16.208849  \n",
       "3             10.422762              0.883763              16.532835  \n",
       "4             10.360302              0.792826              16.525686  \n",
       "\n",
       "[5 rows x 87 columns]"
      ]
     },
     "metadata": {},
     "output_type": "display_data"
    },
    {
     "name": "stdout",
     "output_type": "stream",
     "text": [
      "----------------------------------------------------------------------------------------------------\n",
      "Количество пропусков\n",
      "----------------------------------------------------------------------------------------------------\n",
      "secondary_cleaner.output.tail_sol           920\n",
      "rougher.state.floatbank10_e_air             429\n",
      "rougher.input.floatbank11_xanthate          407\n",
      "primary_cleaner.output.concentrate_sol      265\n",
      "final.output.concentrate_sol                192\n",
      "                                           ... \n",
      "primary_cleaner.state.floatbank8_c_air        0\n",
      "primary_cleaner.state.floatbank8_c_level      0\n",
      "primary_cleaner.state.floatbank8_d_level      0\n",
      "primary_cleaner.output.concentrate_au         0\n",
      "primary_cleaner.state.floatbank8_b_level      0\n",
      "Length: 87, dtype: int64\n",
      "----------------------------------------------------------------------------------------------------\n",
      "Статистические данные датафрейма\n",
      "----------------------------------------------------------------------------------------------------\n"
     ]
    },
    {
     "data": {
      "text/html": [
       "<div>\n",
       "<style scoped>\n",
       "    .dataframe tbody tr th:only-of-type {\n",
       "        vertical-align: middle;\n",
       "    }\n",
       "\n",
       "    .dataframe tbody tr th {\n",
       "        vertical-align: top;\n",
       "    }\n",
       "\n",
       "    .dataframe thead th {\n",
       "        text-align: right;\n",
       "    }\n",
       "</style>\n",
       "<table border=\"1\" class=\"dataframe\">\n",
       "  <thead>\n",
       "    <tr style=\"text-align: right;\">\n",
       "      <th></th>\n",
       "      <th>count</th>\n",
       "      <th>mean</th>\n",
       "      <th>std</th>\n",
       "      <th>min</th>\n",
       "      <th>25%</th>\n",
       "      <th>50%</th>\n",
       "      <th>75%</th>\n",
       "      <th>max</th>\n",
       "    </tr>\n",
       "  </thead>\n",
       "  <tbody>\n",
       "    <tr>\n",
       "      <th>rougher.input.feed_au</th>\n",
       "      <td>14579.0</td>\n",
       "      <td>8.35</td>\n",
       "      <td>1.93</td>\n",
       "      <td>0.01</td>\n",
       "      <td>6.93</td>\n",
       "      <td>8.23</td>\n",
       "      <td>9.83</td>\n",
       "      <td>13.73</td>\n",
       "    </tr>\n",
       "    <tr>\n",
       "      <th>rougher.input.feed_ag</th>\n",
       "      <td>14579.0</td>\n",
       "      <td>8.88</td>\n",
       "      <td>1.92</td>\n",
       "      <td>0.01</td>\n",
       "      <td>7.34</td>\n",
       "      <td>8.72</td>\n",
       "      <td>10.26</td>\n",
       "      <td>14.60</td>\n",
       "    </tr>\n",
       "    <tr>\n",
       "      <th>rougher.input.feed_pb</th>\n",
       "      <td>14507.0</td>\n",
       "      <td>3.60</td>\n",
       "      <td>1.06</td>\n",
       "      <td>0.01</td>\n",
       "      <td>2.88</td>\n",
       "      <td>3.53</td>\n",
       "      <td>4.26</td>\n",
       "      <td>7.05</td>\n",
       "    </tr>\n",
       "    <tr>\n",
       "      <th>rougher.input.feed_sol</th>\n",
       "      <td>14502.0</td>\n",
       "      <td>36.56</td>\n",
       "      <td>5.21</td>\n",
       "      <td>0.01</td>\n",
       "      <td>34.09</td>\n",
       "      <td>37.10</td>\n",
       "      <td>39.90</td>\n",
       "      <td>53.48</td>\n",
       "    </tr>\n",
       "    <tr>\n",
       "      <th>rougher.input.feed_rate</th>\n",
       "      <td>14572.0</td>\n",
       "      <td>474.33</td>\n",
       "      <td>108.50</td>\n",
       "      <td>0.00</td>\n",
       "      <td>411.05</td>\n",
       "      <td>498.19</td>\n",
       "      <td>549.59</td>\n",
       "      <td>717.51</td>\n",
       "    </tr>\n",
       "    <tr>\n",
       "      <th>...</th>\n",
       "      <td>...</td>\n",
       "      <td>...</td>\n",
       "      <td>...</td>\n",
       "      <td>...</td>\n",
       "      <td>...</td>\n",
       "      <td>...</td>\n",
       "      <td>...</td>\n",
       "      <td>...</td>\n",
       "    </tr>\n",
       "    <tr>\n",
       "      <th>final.output.recovery</th>\n",
       "      <td>14579.0</td>\n",
       "      <td>66.76</td>\n",
       "      <td>10.62</td>\n",
       "      <td>0.00</td>\n",
       "      <td>63.11</td>\n",
       "      <td>67.96</td>\n",
       "      <td>72.60</td>\n",
       "      <td>100.00</td>\n",
       "    </tr>\n",
       "    <tr>\n",
       "      <th>final.output.tail_au</th>\n",
       "      <td>14579.0</td>\n",
       "      <td>3.09</td>\n",
       "      <td>0.92</td>\n",
       "      <td>0.00</td>\n",
       "      <td>2.51</td>\n",
       "      <td>3.03</td>\n",
       "      <td>3.61</td>\n",
       "      <td>8.25</td>\n",
       "    </tr>\n",
       "    <tr>\n",
       "      <th>final.output.tail_ag</th>\n",
       "      <td>14578.0</td>\n",
       "      <td>9.73</td>\n",
       "      <td>2.36</td>\n",
       "      <td>0.00</td>\n",
       "      <td>8.09</td>\n",
       "      <td>9.82</td>\n",
       "      <td>11.17</td>\n",
       "      <td>19.55</td>\n",
       "    </tr>\n",
       "    <tr>\n",
       "      <th>final.output.tail_pb</th>\n",
       "      <td>14504.0</td>\n",
       "      <td>2.72</td>\n",
       "      <td>0.96</td>\n",
       "      <td>0.00</td>\n",
       "      <td>2.04</td>\n",
       "      <td>2.77</td>\n",
       "      <td>3.35</td>\n",
       "      <td>5.80</td>\n",
       "    </tr>\n",
       "    <tr>\n",
       "      <th>final.output.tail_sol</th>\n",
       "      <td>14574.0</td>\n",
       "      <td>10.61</td>\n",
       "      <td>2.87</td>\n",
       "      <td>0.00</td>\n",
       "      <td>9.01</td>\n",
       "      <td>10.67</td>\n",
       "      <td>12.13</td>\n",
       "      <td>22.32</td>\n",
       "    </tr>\n",
       "  </tbody>\n",
       "</table>\n",
       "<p>86 rows × 8 columns</p>\n",
       "</div>"
      ],
      "text/plain": [
       "                           count    mean     std   min     25%     50%  \\\n",
       "rougher.input.feed_au    14579.0    8.35    1.93  0.01    6.93    8.23   \n",
       "rougher.input.feed_ag    14579.0    8.88    1.92  0.01    7.34    8.72   \n",
       "rougher.input.feed_pb    14507.0    3.60    1.06  0.01    2.88    3.53   \n",
       "rougher.input.feed_sol   14502.0   36.56    5.21  0.01   34.09   37.10   \n",
       "rougher.input.feed_rate  14572.0  474.33  108.50  0.00  411.05  498.19   \n",
       "...                          ...     ...     ...   ...     ...     ...   \n",
       "final.output.recovery    14579.0   66.76   10.62  0.00   63.11   67.96   \n",
       "final.output.tail_au     14579.0    3.09    0.92  0.00    2.51    3.03   \n",
       "final.output.tail_ag     14578.0    9.73    2.36  0.00    8.09    9.82   \n",
       "final.output.tail_pb     14504.0    2.72    0.96  0.00    2.04    2.77   \n",
       "final.output.tail_sol    14574.0   10.61    2.87  0.00    9.01   10.67   \n",
       "\n",
       "                            75%     max  \n",
       "rougher.input.feed_au      9.83   13.73  \n",
       "rougher.input.feed_ag     10.26   14.60  \n",
       "rougher.input.feed_pb      4.26    7.05  \n",
       "rougher.input.feed_sol    39.90   53.48  \n",
       "rougher.input.feed_rate  549.59  717.51  \n",
       "...                         ...     ...  \n",
       "final.output.recovery     72.60  100.00  \n",
       "final.output.tail_au       3.61    8.25  \n",
       "final.output.tail_ag      11.17   19.55  \n",
       "final.output.tail_pb       3.35    5.80  \n",
       "final.output.tail_sol     12.13   22.32  \n",
       "\n",
       "[86 rows x 8 columns]"
      ]
     },
     "metadata": {},
     "output_type": "display_data"
    },
    {
     "name": "stdout",
     "output_type": "stream",
     "text": [
      "----------------------------------------------------------------------------------------------------\n",
      "Количество дубликатов:\n",
      "----------------------------------------------------------------------------------------------------\n"
     ]
    },
    {
     "data": {
      "text/plain": [
       "0"
      ]
     },
     "metadata": {},
     "output_type": "display_data"
    },
    {
     "name": "stdout",
     "output_type": "stream",
     "text": [
      "----------------------------------------------------------------------------------------------------\n",
      "Общая информамия о датафрейме:\n",
      "----------------------------------------------------------------------------------------------------\n",
      "<class 'pandas.core.frame.DataFrame'>\n",
      "RangeIndex: 4860 entries, 0 to 4859\n",
      "Data columns (total 53 columns):\n",
      " #   Column                                      Non-Null Count  Dtype  \n",
      "---  ------                                      --------------  -----  \n",
      " 0   date                                        4860 non-null   object \n",
      " 1   rougher.input.feed_au                       4860 non-null   float64\n",
      " 2   rougher.input.feed_ag                       4860 non-null   float64\n",
      " 3   rougher.input.feed_pb                       4832 non-null   float64\n",
      " 4   rougher.input.feed_sol                      4838 non-null   float64\n",
      " 5   rougher.input.feed_rate                     4856 non-null   float64\n",
      " 6   rougher.input.feed_size                     4816 non-null   float64\n",
      " 7   rougher.input.floatbank10_sulfate           4857 non-null   float64\n",
      " 8   rougher.input.floatbank10_xanthate          4859 non-null   float64\n",
      " 9   rougher.state.floatbank10_a_air             4859 non-null   float64\n",
      " 10  rougher.state.floatbank10_a_level           4859 non-null   float64\n",
      " 11  rougher.state.floatbank10_b_air             4859 non-null   float64\n",
      " 12  rougher.state.floatbank10_b_level           4859 non-null   float64\n",
      " 13  rougher.state.floatbank10_c_air             4859 non-null   float64\n",
      " 14  rougher.state.floatbank10_c_level           4859 non-null   float64\n",
      " 15  rougher.state.floatbank10_d_air             4860 non-null   float64\n",
      " 16  rougher.state.floatbank10_d_level           4860 non-null   float64\n",
      " 17  rougher.state.floatbank10_e_air             4853 non-null   float64\n",
      " 18  rougher.state.floatbank10_e_level           4860 non-null   float64\n",
      " 19  rougher.state.floatbank10_f_air             4860 non-null   float64\n",
      " 20  rougher.state.floatbank10_f_level           4860 non-null   float64\n",
      " 21  rougher.input.floatbank11_sulfate           4852 non-null   float64\n",
      " 22  rougher.input.floatbank11_xanthate          4814 non-null   float64\n",
      " 23  primary_cleaner.input.sulfate               4859 non-null   float64\n",
      " 24  primary_cleaner.input.depressant            4851 non-null   float64\n",
      " 25  primary_cleaner.input.feed_size             4860 non-null   float64\n",
      " 26  primary_cleaner.input.xanthate              4817 non-null   float64\n",
      " 27  primary_cleaner.state.floatbank8_a_air      4859 non-null   float64\n",
      " 28  primary_cleaner.state.floatbank8_a_level    4859 non-null   float64\n",
      " 29  primary_cleaner.state.floatbank8_b_air      4859 non-null   float64\n",
      " 30  primary_cleaner.state.floatbank8_b_level    4859 non-null   float64\n",
      " 31  primary_cleaner.state.floatbank8_c_air      4858 non-null   float64\n",
      " 32  primary_cleaner.state.floatbank8_c_level    4859 non-null   float64\n",
      " 33  primary_cleaner.state.floatbank8_d_air      4858 non-null   float64\n",
      " 34  primary_cleaner.state.floatbank8_d_level    4859 non-null   float64\n",
      " 35  secondary_cleaner.state.floatbank2_a_air    4734 non-null   float64\n",
      " 36  secondary_cleaner.state.floatbank2_a_level  4859 non-null   float64\n",
      " 37  secondary_cleaner.state.floatbank2_b_air    4859 non-null   float64\n",
      " 38  secondary_cleaner.state.floatbank2_b_level  4859 non-null   float64\n",
      " 39  secondary_cleaner.state.floatbank3_a_air    4859 non-null   float64\n",
      " 40  secondary_cleaner.state.floatbank3_a_level  4859 non-null   float64\n",
      " 41  secondary_cleaner.state.floatbank3_b_air    4859 non-null   float64\n",
      " 42  secondary_cleaner.state.floatbank3_b_level  4859 non-null   float64\n",
      " 43  secondary_cleaner.state.floatbank4_a_air    4859 non-null   float64\n",
      " 44  secondary_cleaner.state.floatbank4_a_level  4859 non-null   float64\n",
      " 45  secondary_cleaner.state.floatbank4_b_air    4859 non-null   float64\n",
      " 46  secondary_cleaner.state.floatbank4_b_level  4859 non-null   float64\n",
      " 47  secondary_cleaner.state.floatbank5_a_air    4859 non-null   float64\n",
      " 48  secondary_cleaner.state.floatbank5_a_level  4859 non-null   float64\n",
      " 49  secondary_cleaner.state.floatbank5_b_air    4859 non-null   float64\n",
      " 50  secondary_cleaner.state.floatbank5_b_level  4859 non-null   float64\n",
      " 51  secondary_cleaner.state.floatbank6_a_air    4859 non-null   float64\n",
      " 52  secondary_cleaner.state.floatbank6_a_level  4859 non-null   float64\n",
      "dtypes: float64(52), object(1)\n",
      "memory usage: 2.0+ MB\n",
      "None\n",
      "----------------------------------------------------------------------------------------------------\n",
      "Первые 5 строк таблицы\n",
      "----------------------------------------------------------------------------------------------------\n"
     ]
    },
    {
     "data": {
      "text/html": [
       "<div>\n",
       "<style scoped>\n",
       "    .dataframe tbody tr th:only-of-type {\n",
       "        vertical-align: middle;\n",
       "    }\n",
       "\n",
       "    .dataframe tbody tr th {\n",
       "        vertical-align: top;\n",
       "    }\n",
       "\n",
       "    .dataframe thead th {\n",
       "        text-align: right;\n",
       "    }\n",
       "</style>\n",
       "<table border=\"1\" class=\"dataframe\">\n",
       "  <thead>\n",
       "    <tr style=\"text-align: right;\">\n",
       "      <th></th>\n",
       "      <th>date</th>\n",
       "      <th>rougher.input.feed_au</th>\n",
       "      <th>rougher.input.feed_ag</th>\n",
       "      <th>rougher.input.feed_pb</th>\n",
       "      <th>rougher.input.feed_sol</th>\n",
       "      <th>rougher.input.feed_rate</th>\n",
       "      <th>rougher.input.feed_size</th>\n",
       "      <th>rougher.input.floatbank10_sulfate</th>\n",
       "      <th>rougher.input.floatbank10_xanthate</th>\n",
       "      <th>rougher.state.floatbank10_a_air</th>\n",
       "      <th>...</th>\n",
       "      <th>secondary_cleaner.state.floatbank4_a_air</th>\n",
       "      <th>secondary_cleaner.state.floatbank4_a_level</th>\n",
       "      <th>secondary_cleaner.state.floatbank4_b_air</th>\n",
       "      <th>secondary_cleaner.state.floatbank4_b_level</th>\n",
       "      <th>secondary_cleaner.state.floatbank5_a_air</th>\n",
       "      <th>secondary_cleaner.state.floatbank5_a_level</th>\n",
       "      <th>secondary_cleaner.state.floatbank5_b_air</th>\n",
       "      <th>secondary_cleaner.state.floatbank5_b_level</th>\n",
       "      <th>secondary_cleaner.state.floatbank6_a_air</th>\n",
       "      <th>secondary_cleaner.state.floatbank6_a_level</th>\n",
       "    </tr>\n",
       "  </thead>\n",
       "  <tbody>\n",
       "    <tr>\n",
       "      <th>0</th>\n",
       "      <td>2017-12-09 14:59:59</td>\n",
       "      <td>4.365491</td>\n",
       "      <td>6.158718</td>\n",
       "      <td>3.875727</td>\n",
       "      <td>39.135119</td>\n",
       "      <td>555.820208</td>\n",
       "      <td>94.544358</td>\n",
       "      <td>6.146982</td>\n",
       "      <td>9.308612</td>\n",
       "      <td>1196.238112</td>\n",
       "      <td>...</td>\n",
       "      <td>23.018622</td>\n",
       "      <td>-500.492702</td>\n",
       "      <td>20.020205</td>\n",
       "      <td>-500.220296</td>\n",
       "      <td>17.963512</td>\n",
       "      <td>-499.939490</td>\n",
       "      <td>12.990306</td>\n",
       "      <td>-500.080993</td>\n",
       "      <td>19.990336</td>\n",
       "      <td>-499.191575</td>\n",
       "    </tr>\n",
       "    <tr>\n",
       "      <th>1</th>\n",
       "      <td>2017-12-09 15:59:59</td>\n",
       "      <td>4.362781</td>\n",
       "      <td>6.048130</td>\n",
       "      <td>3.902537</td>\n",
       "      <td>39.713906</td>\n",
       "      <td>544.731687</td>\n",
       "      <td>123.742430</td>\n",
       "      <td>6.210119</td>\n",
       "      <td>9.297709</td>\n",
       "      <td>1201.904177</td>\n",
       "      <td>...</td>\n",
       "      <td>23.024963</td>\n",
       "      <td>-501.153409</td>\n",
       "      <td>20.054122</td>\n",
       "      <td>-500.314711</td>\n",
       "      <td>17.979515</td>\n",
       "      <td>-499.272871</td>\n",
       "      <td>12.992404</td>\n",
       "      <td>-499.976268</td>\n",
       "      <td>20.013986</td>\n",
       "      <td>-500.625471</td>\n",
       "    </tr>\n",
       "    <tr>\n",
       "      <th>2</th>\n",
       "      <td>2017-12-09 16:59:59</td>\n",
       "      <td>5.081681</td>\n",
       "      <td>6.082745</td>\n",
       "      <td>4.564078</td>\n",
       "      <td>37.208683</td>\n",
       "      <td>558.155110</td>\n",
       "      <td>82.610855</td>\n",
       "      <td>7.363824</td>\n",
       "      <td>9.003562</td>\n",
       "      <td>1200.826926</td>\n",
       "      <td>...</td>\n",
       "      <td>22.993827</td>\n",
       "      <td>-501.559663</td>\n",
       "      <td>20.029144</td>\n",
       "      <td>-500.000662</td>\n",
       "      <td>18.012723</td>\n",
       "      <td>-500.024764</td>\n",
       "      <td>13.016445</td>\n",
       "      <td>-500.058432</td>\n",
       "      <td>19.973767</td>\n",
       "      <td>-501.394155</td>\n",
       "    </tr>\n",
       "    <tr>\n",
       "      <th>3</th>\n",
       "      <td>2017-12-09 17:59:59</td>\n",
       "      <td>5.145949</td>\n",
       "      <td>6.084374</td>\n",
       "      <td>4.768124</td>\n",
       "      <td>36.808874</td>\n",
       "      <td>539.713765</td>\n",
       "      <td>77.984784</td>\n",
       "      <td>6.927072</td>\n",
       "      <td>8.955597</td>\n",
       "      <td>1199.292489</td>\n",
       "      <td>...</td>\n",
       "      <td>23.032807</td>\n",
       "      <td>-501.287889</td>\n",
       "      <td>19.977466</td>\n",
       "      <td>-500.159903</td>\n",
       "      <td>17.980463</td>\n",
       "      <td>-500.504602</td>\n",
       "      <td>12.949071</td>\n",
       "      <td>-500.009937</td>\n",
       "      <td>20.010332</td>\n",
       "      <td>-508.337973</td>\n",
       "    </tr>\n",
       "    <tr>\n",
       "      <th>4</th>\n",
       "      <td>2017-12-09 18:59:59</td>\n",
       "      <td>5.735249</td>\n",
       "      <td>6.165220</td>\n",
       "      <td>4.512346</td>\n",
       "      <td>37.810642</td>\n",
       "      <td>558.713584</td>\n",
       "      <td>86.434874</td>\n",
       "      <td>7.823471</td>\n",
       "      <td>7.490356</td>\n",
       "      <td>1198.005449</td>\n",
       "      <td>...</td>\n",
       "      <td>23.001911</td>\n",
       "      <td>-499.947838</td>\n",
       "      <td>20.023735</td>\n",
       "      <td>-499.713680</td>\n",
       "      <td>17.990955</td>\n",
       "      <td>-500.334769</td>\n",
       "      <td>13.007523</td>\n",
       "      <td>-499.968459</td>\n",
       "      <td>19.995999</td>\n",
       "      <td>-499.788805</td>\n",
       "    </tr>\n",
       "  </tbody>\n",
       "</table>\n",
       "<p>5 rows × 53 columns</p>\n",
       "</div>"
      ],
      "text/plain": [
       "                  date  rougher.input.feed_au  rougher.input.feed_ag  \\\n",
       "0  2017-12-09 14:59:59               4.365491               6.158718   \n",
       "1  2017-12-09 15:59:59               4.362781               6.048130   \n",
       "2  2017-12-09 16:59:59               5.081681               6.082745   \n",
       "3  2017-12-09 17:59:59               5.145949               6.084374   \n",
       "4  2017-12-09 18:59:59               5.735249               6.165220   \n",
       "\n",
       "   rougher.input.feed_pb  rougher.input.feed_sol  rougher.input.feed_rate  \\\n",
       "0               3.875727               39.135119               555.820208   \n",
       "1               3.902537               39.713906               544.731687   \n",
       "2               4.564078               37.208683               558.155110   \n",
       "3               4.768124               36.808874               539.713765   \n",
       "4               4.512346               37.810642               558.713584   \n",
       "\n",
       "   rougher.input.feed_size  rougher.input.floatbank10_sulfate  \\\n",
       "0                94.544358                           6.146982   \n",
       "1               123.742430                           6.210119   \n",
       "2                82.610855                           7.363824   \n",
       "3                77.984784                           6.927072   \n",
       "4                86.434874                           7.823471   \n",
       "\n",
       "   rougher.input.floatbank10_xanthate  rougher.state.floatbank10_a_air  ...  \\\n",
       "0                            9.308612                      1196.238112  ...   \n",
       "1                            9.297709                      1201.904177  ...   \n",
       "2                            9.003562                      1200.826926  ...   \n",
       "3                            8.955597                      1199.292489  ...   \n",
       "4                            7.490356                      1198.005449  ...   \n",
       "\n",
       "   secondary_cleaner.state.floatbank4_a_air  \\\n",
       "0                                 23.018622   \n",
       "1                                 23.024963   \n",
       "2                                 22.993827   \n",
       "3                                 23.032807   \n",
       "4                                 23.001911   \n",
       "\n",
       "   secondary_cleaner.state.floatbank4_a_level  \\\n",
       "0                                 -500.492702   \n",
       "1                                 -501.153409   \n",
       "2                                 -501.559663   \n",
       "3                                 -501.287889   \n",
       "4                                 -499.947838   \n",
       "\n",
       "   secondary_cleaner.state.floatbank4_b_air  \\\n",
       "0                                 20.020205   \n",
       "1                                 20.054122   \n",
       "2                                 20.029144   \n",
       "3                                 19.977466   \n",
       "4                                 20.023735   \n",
       "\n",
       "   secondary_cleaner.state.floatbank4_b_level  \\\n",
       "0                                 -500.220296   \n",
       "1                                 -500.314711   \n",
       "2                                 -500.000662   \n",
       "3                                 -500.159903   \n",
       "4                                 -499.713680   \n",
       "\n",
       "   secondary_cleaner.state.floatbank5_a_air  \\\n",
       "0                                 17.963512   \n",
       "1                                 17.979515   \n",
       "2                                 18.012723   \n",
       "3                                 17.980463   \n",
       "4                                 17.990955   \n",
       "\n",
       "   secondary_cleaner.state.floatbank5_a_level  \\\n",
       "0                                 -499.939490   \n",
       "1                                 -499.272871   \n",
       "2                                 -500.024764   \n",
       "3                                 -500.504602   \n",
       "4                                 -500.334769   \n",
       "\n",
       "   secondary_cleaner.state.floatbank5_b_air  \\\n",
       "0                                 12.990306   \n",
       "1                                 12.992404   \n",
       "2                                 13.016445   \n",
       "3                                 12.949071   \n",
       "4                                 13.007523   \n",
       "\n",
       "   secondary_cleaner.state.floatbank5_b_level  \\\n",
       "0                                 -500.080993   \n",
       "1                                 -499.976268   \n",
       "2                                 -500.058432   \n",
       "3                                 -500.009937   \n",
       "4                                 -499.968459   \n",
       "\n",
       "   secondary_cleaner.state.floatbank6_a_air  \\\n",
       "0                                 19.990336   \n",
       "1                                 20.013986   \n",
       "2                                 19.973767   \n",
       "3                                 20.010332   \n",
       "4                                 19.995999   \n",
       "\n",
       "   secondary_cleaner.state.floatbank6_a_level  \n",
       "0                                 -499.191575  \n",
       "1                                 -500.625471  \n",
       "2                                 -501.394155  \n",
       "3                                 -508.337973  \n",
       "4                                 -499.788805  \n",
       "\n",
       "[5 rows x 53 columns]"
      ]
     },
     "metadata": {},
     "output_type": "display_data"
    },
    {
     "name": "stdout",
     "output_type": "stream",
     "text": [
      "----------------------------------------------------------------------------------------------------\n",
      "Количество пропусков\n",
      "----------------------------------------------------------------------------------------------------\n",
      "secondary_cleaner.state.floatbank2_a_air      126\n",
      "rougher.input.floatbank11_xanthate             46\n",
      "rougher.input.feed_size                        44\n",
      "primary_cleaner.input.xanthate                 43\n",
      "rougher.input.feed_pb                          28\n",
      "rougher.input.feed_sol                         22\n",
      "primary_cleaner.input.depressant                9\n",
      "rougher.input.floatbank11_sulfate               8\n",
      "rougher.state.floatbank10_e_air                 7\n",
      "rougher.input.feed_rate                         4\n",
      "rougher.input.floatbank10_sulfate               3\n",
      "primary_cleaner.state.floatbank8_d_air          2\n",
      "primary_cleaner.state.floatbank8_c_air          2\n",
      "primary_cleaner.state.floatbank8_d_level        1\n",
      "secondary_cleaner.state.floatbank3_a_level      1\n",
      "secondary_cleaner.state.floatbank2_a_level      1\n",
      "secondary_cleaner.state.floatbank2_b_air        1\n",
      "secondary_cleaner.state.floatbank2_b_level      1\n",
      "secondary_cleaner.state.floatbank3_a_air        1\n",
      "secondary_cleaner.state.floatbank4_a_air        1\n",
      "secondary_cleaner.state.floatbank3_b_air        1\n",
      "secondary_cleaner.state.floatbank3_b_level      1\n",
      "secondary_cleaner.state.floatbank4_a_level      1\n",
      "secondary_cleaner.state.floatbank4_b_air        1\n",
      "secondary_cleaner.state.floatbank4_b_level      1\n",
      "secondary_cleaner.state.floatbank5_a_air        1\n",
      "secondary_cleaner.state.floatbank5_a_level      1\n",
      "secondary_cleaner.state.floatbank5_b_air        1\n",
      "secondary_cleaner.state.floatbank5_b_level      1\n",
      "secondary_cleaner.state.floatbank6_a_air        1\n",
      "primary_cleaner.state.floatbank8_c_level        1\n",
      "secondary_cleaner.state.floatbank6_a_level      1\n",
      "primary_cleaner.state.floatbank8_b_level        1\n",
      "rougher.state.floatbank10_c_air                 1\n",
      "primary_cleaner.state.floatbank8_a_level        1\n",
      "primary_cleaner.state.floatbank8_a_air          1\n",
      "rougher.input.floatbank10_xanthate              1\n",
      "primary_cleaner.input.sulfate                   1\n",
      "rougher.state.floatbank10_a_air                 1\n",
      "rougher.state.floatbank10_a_level               1\n",
      "rougher.state.floatbank10_b_air                 1\n",
      "primary_cleaner.state.floatbank8_b_air          1\n",
      "rougher.state.floatbank10_b_level               1\n",
      "rougher.state.floatbank10_c_level               1\n",
      "rougher.input.feed_ag                           0\n",
      "rougher.state.floatbank10_d_level               0\n",
      "rougher.state.floatbank10_d_air                 0\n",
      "rougher.state.floatbank10_e_level               0\n",
      "rougher.state.floatbank10_f_air                 0\n",
      "rougher.state.floatbank10_f_level               0\n",
      "primary_cleaner.input.feed_size                 0\n",
      "rougher.input.feed_au                           0\n",
      "date                                            0\n",
      "dtype: int64\n",
      "----------------------------------------------------------------------------------------------------\n",
      "Статистические данные датафрейма\n",
      "----------------------------------------------------------------------------------------------------\n"
     ]
    },
    {
     "data": {
      "text/html": [
       "<div>\n",
       "<style scoped>\n",
       "    .dataframe tbody tr th:only-of-type {\n",
       "        vertical-align: middle;\n",
       "    }\n",
       "\n",
       "    .dataframe tbody tr th {\n",
       "        vertical-align: top;\n",
       "    }\n",
       "\n",
       "    .dataframe thead th {\n",
       "        text-align: right;\n",
       "    }\n",
       "</style>\n",
       "<table border=\"1\" class=\"dataframe\">\n",
       "  <thead>\n",
       "    <tr style=\"text-align: right;\">\n",
       "      <th></th>\n",
       "      <th>count</th>\n",
       "      <th>mean</th>\n",
       "      <th>std</th>\n",
       "      <th>min</th>\n",
       "      <th>25%</th>\n",
       "      <th>50%</th>\n",
       "      <th>75%</th>\n",
       "      <th>max</th>\n",
       "    </tr>\n",
       "  </thead>\n",
       "  <tbody>\n",
       "    <tr>\n",
       "      <th>rougher.input.feed_au</th>\n",
       "      <td>4860.0</td>\n",
       "      <td>8.01</td>\n",
       "      <td>1.99</td>\n",
       "      <td>0.01</td>\n",
       "      <td>6.57</td>\n",
       "      <td>7.81</td>\n",
       "      <td>9.56</td>\n",
       "      <td>13.42</td>\n",
       "    </tr>\n",
       "    <tr>\n",
       "      <th>rougher.input.feed_ag</th>\n",
       "      <td>4860.0</td>\n",
       "      <td>8.55</td>\n",
       "      <td>1.96</td>\n",
       "      <td>0.01</td>\n",
       "      <td>6.98</td>\n",
       "      <td>8.18</td>\n",
       "      <td>10.08</td>\n",
       "      <td>14.53</td>\n",
       "    </tr>\n",
       "    <tr>\n",
       "      <th>rougher.input.feed_pb</th>\n",
       "      <td>4832.0</td>\n",
       "      <td>3.58</td>\n",
       "      <td>1.03</td>\n",
       "      <td>0.01</td>\n",
       "      <td>2.90</td>\n",
       "      <td>3.54</td>\n",
       "      <td>4.20</td>\n",
       "      <td>7.14</td>\n",
       "    </tr>\n",
       "    <tr>\n",
       "      <th>rougher.input.feed_sol</th>\n",
       "      <td>4838.0</td>\n",
       "      <td>37.10</td>\n",
       "      <td>4.93</td>\n",
       "      <td>0.01</td>\n",
       "      <td>34.51</td>\n",
       "      <td>37.50</td>\n",
       "      <td>40.46</td>\n",
       "      <td>53.48</td>\n",
       "    </tr>\n",
       "    <tr>\n",
       "      <th>rougher.input.feed_rate</th>\n",
       "      <td>4856.0</td>\n",
       "      <td>490.29</td>\n",
       "      <td>94.37</td>\n",
       "      <td>0.01</td>\n",
       "      <td>434.10</td>\n",
       "      <td>502.12</td>\n",
       "      <td>555.60</td>\n",
       "      <td>702.52</td>\n",
       "    </tr>\n",
       "    <tr>\n",
       "      <th>rougher.input.feed_size</th>\n",
       "      <td>4816.0</td>\n",
       "      <td>59.11</td>\n",
       "      <td>19.13</td>\n",
       "      <td>0.05</td>\n",
       "      <td>47.60</td>\n",
       "      <td>55.51</td>\n",
       "      <td>66.66</td>\n",
       "      <td>363.99</td>\n",
       "    </tr>\n",
       "    <tr>\n",
       "      <th>rougher.input.floatbank10_sulfate</th>\n",
       "      <td>4857.0</td>\n",
       "      <td>12.06</td>\n",
       "      <td>3.41</td>\n",
       "      <td>0.02</td>\n",
       "      <td>9.89</td>\n",
       "      <td>12.00</td>\n",
       "      <td>14.50</td>\n",
       "      <td>30.01</td>\n",
       "    </tr>\n",
       "    <tr>\n",
       "      <th>rougher.input.floatbank10_xanthate</th>\n",
       "      <td>4859.0</td>\n",
       "      <td>6.10</td>\n",
       "      <td>1.04</td>\n",
       "      <td>0.02</td>\n",
       "      <td>5.50</td>\n",
       "      <td>6.10</td>\n",
       "      <td>6.80</td>\n",
       "      <td>9.40</td>\n",
       "    </tr>\n",
       "    <tr>\n",
       "      <th>rougher.state.floatbank10_a_air</th>\n",
       "      <td>4859.0</td>\n",
       "      <td>1108.64</td>\n",
       "      <td>156.49</td>\n",
       "      <td>300.79</td>\n",
       "      <td>999.72</td>\n",
       "      <td>1001.41</td>\n",
       "      <td>1202.84</td>\n",
       "      <td>1521.98</td>\n",
       "    </tr>\n",
       "    <tr>\n",
       "      <th>rougher.state.floatbank10_a_level</th>\n",
       "      <td>4859.0</td>\n",
       "      <td>-368.34</td>\n",
       "      <td>91.16</td>\n",
       "      <td>-600.57</td>\n",
       "      <td>-499.73</td>\n",
       "      <td>-300.18</td>\n",
       "      <td>-299.96</td>\n",
       "      <td>-281.04</td>\n",
       "    </tr>\n",
       "    <tr>\n",
       "      <th>rougher.state.floatbank10_b_air</th>\n",
       "      <td>4859.0</td>\n",
       "      <td>1312.35</td>\n",
       "      <td>159.00</td>\n",
       "      <td>767.66</td>\n",
       "      <td>1199.74</td>\n",
       "      <td>1300.28</td>\n",
       "      <td>1401.69</td>\n",
       "      <td>1802.53</td>\n",
       "    </tr>\n",
       "    <tr>\n",
       "      <th>rougher.state.floatbank10_b_level</th>\n",
       "      <td>4859.0</td>\n",
       "      <td>-472.51</td>\n",
       "      <td>49.38</td>\n",
       "      <td>-650.00</td>\n",
       "      <td>-500.22</td>\n",
       "      <td>-499.83</td>\n",
       "      <td>-449.93</td>\n",
       "      <td>-298.84</td>\n",
       "    </tr>\n",
       "    <tr>\n",
       "      <th>rougher.state.floatbank10_c_air</th>\n",
       "      <td>4859.0</td>\n",
       "      <td>1291.64</td>\n",
       "      <td>180.20</td>\n",
       "      <td>831.54</td>\n",
       "      <td>1152.40</td>\n",
       "      <td>1299.41</td>\n",
       "      <td>1401.93</td>\n",
       "      <td>2498.87</td>\n",
       "    </tr>\n",
       "    <tr>\n",
       "      <th>rougher.state.floatbank10_c_level</th>\n",
       "      <td>4859.0</td>\n",
       "      <td>-472.90</td>\n",
       "      <td>47.61</td>\n",
       "      <td>-552.66</td>\n",
       "      <td>-500.23</td>\n",
       "      <td>-499.76</td>\n",
       "      <td>-449.66</td>\n",
       "      <td>-298.59</td>\n",
       "    </tr>\n",
       "    <tr>\n",
       "      <th>rougher.state.floatbank10_d_air</th>\n",
       "      <td>4860.0</td>\n",
       "      <td>1204.07</td>\n",
       "      <td>184.55</td>\n",
       "      <td>706.28</td>\n",
       "      <td>1061.68</td>\n",
       "      <td>1200.34</td>\n",
       "      <td>1307.30</td>\n",
       "      <td>1801.71</td>\n",
       "    </tr>\n",
       "    <tr>\n",
       "      <th>rougher.state.floatbank10_d_level</th>\n",
       "      <td>4860.0</td>\n",
       "      <td>-473.38</td>\n",
       "      <td>47.83</td>\n",
       "      <td>-648.12</td>\n",
       "      <td>-500.44</td>\n",
       "      <td>-499.60</td>\n",
       "      <td>-449.94</td>\n",
       "      <td>-296.59</td>\n",
       "    </tr>\n",
       "    <tr>\n",
       "      <th>rougher.state.floatbank10_e_air</th>\n",
       "      <td>4853.0</td>\n",
       "      <td>1075.30</td>\n",
       "      <td>159.99</td>\n",
       "      <td>695.21</td>\n",
       "      <td>998.90</td>\n",
       "      <td>1049.90</td>\n",
       "      <td>1199.15</td>\n",
       "      <td>1701.25</td>\n",
       "    </tr>\n",
       "    <tr>\n",
       "      <th>rougher.state.floatbank10_e_level</th>\n",
       "      <td>4860.0</td>\n",
       "      <td>-471.47</td>\n",
       "      <td>51.41</td>\n",
       "      <td>-598.93</td>\n",
       "      <td>-500.27</td>\n",
       "      <td>-499.72</td>\n",
       "      <td>-449.38</td>\n",
       "      <td>-296.13</td>\n",
       "    </tr>\n",
       "    <tr>\n",
       "      <th>rougher.state.floatbank10_f_air</th>\n",
       "      <td>4860.0</td>\n",
       "      <td>1023.77</td>\n",
       "      <td>147.83</td>\n",
       "      <td>539.63</td>\n",
       "      <td>949.04</td>\n",
       "      <td>1000.06</td>\n",
       "      <td>1099.46</td>\n",
       "      <td>1702.38</td>\n",
       "    </tr>\n",
       "    <tr>\n",
       "      <th>rougher.state.floatbank10_f_level</th>\n",
       "      <td>4860.0</td>\n",
       "      <td>-471.41</td>\n",
       "      <td>51.84</td>\n",
       "      <td>-649.38</td>\n",
       "      <td>-500.53</td>\n",
       "      <td>-499.54</td>\n",
       "      <td>-448.21</td>\n",
       "      <td>-286.38</td>\n",
       "    </tr>\n",
       "    <tr>\n",
       "      <th>rougher.input.floatbank11_sulfate</th>\n",
       "      <td>4852.0</td>\n",
       "      <td>11.97</td>\n",
       "      <td>3.46</td>\n",
       "      <td>0.00</td>\n",
       "      <td>9.82</td>\n",
       "      <td>12.00</td>\n",
       "      <td>14.22</td>\n",
       "      <td>30.01</td>\n",
       "    </tr>\n",
       "    <tr>\n",
       "      <th>rougher.input.floatbank11_xanthate</th>\n",
       "      <td>4814.0</td>\n",
       "      <td>6.12</td>\n",
       "      <td>1.05</td>\n",
       "      <td>0.00</td>\n",
       "      <td>5.50</td>\n",
       "      <td>6.10</td>\n",
       "      <td>6.83</td>\n",
       "      <td>9.40</td>\n",
       "    </tr>\n",
       "    <tr>\n",
       "      <th>primary_cleaner.input.sulfate</th>\n",
       "      <td>4859.0</td>\n",
       "      <td>143.20</td>\n",
       "      <td>42.36</td>\n",
       "      <td>7.33</td>\n",
       "      <td>113.29</td>\n",
       "      <td>139.57</td>\n",
       "      <td>170.74</td>\n",
       "      <td>262.53</td>\n",
       "    </tr>\n",
       "    <tr>\n",
       "      <th>primary_cleaner.input.depressant</th>\n",
       "      <td>4851.0</td>\n",
       "      <td>8.69</td>\n",
       "      <td>3.17</td>\n",
       "      <td>0.00</td>\n",
       "      <td>6.04</td>\n",
       "      <td>8.01</td>\n",
       "      <td>10.61</td>\n",
       "      <td>20.05</td>\n",
       "    </tr>\n",
       "    <tr>\n",
       "      <th>primary_cleaner.input.feed_size</th>\n",
       "      <td>4860.0</td>\n",
       "      <td>7.31</td>\n",
       "      <td>0.59</td>\n",
       "      <td>4.97</td>\n",
       "      <td>6.94</td>\n",
       "      <td>7.29</td>\n",
       "      <td>7.63</td>\n",
       "      <td>9.63</td>\n",
       "    </tr>\n",
       "    <tr>\n",
       "      <th>primary_cleaner.input.xanthate</th>\n",
       "      <td>4817.0</td>\n",
       "      <td>1.01</td>\n",
       "      <td>0.49</td>\n",
       "      <td>0.00</td>\n",
       "      <td>0.70</td>\n",
       "      <td>0.91</td>\n",
       "      <td>1.20</td>\n",
       "      <td>4.00</td>\n",
       "    </tr>\n",
       "    <tr>\n",
       "      <th>primary_cleaner.state.floatbank8_a_air</th>\n",
       "      <td>4859.0</td>\n",
       "      <td>1588.39</td>\n",
       "      <td>124.94</td>\n",
       "      <td>314.24</td>\n",
       "      <td>1505.50</td>\n",
       "      <td>1600.36</td>\n",
       "      <td>1696.68</td>\n",
       "      <td>2079.53</td>\n",
       "    </tr>\n",
       "    <tr>\n",
       "      <th>primary_cleaner.state.floatbank8_a_level</th>\n",
       "      <td>4859.0</td>\n",
       "      <td>-488.22</td>\n",
       "      <td>36.67</td>\n",
       "      <td>-653.48</td>\n",
       "      <td>-500.27</td>\n",
       "      <td>-499.89</td>\n",
       "      <td>-499.37</td>\n",
       "      <td>-330.13</td>\n",
       "    </tr>\n",
       "    <tr>\n",
       "      <th>primary_cleaner.state.floatbank8_b_air</th>\n",
       "      <td>4859.0</td>\n",
       "      <td>1589.30</td>\n",
       "      <td>132.10</td>\n",
       "      <td>319.96</td>\n",
       "      <td>1502.11</td>\n",
       "      <td>1600.36</td>\n",
       "      <td>1699.43</td>\n",
       "      <td>1825.49</td>\n",
       "    </tr>\n",
       "    <tr>\n",
       "      <th>primary_cleaner.state.floatbank8_b_level</th>\n",
       "      <td>4859.0</td>\n",
       "      <td>-490.26</td>\n",
       "      <td>35.20</td>\n",
       "      <td>-799.26</td>\n",
       "      <td>-500.42</td>\n",
       "      <td>-499.94</td>\n",
       "      <td>-499.33</td>\n",
       "      <td>-339.75</td>\n",
       "    </tr>\n",
       "    <tr>\n",
       "      <th>primary_cleaner.state.floatbank8_c_air</th>\n",
       "      <td>4858.0</td>\n",
       "      <td>1588.91</td>\n",
       "      <td>132.69</td>\n",
       "      <td>273.54</td>\n",
       "      <td>1501.21</td>\n",
       "      <td>1600.32</td>\n",
       "      <td>1699.48</td>\n",
       "      <td>1847.62</td>\n",
       "    </tr>\n",
       "    <tr>\n",
       "      <th>primary_cleaner.state.floatbank8_c_level</th>\n",
       "      <td>4859.0</td>\n",
       "      <td>-489.74</td>\n",
       "      <td>33.65</td>\n",
       "      <td>-709.21</td>\n",
       "      <td>-500.68</td>\n",
       "      <td>-499.89</td>\n",
       "      <td>-498.70</td>\n",
       "      <td>-290.85</td>\n",
       "    </tr>\n",
       "    <tr>\n",
       "      <th>primary_cleaner.state.floatbank8_d_air</th>\n",
       "      <td>4858.0</td>\n",
       "      <td>1530.29</td>\n",
       "      <td>256.27</td>\n",
       "      <td>131.32</td>\n",
       "      <td>1450.61</td>\n",
       "      <td>1599.22</td>\n",
       "      <td>1698.77</td>\n",
       "      <td>2398.89</td>\n",
       "    </tr>\n",
       "    <tr>\n",
       "      <th>primary_cleaner.state.floatbank8_d_level</th>\n",
       "      <td>4859.0</td>\n",
       "      <td>-485.90</td>\n",
       "      <td>43.30</td>\n",
       "      <td>-799.79</td>\n",
       "      <td>-500.44</td>\n",
       "      <td>-499.86</td>\n",
       "      <td>-498.75</td>\n",
       "      <td>-107.60</td>\n",
       "    </tr>\n",
       "    <tr>\n",
       "      <th>secondary_cleaner.state.floatbank2_a_air</th>\n",
       "      <td>4734.0</td>\n",
       "      <td>29.49</td>\n",
       "      <td>5.36</td>\n",
       "      <td>0.12</td>\n",
       "      <td>25.12</td>\n",
       "      <td>29.95</td>\n",
       "      <td>34.06</td>\n",
       "      <td>48.82</td>\n",
       "    </tr>\n",
       "    <tr>\n",
       "      <th>secondary_cleaner.state.floatbank2_a_level</th>\n",
       "      <td>4859.0</td>\n",
       "      <td>-499.50</td>\n",
       "      <td>43.28</td>\n",
       "      <td>-799.61</td>\n",
       "      <td>-500.22</td>\n",
       "      <td>-499.97</td>\n",
       "      <td>-499.68</td>\n",
       "      <td>-207.04</td>\n",
       "    </tr>\n",
       "    <tr>\n",
       "      <th>secondary_cleaner.state.floatbank2_b_air</th>\n",
       "      <td>4859.0</td>\n",
       "      <td>24.73</td>\n",
       "      <td>5.48</td>\n",
       "      <td>0.00</td>\n",
       "      <td>22.04</td>\n",
       "      <td>26.88</td>\n",
       "      <td>28.05</td>\n",
       "      <td>35.02</td>\n",
       "    </tr>\n",
       "    <tr>\n",
       "      <th>secondary_cleaner.state.floatbank2_b_level</th>\n",
       "      <td>4859.0</td>\n",
       "      <td>-499.56</td>\n",
       "      <td>43.62</td>\n",
       "      <td>-799.87</td>\n",
       "      <td>-500.22</td>\n",
       "      <td>-500.01</td>\n",
       "      <td>-499.78</td>\n",
       "      <td>-216.66</td>\n",
       "    </tr>\n",
       "    <tr>\n",
       "      <th>secondary_cleaner.state.floatbank3_a_air</th>\n",
       "      <td>4859.0</td>\n",
       "      <td>28.90</td>\n",
       "      <td>6.16</td>\n",
       "      <td>0.00</td>\n",
       "      <td>24.98</td>\n",
       "      <td>28.02</td>\n",
       "      <td>33.99</td>\n",
       "      <td>44.01</td>\n",
       "    </tr>\n",
       "    <tr>\n",
       "      <th>secondary_cleaner.state.floatbank3_a_level</th>\n",
       "      <td>4859.0</td>\n",
       "      <td>-489.48</td>\n",
       "      <td>51.83</td>\n",
       "      <td>-799.58</td>\n",
       "      <td>-500.21</td>\n",
       "      <td>-499.95</td>\n",
       "      <td>-499.53</td>\n",
       "      <td>-246.40</td>\n",
       "    </tr>\n",
       "    <tr>\n",
       "      <th>secondary_cleaner.state.floatbank3_b_air</th>\n",
       "      <td>4859.0</td>\n",
       "      <td>22.63</td>\n",
       "      <td>5.46</td>\n",
       "      <td>0.00</td>\n",
       "      <td>19.01</td>\n",
       "      <td>22.97</td>\n",
       "      <td>26.98</td>\n",
       "      <td>35.05</td>\n",
       "    </tr>\n",
       "    <tr>\n",
       "      <th>secondary_cleaner.state.floatbank3_b_level</th>\n",
       "      <td>4859.0</td>\n",
       "      <td>-494.77</td>\n",
       "      <td>40.68</td>\n",
       "      <td>-758.76</td>\n",
       "      <td>-500.12</td>\n",
       "      <td>-499.98</td>\n",
       "      <td>-499.82</td>\n",
       "      <td>-195.46</td>\n",
       "    </tr>\n",
       "    <tr>\n",
       "      <th>secondary_cleaner.state.floatbank4_a_air</th>\n",
       "      <td>4859.0</td>\n",
       "      <td>19.86</td>\n",
       "      <td>5.91</td>\n",
       "      <td>0.00</td>\n",
       "      <td>15.01</td>\n",
       "      <td>19.97</td>\n",
       "      <td>24.99</td>\n",
       "      <td>30.08</td>\n",
       "    </tr>\n",
       "    <tr>\n",
       "      <th>secondary_cleaner.state.floatbank4_a_level</th>\n",
       "      <td>4859.0</td>\n",
       "      <td>-488.67</td>\n",
       "      <td>44.39</td>\n",
       "      <td>-799.70</td>\n",
       "      <td>-500.70</td>\n",
       "      <td>-499.89</td>\n",
       "      <td>-498.65</td>\n",
       "      <td>-383.37</td>\n",
       "    </tr>\n",
       "    <tr>\n",
       "      <th>secondary_cleaner.state.floatbank4_b_air</th>\n",
       "      <td>4859.0</td>\n",
       "      <td>15.57</td>\n",
       "      <td>4.93</td>\n",
       "      <td>0.00</td>\n",
       "      <td>12.02</td>\n",
       "      <td>15.01</td>\n",
       "      <td>20.00</td>\n",
       "      <td>23.99</td>\n",
       "    </tr>\n",
       "    <tr>\n",
       "      <th>secondary_cleaner.state.floatbank4_b_level</th>\n",
       "      <td>4859.0</td>\n",
       "      <td>-464.18</td>\n",
       "      <td>65.71</td>\n",
       "      <td>-799.86</td>\n",
       "      <td>-500.20</td>\n",
       "      <td>-499.54</td>\n",
       "      <td>-400.30</td>\n",
       "      <td>-114.25</td>\n",
       "    </tr>\n",
       "    <tr>\n",
       "      <th>secondary_cleaner.state.floatbank5_a_air</th>\n",
       "      <td>4859.0</td>\n",
       "      <td>16.59</td>\n",
       "      <td>5.72</td>\n",
       "      <td>-0.37</td>\n",
       "      <td>11.07</td>\n",
       "      <td>16.63</td>\n",
       "      <td>19.98</td>\n",
       "      <td>33.22</td>\n",
       "    </tr>\n",
       "    <tr>\n",
       "      <th>secondary_cleaner.state.floatbank5_a_level</th>\n",
       "      <td>4859.0</td>\n",
       "      <td>-490.82</td>\n",
       "      <td>32.26</td>\n",
       "      <td>-797.14</td>\n",
       "      <td>-500.48</td>\n",
       "      <td>-499.87</td>\n",
       "      <td>-498.85</td>\n",
       "      <td>-288.96</td>\n",
       "    </tr>\n",
       "    <tr>\n",
       "      <th>secondary_cleaner.state.floatbank5_b_air</th>\n",
       "      <td>4859.0</td>\n",
       "      <td>12.95</td>\n",
       "      <td>5.53</td>\n",
       "      <td>1.36</td>\n",
       "      <td>9.01</td>\n",
       "      <td>12.00</td>\n",
       "      <td>15.00</td>\n",
       "      <td>24.18</td>\n",
       "    </tr>\n",
       "    <tr>\n",
       "      <th>secondary_cleaner.state.floatbank5_b_level</th>\n",
       "      <td>4859.0</td>\n",
       "      <td>-489.58</td>\n",
       "      <td>37.08</td>\n",
       "      <td>-800.01</td>\n",
       "      <td>-500.13</td>\n",
       "      <td>-499.96</td>\n",
       "      <td>-499.64</td>\n",
       "      <td>-141.93</td>\n",
       "    </tr>\n",
       "    <tr>\n",
       "      <th>secondary_cleaner.state.floatbank6_a_air</th>\n",
       "      <td>4859.0</td>\n",
       "      <td>19.05</td>\n",
       "      <td>5.55</td>\n",
       "      <td>0.16</td>\n",
       "      <td>14.96</td>\n",
       "      <td>19.96</td>\n",
       "      <td>24.97</td>\n",
       "      <td>32.03</td>\n",
       "    </tr>\n",
       "    <tr>\n",
       "      <th>secondary_cleaner.state.floatbank6_a_level</th>\n",
       "      <td>4859.0</td>\n",
       "      <td>-504.68</td>\n",
       "      <td>38.69</td>\n",
       "      <td>-809.73</td>\n",
       "      <td>-500.67</td>\n",
       "      <td>-500.03</td>\n",
       "      <td>-499.46</td>\n",
       "      <td>-104.43</td>\n",
       "    </tr>\n",
       "  </tbody>\n",
       "</table>\n",
       "</div>"
      ],
      "text/plain": [
       "                                             count     mean     std     min  \\\n",
       "rougher.input.feed_au                       4860.0     8.01    1.99    0.01   \n",
       "rougher.input.feed_ag                       4860.0     8.55    1.96    0.01   \n",
       "rougher.input.feed_pb                       4832.0     3.58    1.03    0.01   \n",
       "rougher.input.feed_sol                      4838.0    37.10    4.93    0.01   \n",
       "rougher.input.feed_rate                     4856.0   490.29   94.37    0.01   \n",
       "rougher.input.feed_size                     4816.0    59.11   19.13    0.05   \n",
       "rougher.input.floatbank10_sulfate           4857.0    12.06    3.41    0.02   \n",
       "rougher.input.floatbank10_xanthate          4859.0     6.10    1.04    0.02   \n",
       "rougher.state.floatbank10_a_air             4859.0  1108.64  156.49  300.79   \n",
       "rougher.state.floatbank10_a_level           4859.0  -368.34   91.16 -600.57   \n",
       "rougher.state.floatbank10_b_air             4859.0  1312.35  159.00  767.66   \n",
       "rougher.state.floatbank10_b_level           4859.0  -472.51   49.38 -650.00   \n",
       "rougher.state.floatbank10_c_air             4859.0  1291.64  180.20  831.54   \n",
       "rougher.state.floatbank10_c_level           4859.0  -472.90   47.61 -552.66   \n",
       "rougher.state.floatbank10_d_air             4860.0  1204.07  184.55  706.28   \n",
       "rougher.state.floatbank10_d_level           4860.0  -473.38   47.83 -648.12   \n",
       "rougher.state.floatbank10_e_air             4853.0  1075.30  159.99  695.21   \n",
       "rougher.state.floatbank10_e_level           4860.0  -471.47   51.41 -598.93   \n",
       "rougher.state.floatbank10_f_air             4860.0  1023.77  147.83  539.63   \n",
       "rougher.state.floatbank10_f_level           4860.0  -471.41   51.84 -649.38   \n",
       "rougher.input.floatbank11_sulfate           4852.0    11.97    3.46    0.00   \n",
       "rougher.input.floatbank11_xanthate          4814.0     6.12    1.05    0.00   \n",
       "primary_cleaner.input.sulfate               4859.0   143.20   42.36    7.33   \n",
       "primary_cleaner.input.depressant            4851.0     8.69    3.17    0.00   \n",
       "primary_cleaner.input.feed_size             4860.0     7.31    0.59    4.97   \n",
       "primary_cleaner.input.xanthate              4817.0     1.01    0.49    0.00   \n",
       "primary_cleaner.state.floatbank8_a_air      4859.0  1588.39  124.94  314.24   \n",
       "primary_cleaner.state.floatbank8_a_level    4859.0  -488.22   36.67 -653.48   \n",
       "primary_cleaner.state.floatbank8_b_air      4859.0  1589.30  132.10  319.96   \n",
       "primary_cleaner.state.floatbank8_b_level    4859.0  -490.26   35.20 -799.26   \n",
       "primary_cleaner.state.floatbank8_c_air      4858.0  1588.91  132.69  273.54   \n",
       "primary_cleaner.state.floatbank8_c_level    4859.0  -489.74   33.65 -709.21   \n",
       "primary_cleaner.state.floatbank8_d_air      4858.0  1530.29  256.27  131.32   \n",
       "primary_cleaner.state.floatbank8_d_level    4859.0  -485.90   43.30 -799.79   \n",
       "secondary_cleaner.state.floatbank2_a_air    4734.0    29.49    5.36    0.12   \n",
       "secondary_cleaner.state.floatbank2_a_level  4859.0  -499.50   43.28 -799.61   \n",
       "secondary_cleaner.state.floatbank2_b_air    4859.0    24.73    5.48    0.00   \n",
       "secondary_cleaner.state.floatbank2_b_level  4859.0  -499.56   43.62 -799.87   \n",
       "secondary_cleaner.state.floatbank3_a_air    4859.0    28.90    6.16    0.00   \n",
       "secondary_cleaner.state.floatbank3_a_level  4859.0  -489.48   51.83 -799.58   \n",
       "secondary_cleaner.state.floatbank3_b_air    4859.0    22.63    5.46    0.00   \n",
       "secondary_cleaner.state.floatbank3_b_level  4859.0  -494.77   40.68 -758.76   \n",
       "secondary_cleaner.state.floatbank4_a_air    4859.0    19.86    5.91    0.00   \n",
       "secondary_cleaner.state.floatbank4_a_level  4859.0  -488.67   44.39 -799.70   \n",
       "secondary_cleaner.state.floatbank4_b_air    4859.0    15.57    4.93    0.00   \n",
       "secondary_cleaner.state.floatbank4_b_level  4859.0  -464.18   65.71 -799.86   \n",
       "secondary_cleaner.state.floatbank5_a_air    4859.0    16.59    5.72   -0.37   \n",
       "secondary_cleaner.state.floatbank5_a_level  4859.0  -490.82   32.26 -797.14   \n",
       "secondary_cleaner.state.floatbank5_b_air    4859.0    12.95    5.53    1.36   \n",
       "secondary_cleaner.state.floatbank5_b_level  4859.0  -489.58   37.08 -800.01   \n",
       "secondary_cleaner.state.floatbank6_a_air    4859.0    19.05    5.55    0.16   \n",
       "secondary_cleaner.state.floatbank6_a_level  4859.0  -504.68   38.69 -809.73   \n",
       "\n",
       "                                                25%      50%      75%      max  \n",
       "rougher.input.feed_au                          6.57     7.81     9.56    13.42  \n",
       "rougher.input.feed_ag                          6.98     8.18    10.08    14.53  \n",
       "rougher.input.feed_pb                          2.90     3.54     4.20     7.14  \n",
       "rougher.input.feed_sol                        34.51    37.50    40.46    53.48  \n",
       "rougher.input.feed_rate                      434.10   502.12   555.60   702.52  \n",
       "rougher.input.feed_size                       47.60    55.51    66.66   363.99  \n",
       "rougher.input.floatbank10_sulfate              9.89    12.00    14.50    30.01  \n",
       "rougher.input.floatbank10_xanthate             5.50     6.10     6.80     9.40  \n",
       "rougher.state.floatbank10_a_air              999.72  1001.41  1202.84  1521.98  \n",
       "rougher.state.floatbank10_a_level           -499.73  -300.18  -299.96  -281.04  \n",
       "rougher.state.floatbank10_b_air             1199.74  1300.28  1401.69  1802.53  \n",
       "rougher.state.floatbank10_b_level           -500.22  -499.83  -449.93  -298.84  \n",
       "rougher.state.floatbank10_c_air             1152.40  1299.41  1401.93  2498.87  \n",
       "rougher.state.floatbank10_c_level           -500.23  -499.76  -449.66  -298.59  \n",
       "rougher.state.floatbank10_d_air             1061.68  1200.34  1307.30  1801.71  \n",
       "rougher.state.floatbank10_d_level           -500.44  -499.60  -449.94  -296.59  \n",
       "rougher.state.floatbank10_e_air              998.90  1049.90  1199.15  1701.25  \n",
       "rougher.state.floatbank10_e_level           -500.27  -499.72  -449.38  -296.13  \n",
       "rougher.state.floatbank10_f_air              949.04  1000.06  1099.46  1702.38  \n",
       "rougher.state.floatbank10_f_level           -500.53  -499.54  -448.21  -286.38  \n",
       "rougher.input.floatbank11_sulfate              9.82    12.00    14.22    30.01  \n",
       "rougher.input.floatbank11_xanthate             5.50     6.10     6.83     9.40  \n",
       "primary_cleaner.input.sulfate                113.29   139.57   170.74   262.53  \n",
       "primary_cleaner.input.depressant               6.04     8.01    10.61    20.05  \n",
       "primary_cleaner.input.feed_size                6.94     7.29     7.63     9.63  \n",
       "primary_cleaner.input.xanthate                 0.70     0.91     1.20     4.00  \n",
       "primary_cleaner.state.floatbank8_a_air      1505.50  1600.36  1696.68  2079.53  \n",
       "primary_cleaner.state.floatbank8_a_level    -500.27  -499.89  -499.37  -330.13  \n",
       "primary_cleaner.state.floatbank8_b_air      1502.11  1600.36  1699.43  1825.49  \n",
       "primary_cleaner.state.floatbank8_b_level    -500.42  -499.94  -499.33  -339.75  \n",
       "primary_cleaner.state.floatbank8_c_air      1501.21  1600.32  1699.48  1847.62  \n",
       "primary_cleaner.state.floatbank8_c_level    -500.68  -499.89  -498.70  -290.85  \n",
       "primary_cleaner.state.floatbank8_d_air      1450.61  1599.22  1698.77  2398.89  \n",
       "primary_cleaner.state.floatbank8_d_level    -500.44  -499.86  -498.75  -107.60  \n",
       "secondary_cleaner.state.floatbank2_a_air      25.12    29.95    34.06    48.82  \n",
       "secondary_cleaner.state.floatbank2_a_level  -500.22  -499.97  -499.68  -207.04  \n",
       "secondary_cleaner.state.floatbank2_b_air      22.04    26.88    28.05    35.02  \n",
       "secondary_cleaner.state.floatbank2_b_level  -500.22  -500.01  -499.78  -216.66  \n",
       "secondary_cleaner.state.floatbank3_a_air      24.98    28.02    33.99    44.01  \n",
       "secondary_cleaner.state.floatbank3_a_level  -500.21  -499.95  -499.53  -246.40  \n",
       "secondary_cleaner.state.floatbank3_b_air      19.01    22.97    26.98    35.05  \n",
       "secondary_cleaner.state.floatbank3_b_level  -500.12  -499.98  -499.82  -195.46  \n",
       "secondary_cleaner.state.floatbank4_a_air      15.01    19.97    24.99    30.08  \n",
       "secondary_cleaner.state.floatbank4_a_level  -500.70  -499.89  -498.65  -383.37  \n",
       "secondary_cleaner.state.floatbank4_b_air      12.02    15.01    20.00    23.99  \n",
       "secondary_cleaner.state.floatbank4_b_level  -500.20  -499.54  -400.30  -114.25  \n",
       "secondary_cleaner.state.floatbank5_a_air      11.07    16.63    19.98    33.22  \n",
       "secondary_cleaner.state.floatbank5_a_level  -500.48  -499.87  -498.85  -288.96  \n",
       "secondary_cleaner.state.floatbank5_b_air       9.01    12.00    15.00    24.18  \n",
       "secondary_cleaner.state.floatbank5_b_level  -500.13  -499.96  -499.64  -141.93  \n",
       "secondary_cleaner.state.floatbank6_a_air      14.96    19.96    24.97    32.03  \n",
       "secondary_cleaner.state.floatbank6_a_level  -500.67  -500.03  -499.46  -104.43  "
      ]
     },
     "metadata": {},
     "output_type": "display_data"
    },
    {
     "name": "stdout",
     "output_type": "stream",
     "text": [
      "----------------------------------------------------------------------------------------------------\n",
      "Количество дубликатов:\n",
      "----------------------------------------------------------------------------------------------------\n"
     ]
    },
    {
     "data": {
      "text/plain": [
       "0"
      ]
     },
     "metadata": {},
     "output_type": "display_data"
    },
    {
     "name": "stdout",
     "output_type": "stream",
     "text": [
      "----------------------------------------------------------------------------------------------------\n",
      "Общая информамия о датафрейме:\n",
      "----------------------------------------------------------------------------------------------------\n",
      "<class 'pandas.core.frame.DataFrame'>\n",
      "RangeIndex: 19439 entries, 0 to 19438\n",
      "Data columns (total 87 columns):\n",
      " #   Column                                              Non-Null Count  Dtype  \n",
      "---  ------                                              --------------  -----  \n",
      " 0   date                                                19439 non-null  object \n",
      " 1   rougher.input.feed_au                               19439 non-null  float64\n",
      " 2   rougher.input.feed_ag                               19439 non-null  float64\n",
      " 3   rougher.input.feed_pb                               19339 non-null  float64\n",
      " 4   rougher.input.feed_sol                              19340 non-null  float64\n",
      " 5   rougher.input.feed_rate                             19428 non-null  float64\n",
      " 6   rougher.input.feed_size                             19294 non-null  float64\n",
      " 7   rougher.input.floatbank10_sulfate                   19405 non-null  float64\n",
      " 8   rougher.input.floatbank10_xanthate                  19431 non-null  float64\n",
      " 9   rougher.state.floatbank10_a_air                     19438 non-null  float64\n",
      " 10  rougher.state.floatbank10_a_level                   19438 non-null  float64\n",
      " 11  rougher.state.floatbank10_b_air                     19438 non-null  float64\n",
      " 12  rougher.state.floatbank10_b_level                   19438 non-null  float64\n",
      " 13  rougher.state.floatbank10_c_air                     19438 non-null  float64\n",
      " 14  rougher.state.floatbank10_c_level                   19438 non-null  float64\n",
      " 15  rougher.state.floatbank10_d_air                     19439 non-null  float64\n",
      " 16  rougher.state.floatbank10_d_level                   19439 non-null  float64\n",
      " 17  rougher.state.floatbank10_e_air                     19003 non-null  float64\n",
      " 18  rougher.state.floatbank10_e_level                   19439 non-null  float64\n",
      " 19  rougher.state.floatbank10_f_air                     19439 non-null  float64\n",
      " 20  rougher.state.floatbank10_f_level                   19439 non-null  float64\n",
      " 21  rougher.input.floatbank11_sulfate                   19395 non-null  float64\n",
      " 22  rougher.input.floatbank11_xanthate                  18986 non-null  float64\n",
      " 23  rougher.calculation.sulfate_to_au_concentrate       19437 non-null  float64\n",
      " 24  rougher.calculation.floatbank10_sulfate_to_au_feed  19437 non-null  float64\n",
      " 25  rougher.calculation.floatbank11_sulfate_to_au_feed  19437 non-null  float64\n",
      " 26  rougher.calculation.au_pb_ratio                     19439 non-null  float64\n",
      " 27  rougher.output.concentrate_au                       19439 non-null  float64\n",
      " 28  rougher.output.concentrate_ag                       19439 non-null  float64\n",
      " 29  rougher.output.concentrate_pb                       19439 non-null  float64\n",
      " 30  rougher.output.concentrate_sol                      19416 non-null  float64\n",
      " 31  rougher.output.recovery                             19439 non-null  float64\n",
      " 32  rougher.output.tail_au                              19439 non-null  float64\n",
      " 33  rougher.output.tail_ag                              19438 non-null  float64\n",
      " 34  rougher.output.tail_pb                              19439 non-null  float64\n",
      " 35  rougher.output.tail_sol                             19439 non-null  float64\n",
      " 36  primary_cleaner.input.sulfate                       19415 non-null  float64\n",
      " 37  primary_cleaner.input.depressant                    19402 non-null  float64\n",
      " 38  primary_cleaner.input.feed_size                     19439 non-null  float64\n",
      " 39  primary_cleaner.input.xanthate                      19335 non-null  float64\n",
      " 40  primary_cleaner.state.floatbank8_a_air              19435 non-null  float64\n",
      " 41  primary_cleaner.state.floatbank8_a_level            19438 non-null  float64\n",
      " 42  primary_cleaner.state.floatbank8_b_air              19435 non-null  float64\n",
      " 43  primary_cleaner.state.floatbank8_b_level            19438 non-null  float64\n",
      " 44  primary_cleaner.state.floatbank8_c_air              19437 non-null  float64\n",
      " 45  primary_cleaner.state.floatbank8_c_level            19438 non-null  float64\n",
      " 46  primary_cleaner.state.floatbank8_d_air              19436 non-null  float64\n",
      " 47  primary_cleaner.state.floatbank8_d_level            19438 non-null  float64\n",
      " 48  primary_cleaner.output.concentrate_au               19439 non-null  float64\n",
      " 49  primary_cleaner.output.concentrate_ag               19439 non-null  float64\n",
      " 50  primary_cleaner.output.concentrate_pb               19323 non-null  float64\n",
      " 51  primary_cleaner.output.concentrate_sol              19069 non-null  float64\n",
      " 52  primary_cleaner.output.tail_au                      19439 non-null  float64\n",
      " 53  primary_cleaner.output.tail_ag                      19435 non-null  float64\n",
      " 54  primary_cleaner.output.tail_pb                      19418 non-null  float64\n",
      " 55  primary_cleaner.output.tail_sol                     19377 non-null  float64\n",
      " 56  secondary_cleaner.state.floatbank2_a_air            19219 non-null  float64\n",
      " 57  secondary_cleaner.state.floatbank2_a_level          19438 non-null  float64\n",
      " 58  secondary_cleaner.state.floatbank2_b_air            19416 non-null  float64\n",
      " 59  secondary_cleaner.state.floatbank2_b_level          19438 non-null  float64\n",
      " 60  secondary_cleaner.state.floatbank3_a_air            19426 non-null  float64\n",
      " 61  secondary_cleaner.state.floatbank3_a_level          19438 non-null  float64\n",
      " 62  secondary_cleaner.state.floatbank3_b_air            19438 non-null  float64\n",
      " 63  secondary_cleaner.state.floatbank3_b_level          19438 non-null  float64\n",
      " 64  secondary_cleaner.state.floatbank4_a_air            19433 non-null  float64\n",
      " 65  secondary_cleaner.state.floatbank4_a_level          19438 non-null  float64\n",
      " 66  secondary_cleaner.state.floatbank4_b_air            19438 non-null  float64\n",
      " 67  secondary_cleaner.state.floatbank4_b_level          19438 non-null  float64\n",
      " 68  secondary_cleaner.state.floatbank5_a_air            19438 non-null  float64\n",
      " 69  secondary_cleaner.state.floatbank5_a_level          19438 non-null  float64\n",
      " 70  secondary_cleaner.state.floatbank5_b_air            19438 non-null  float64\n",
      " 71  secondary_cleaner.state.floatbank5_b_level          19438 non-null  float64\n",
      " 72  secondary_cleaner.state.floatbank6_a_air            19437 non-null  float64\n",
      " 73  secondary_cleaner.state.floatbank6_a_level          19438 non-null  float64\n",
      " 74  secondary_cleaner.output.tail_au                    19439 non-null  float64\n",
      " 75  secondary_cleaner.output.tail_ag                    19437 non-null  float64\n",
      " 76  secondary_cleaner.output.tail_pb                    19427 non-null  float64\n",
      " 77  secondary_cleaner.output.tail_sol                   17691 non-null  float64\n",
      " 78  final.output.concentrate_au                         19439 non-null  float64\n",
      " 79  final.output.concentrate_ag                         19438 non-null  float64\n",
      " 80  final.output.concentrate_pb                         19438 non-null  float64\n",
      " 81  final.output.concentrate_sol                        19228 non-null  float64\n",
      " 82  final.output.recovery                               19439 non-null  float64\n",
      " 83  final.output.tail_au                                19439 non-null  float64\n",
      " 84  final.output.tail_ag                                19438 non-null  float64\n",
      " 85  final.output.tail_pb                                19338 non-null  float64\n",
      " 86  final.output.tail_sol                               19433 non-null  float64\n",
      "dtypes: float64(86), object(1)\n",
      "memory usage: 12.9+ MB\n",
      "None\n",
      "----------------------------------------------------------------------------------------------------\n",
      "Первые 5 строк таблицы\n",
      "----------------------------------------------------------------------------------------------------\n"
     ]
    },
    {
     "data": {
      "text/html": [
       "<div>\n",
       "<style scoped>\n",
       "    .dataframe tbody tr th:only-of-type {\n",
       "        vertical-align: middle;\n",
       "    }\n",
       "\n",
       "    .dataframe tbody tr th {\n",
       "        vertical-align: top;\n",
       "    }\n",
       "\n",
       "    .dataframe thead th {\n",
       "        text-align: right;\n",
       "    }\n",
       "</style>\n",
       "<table border=\"1\" class=\"dataframe\">\n",
       "  <thead>\n",
       "    <tr style=\"text-align: right;\">\n",
       "      <th></th>\n",
       "      <th>date</th>\n",
       "      <th>rougher.input.feed_au</th>\n",
       "      <th>rougher.input.feed_ag</th>\n",
       "      <th>rougher.input.feed_pb</th>\n",
       "      <th>rougher.input.feed_sol</th>\n",
       "      <th>rougher.input.feed_rate</th>\n",
       "      <th>rougher.input.feed_size</th>\n",
       "      <th>rougher.input.floatbank10_sulfate</th>\n",
       "      <th>rougher.input.floatbank10_xanthate</th>\n",
       "      <th>rougher.state.floatbank10_a_air</th>\n",
       "      <th>...</th>\n",
       "      <th>secondary_cleaner.output.tail_sol</th>\n",
       "      <th>final.output.concentrate_au</th>\n",
       "      <th>final.output.concentrate_ag</th>\n",
       "      <th>final.output.concentrate_pb</th>\n",
       "      <th>final.output.concentrate_sol</th>\n",
       "      <th>final.output.recovery</th>\n",
       "      <th>final.output.tail_au</th>\n",
       "      <th>final.output.tail_ag</th>\n",
       "      <th>final.output.tail_pb</th>\n",
       "      <th>final.output.tail_sol</th>\n",
       "    </tr>\n",
       "  </thead>\n",
       "  <tbody>\n",
       "    <tr>\n",
       "      <th>0</th>\n",
       "      <td>2016-01-15 00:00:00</td>\n",
       "      <td>6.486150</td>\n",
       "      <td>6.100378</td>\n",
       "      <td>2.284912</td>\n",
       "      <td>36.808594</td>\n",
       "      <td>523.546326</td>\n",
       "      <td>55.486599</td>\n",
       "      <td>11.986616</td>\n",
       "      <td>6.007990</td>\n",
       "      <td>999.706909</td>\n",
       "      <td>...</td>\n",
       "      <td>8.764648</td>\n",
       "      <td>42.192020</td>\n",
       "      <td>6.055403</td>\n",
       "      <td>9.889648</td>\n",
       "      <td>5.507324</td>\n",
       "      <td>70.541216</td>\n",
       "      <td>2.143149</td>\n",
       "      <td>10.411962</td>\n",
       "      <td>0.895447</td>\n",
       "      <td>16.904297</td>\n",
       "    </tr>\n",
       "    <tr>\n",
       "      <th>1</th>\n",
       "      <td>2016-01-15 01:00:00</td>\n",
       "      <td>6.478583</td>\n",
       "      <td>6.161113</td>\n",
       "      <td>2.266033</td>\n",
       "      <td>35.753385</td>\n",
       "      <td>525.290581</td>\n",
       "      <td>57.278666</td>\n",
       "      <td>11.971193</td>\n",
       "      <td>6.005766</td>\n",
       "      <td>1000.286398</td>\n",
       "      <td>...</td>\n",
       "      <td>9.001494</td>\n",
       "      <td>42.701629</td>\n",
       "      <td>6.029369</td>\n",
       "      <td>9.968944</td>\n",
       "      <td>5.257781</td>\n",
       "      <td>69.266198</td>\n",
       "      <td>2.224930</td>\n",
       "      <td>10.462676</td>\n",
       "      <td>0.927452</td>\n",
       "      <td>16.634514</td>\n",
       "    </tr>\n",
       "    <tr>\n",
       "      <th>2</th>\n",
       "      <td>2016-01-15 02:00:00</td>\n",
       "      <td>6.362222</td>\n",
       "      <td>6.116455</td>\n",
       "      <td>2.159622</td>\n",
       "      <td>35.971630</td>\n",
       "      <td>530.026610</td>\n",
       "      <td>57.510649</td>\n",
       "      <td>11.920603</td>\n",
       "      <td>6.197377</td>\n",
       "      <td>999.719565</td>\n",
       "      <td>...</td>\n",
       "      <td>8.842896</td>\n",
       "      <td>42.657501</td>\n",
       "      <td>6.055926</td>\n",
       "      <td>10.213995</td>\n",
       "      <td>5.383759</td>\n",
       "      <td>68.116445</td>\n",
       "      <td>2.257889</td>\n",
       "      <td>10.507046</td>\n",
       "      <td>0.953716</td>\n",
       "      <td>16.208849</td>\n",
       "    </tr>\n",
       "    <tr>\n",
       "      <th>3</th>\n",
       "      <td>2016-01-15 03:00:00</td>\n",
       "      <td>6.118189</td>\n",
       "      <td>6.043309</td>\n",
       "      <td>2.037807</td>\n",
       "      <td>36.862241</td>\n",
       "      <td>542.590390</td>\n",
       "      <td>57.792734</td>\n",
       "      <td>11.630094</td>\n",
       "      <td>6.203177</td>\n",
       "      <td>999.814770</td>\n",
       "      <td>...</td>\n",
       "      <td>9.122857</td>\n",
       "      <td>42.689819</td>\n",
       "      <td>6.047977</td>\n",
       "      <td>9.977019</td>\n",
       "      <td>4.858634</td>\n",
       "      <td>68.347543</td>\n",
       "      <td>2.146849</td>\n",
       "      <td>10.422762</td>\n",
       "      <td>0.883763</td>\n",
       "      <td>16.532835</td>\n",
       "    </tr>\n",
       "    <tr>\n",
       "      <th>4</th>\n",
       "      <td>2016-01-15 04:00:00</td>\n",
       "      <td>5.663707</td>\n",
       "      <td>6.060915</td>\n",
       "      <td>1.786875</td>\n",
       "      <td>34.347666</td>\n",
       "      <td>540.531893</td>\n",
       "      <td>56.047189</td>\n",
       "      <td>10.957755</td>\n",
       "      <td>6.198826</td>\n",
       "      <td>999.678690</td>\n",
       "      <td>...</td>\n",
       "      <td>8.871028</td>\n",
       "      <td>42.774141</td>\n",
       "      <td>6.148599</td>\n",
       "      <td>10.142511</td>\n",
       "      <td>4.939416</td>\n",
       "      <td>66.927016</td>\n",
       "      <td>2.055292</td>\n",
       "      <td>10.360302</td>\n",
       "      <td>0.792826</td>\n",
       "      <td>16.525686</td>\n",
       "    </tr>\n",
       "  </tbody>\n",
       "</table>\n",
       "<p>5 rows × 87 columns</p>\n",
       "</div>"
      ],
      "text/plain": [
       "                  date  rougher.input.feed_au  rougher.input.feed_ag  \\\n",
       "0  2016-01-15 00:00:00               6.486150               6.100378   \n",
       "1  2016-01-15 01:00:00               6.478583               6.161113   \n",
       "2  2016-01-15 02:00:00               6.362222               6.116455   \n",
       "3  2016-01-15 03:00:00               6.118189               6.043309   \n",
       "4  2016-01-15 04:00:00               5.663707               6.060915   \n",
       "\n",
       "   rougher.input.feed_pb  rougher.input.feed_sol  rougher.input.feed_rate  \\\n",
       "0               2.284912               36.808594               523.546326   \n",
       "1               2.266033               35.753385               525.290581   \n",
       "2               2.159622               35.971630               530.026610   \n",
       "3               2.037807               36.862241               542.590390   \n",
       "4               1.786875               34.347666               540.531893   \n",
       "\n",
       "   rougher.input.feed_size  rougher.input.floatbank10_sulfate  \\\n",
       "0                55.486599                          11.986616   \n",
       "1                57.278666                          11.971193   \n",
       "2                57.510649                          11.920603   \n",
       "3                57.792734                          11.630094   \n",
       "4                56.047189                          10.957755   \n",
       "\n",
       "   rougher.input.floatbank10_xanthate  rougher.state.floatbank10_a_air  ...  \\\n",
       "0                            6.007990                       999.706909  ...   \n",
       "1                            6.005766                      1000.286398  ...   \n",
       "2                            6.197377                       999.719565  ...   \n",
       "3                            6.203177                       999.814770  ...   \n",
       "4                            6.198826                       999.678690  ...   \n",
       "\n",
       "   secondary_cleaner.output.tail_sol  final.output.concentrate_au  \\\n",
       "0                           8.764648                    42.192020   \n",
       "1                           9.001494                    42.701629   \n",
       "2                           8.842896                    42.657501   \n",
       "3                           9.122857                    42.689819   \n",
       "4                           8.871028                    42.774141   \n",
       "\n",
       "   final.output.concentrate_ag  final.output.concentrate_pb  \\\n",
       "0                     6.055403                     9.889648   \n",
       "1                     6.029369                     9.968944   \n",
       "2                     6.055926                    10.213995   \n",
       "3                     6.047977                     9.977019   \n",
       "4                     6.148599                    10.142511   \n",
       "\n",
       "   final.output.concentrate_sol  final.output.recovery  final.output.tail_au  \\\n",
       "0                      5.507324              70.541216              2.143149   \n",
       "1                      5.257781              69.266198              2.224930   \n",
       "2                      5.383759              68.116445              2.257889   \n",
       "3                      4.858634              68.347543              2.146849   \n",
       "4                      4.939416              66.927016              2.055292   \n",
       "\n",
       "   final.output.tail_ag  final.output.tail_pb  final.output.tail_sol  \n",
       "0             10.411962              0.895447              16.904297  \n",
       "1             10.462676              0.927452              16.634514  \n",
       "2             10.507046              0.953716              16.208849  \n",
       "3             10.422762              0.883763              16.532835  \n",
       "4             10.360302              0.792826              16.525686  \n",
       "\n",
       "[5 rows x 87 columns]"
      ]
     },
     "metadata": {},
     "output_type": "display_data"
    },
    {
     "name": "stdout",
     "output_type": "stream",
     "text": [
      "----------------------------------------------------------------------------------------------------\n",
      "Количество пропусков\n",
      "----------------------------------------------------------------------------------------------------\n",
      "secondary_cleaner.output.tail_sol           1748\n",
      "rougher.input.floatbank11_xanthate           453\n",
      "rougher.state.floatbank10_e_air              436\n",
      "primary_cleaner.output.concentrate_sol       370\n",
      "secondary_cleaner.state.floatbank2_a_air     220\n",
      "                                            ... \n",
      "rougher.output.tail_sol                        0\n",
      "primary_cleaner.input.feed_size                0\n",
      "rougher.input.feed_au                          0\n",
      "primary_cleaner.output.concentrate_au          0\n",
      "date                                           0\n",
      "Length: 87, dtype: int64\n",
      "----------------------------------------------------------------------------------------------------\n",
      "Статистические данные датафрейма\n",
      "----------------------------------------------------------------------------------------------------\n"
     ]
    },
    {
     "data": {
      "text/html": [
       "<div>\n",
       "<style scoped>\n",
       "    .dataframe tbody tr th:only-of-type {\n",
       "        vertical-align: middle;\n",
       "    }\n",
       "\n",
       "    .dataframe tbody tr th {\n",
       "        vertical-align: top;\n",
       "    }\n",
       "\n",
       "    .dataframe thead th {\n",
       "        text-align: right;\n",
       "    }\n",
       "</style>\n",
       "<table border=\"1\" class=\"dataframe\">\n",
       "  <thead>\n",
       "    <tr style=\"text-align: right;\">\n",
       "      <th></th>\n",
       "      <th>count</th>\n",
       "      <th>mean</th>\n",
       "      <th>std</th>\n",
       "      <th>min</th>\n",
       "      <th>25%</th>\n",
       "      <th>50%</th>\n",
       "      <th>75%</th>\n",
       "      <th>max</th>\n",
       "    </tr>\n",
       "  </thead>\n",
       "  <tbody>\n",
       "    <tr>\n",
       "      <th>rougher.input.feed_au</th>\n",
       "      <td>19439.0</td>\n",
       "      <td>8.27</td>\n",
       "      <td>1.96</td>\n",
       "      <td>0.01</td>\n",
       "      <td>6.85</td>\n",
       "      <td>8.13</td>\n",
       "      <td>9.77</td>\n",
       "      <td>13.73</td>\n",
       "    </tr>\n",
       "    <tr>\n",
       "      <th>rougher.input.feed_ag</th>\n",
       "      <td>19439.0</td>\n",
       "      <td>8.79</td>\n",
       "      <td>1.94</td>\n",
       "      <td>0.01</td>\n",
       "      <td>7.24</td>\n",
       "      <td>8.59</td>\n",
       "      <td>10.21</td>\n",
       "      <td>14.60</td>\n",
       "    </tr>\n",
       "    <tr>\n",
       "      <th>rougher.input.feed_pb</th>\n",
       "      <td>19339.0</td>\n",
       "      <td>3.60</td>\n",
       "      <td>1.05</td>\n",
       "      <td>0.01</td>\n",
       "      <td>2.89</td>\n",
       "      <td>3.53</td>\n",
       "      <td>4.24</td>\n",
       "      <td>7.14</td>\n",
       "    </tr>\n",
       "    <tr>\n",
       "      <th>rougher.input.feed_sol</th>\n",
       "      <td>19340.0</td>\n",
       "      <td>36.70</td>\n",
       "      <td>5.15</td>\n",
       "      <td>0.01</td>\n",
       "      <td>34.21</td>\n",
       "      <td>37.20</td>\n",
       "      <td>40.04</td>\n",
       "      <td>53.48</td>\n",
       "    </tr>\n",
       "    <tr>\n",
       "      <th>rougher.input.feed_rate</th>\n",
       "      <td>19428.0</td>\n",
       "      <td>478.32</td>\n",
       "      <td>105.37</td>\n",
       "      <td>0.00</td>\n",
       "      <td>416.53</td>\n",
       "      <td>499.42</td>\n",
       "      <td>550.17</td>\n",
       "      <td>717.51</td>\n",
       "    </tr>\n",
       "    <tr>\n",
       "      <th>...</th>\n",
       "      <td>...</td>\n",
       "      <td>...</td>\n",
       "      <td>...</td>\n",
       "      <td>...</td>\n",
       "      <td>...</td>\n",
       "      <td>...</td>\n",
       "      <td>...</td>\n",
       "      <td>...</td>\n",
       "    </tr>\n",
       "    <tr>\n",
       "      <th>final.output.recovery</th>\n",
       "      <td>19439.0</td>\n",
       "      <td>67.05</td>\n",
       "      <td>10.13</td>\n",
       "      <td>0.00</td>\n",
       "      <td>63.30</td>\n",
       "      <td>68.17</td>\n",
       "      <td>72.69</td>\n",
       "      <td>100.00</td>\n",
       "    </tr>\n",
       "    <tr>\n",
       "      <th>final.output.tail_au</th>\n",
       "      <td>19439.0</td>\n",
       "      <td>3.04</td>\n",
       "      <td>0.92</td>\n",
       "      <td>0.00</td>\n",
       "      <td>2.46</td>\n",
       "      <td>2.98</td>\n",
       "      <td>3.57</td>\n",
       "      <td>8.25</td>\n",
       "    </tr>\n",
       "    <tr>\n",
       "      <th>final.output.tail_ag</th>\n",
       "      <td>19438.0</td>\n",
       "      <td>9.69</td>\n",
       "      <td>2.33</td>\n",
       "      <td>0.00</td>\n",
       "      <td>8.06</td>\n",
       "      <td>9.74</td>\n",
       "      <td>11.13</td>\n",
       "      <td>19.55</td>\n",
       "    </tr>\n",
       "    <tr>\n",
       "      <th>final.output.tail_pb</th>\n",
       "      <td>19338.0</td>\n",
       "      <td>2.71</td>\n",
       "      <td>0.95</td>\n",
       "      <td>0.00</td>\n",
       "      <td>2.04</td>\n",
       "      <td>2.75</td>\n",
       "      <td>3.33</td>\n",
       "      <td>5.80</td>\n",
       "    </tr>\n",
       "    <tr>\n",
       "      <th>final.output.tail_sol</th>\n",
       "      <td>19433.0</td>\n",
       "      <td>10.58</td>\n",
       "      <td>2.87</td>\n",
       "      <td>0.00</td>\n",
       "      <td>8.94</td>\n",
       "      <td>10.62</td>\n",
       "      <td>12.10</td>\n",
       "      <td>22.32</td>\n",
       "    </tr>\n",
       "  </tbody>\n",
       "</table>\n",
       "<p>86 rows × 8 columns</p>\n",
       "</div>"
      ],
      "text/plain": [
       "                           count    mean     std   min     25%     50%  \\\n",
       "rougher.input.feed_au    19439.0    8.27    1.96  0.01    6.85    8.13   \n",
       "rougher.input.feed_ag    19439.0    8.79    1.94  0.01    7.24    8.59   \n",
       "rougher.input.feed_pb    19339.0    3.60    1.05  0.01    2.89    3.53   \n",
       "rougher.input.feed_sol   19340.0   36.70    5.15  0.01   34.21   37.20   \n",
       "rougher.input.feed_rate  19428.0  478.32  105.37  0.00  416.53  499.42   \n",
       "...                          ...     ...     ...   ...     ...     ...   \n",
       "final.output.recovery    19439.0   67.05   10.13  0.00   63.30   68.17   \n",
       "final.output.tail_au     19439.0    3.04    0.92  0.00    2.46    2.98   \n",
       "final.output.tail_ag     19438.0    9.69    2.33  0.00    8.06    9.74   \n",
       "final.output.tail_pb     19338.0    2.71    0.95  0.00    2.04    2.75   \n",
       "final.output.tail_sol    19433.0   10.58    2.87  0.00    8.94   10.62   \n",
       "\n",
       "                            75%     max  \n",
       "rougher.input.feed_au      9.77   13.73  \n",
       "rougher.input.feed_ag     10.21   14.60  \n",
       "rougher.input.feed_pb      4.24    7.14  \n",
       "rougher.input.feed_sol    40.04   53.48  \n",
       "rougher.input.feed_rate  550.17  717.51  \n",
       "...                         ...     ...  \n",
       "final.output.recovery     72.69  100.00  \n",
       "final.output.tail_au       3.57    8.25  \n",
       "final.output.tail_ag      11.13   19.55  \n",
       "final.output.tail_pb       3.33    5.80  \n",
       "final.output.tail_sol     12.10   22.32  \n",
       "\n",
       "[86 rows x 8 columns]"
      ]
     },
     "metadata": {},
     "output_type": "display_data"
    },
    {
     "name": "stdout",
     "output_type": "stream",
     "text": [
      "----------------------------------------------------------------------------------------------------\n",
      "Количество дубликатов:\n",
      "----------------------------------------------------------------------------------------------------\n"
     ]
    },
    {
     "data": {
      "text/plain": [
       "0"
      ]
     },
     "metadata": {},
     "output_type": "display_data"
    }
   ],
   "source": [
    "# цикл for для перебора датафреймов df0, df1, df2 в списке df_all и вывода общей информации по ним из функции df_info\n",
    "for df in df_all:\n",
    "  df_info(df)"
   ]
  },
  {
   "cell_type": "markdown",
   "metadata": {},
   "source": [
    "\n",
    "    \n",
    "**Выводы п.2.1:**\n",
    "\n",
    "- датафреймы достаточно объемные\n",
    "- много признаков\n",
    "- есть пропуски в признаках\n",
    "- статистические данные не дают конкретики без детального анализа признаков по отдельности\n",
    "- дубликатов нет"
   ]
  },
  {
   "cell_type": "markdown",
   "metadata": {},
   "source": [
    "### Проверка эффективности обогащения"
   ]
  },
  {
   "cell_type": "markdown",
   "metadata": {},
   "source": [
    "Напишем функцию `recovery`, которая принимает на вход строку из датафрейма и извлекает из нее значения трех колонок: `rougher.input.feed_au`, `rougher.output.concentrate_au` и `rougher.output.tail_au`. Эти значения будут исользоваться для расчета метрики восстановления золота"
   ]
  },
  {
   "cell_type": "code",
   "execution_count": 6,
   "metadata": {},
   "outputs": [],
   "source": [
    "# функция recovery для для расчета эффективности обогащения\n",
    "def recovery(row):\n",
    "    C = row['rougher.output.concentrate_au']\n",
    "    F = row['rougher.input.feed_au']\n",
    "    T = row['rougher.output.tail_au']\n",
    "    Calc = row['rougher.output.recovery']\n",
    "    if (F * (C-T)) == 0: reco = Calc\n",
    "    \n",
    "    else: reco = 100 * ((C * (F-T)) / (F * (C-T)))   \n",
    "    return reco"
   ]
  },
  {
   "cell_type": "code",
   "execution_count": 7,
   "metadata": {},
   "outputs": [],
   "source": [
    "# удалим строки с пропусками в столбцах из датафрейма для расчета МАЕ\n",
    "df_train_drop = df_train.dropna(subset = ['rougher.input.feed_au',\n",
    "                                 'rougher.output.concentrate_au',\n",
    "                                 'rougher.output.tail_au',\n",
    "                                 'rougher.output.recovery'], axis = 0).apply(recovery, axis = 1)"
   ]
  },
  {
   "cell_type": "code",
   "execution_count": 8,
   "metadata": {},
   "outputs": [
    {
     "name": "stdout",
     "output_type": "stream",
     "text": [
      "Эффективность обогащения: 9.83758577644259e-15\n"
     ]
    }
   ],
   "source": [
    "# вычислим среднюю абсолютную ошибку\n",
    "MAE = mean_absolute_error(df_train.dropna(subset = ['rougher.input.feed_au',\n",
    "                              'rougher.output.concentrate_au',\n",
    "                              'rougher.output.tail_au',\n",
    "                              'rougher.output.recovery'])['rougher.output.recovery'], df_train_drop)\n",
    "print('Эффективность обогащения:', MAE)"
   ]
  },
  {
   "cell_type": "markdown",
   "metadata": {},
   "source": [
    "\n",
    "    \n",
    "**Выводы п.2.2:**\n",
    "    \n",
    "Полученное значение МАЕ стремится к нулю (причем в питоне, как и любом другом языке программирования, операции с нецелыми числами имеют ограниченную точность), значит, что эффективность обогащения рассчитана правильно"
   ]
  },
  {
   "cell_type": "markdown",
   "metadata": {},
   "source": [
    "### Анализ признаков датафреймов"
   ]
  },
  {
   "cell_type": "markdown",
   "metadata": {},
   "source": [
    "Данные индексируются датой и временем получения информации (признак date). Соседние по времени параметры часто похожи./ Некоторые параметры недоступны, потому что замеряются и/или рассчитываются значительно позже. Из-за этого в тестовой выборке отсутствуют некоторые признаки, которые могут быть в обучающей. Также в тестовом наборе нет целевых признаков.\n",
    "Исходный датасет содержит обучающую и тестовую выборки со всеми признаками.\n",
    "\n",
    "Найдем все столбцы, которые есть в тренировочной выборке, но нет в тестовой"
   ]
  },
  {
   "cell_type": "code",
   "execution_count": 9,
   "metadata": {
    "scrolled": true
   },
   "outputs": [
    {
     "data": {
      "text/plain": [
       "['rougher.calculation.sulfate_to_au_concentrate',\n",
       " 'rougher.calculation.floatbank10_sulfate_to_au_feed',\n",
       " 'rougher.calculation.floatbank11_sulfate_to_au_feed',\n",
       " 'rougher.calculation.au_pb_ratio',\n",
       " 'rougher.output.concentrate_au',\n",
       " 'rougher.output.concentrate_ag',\n",
       " 'rougher.output.concentrate_pb',\n",
       " 'rougher.output.concentrate_sol',\n",
       " 'rougher.output.recovery',\n",
       " 'rougher.output.tail_au',\n",
       " 'rougher.output.tail_ag',\n",
       " 'rougher.output.tail_pb',\n",
       " 'rougher.output.tail_sol',\n",
       " 'primary_cleaner.output.concentrate_au',\n",
       " 'primary_cleaner.output.concentrate_ag',\n",
       " 'primary_cleaner.output.concentrate_pb',\n",
       " 'primary_cleaner.output.concentrate_sol',\n",
       " 'primary_cleaner.output.tail_au',\n",
       " 'primary_cleaner.output.tail_ag',\n",
       " 'primary_cleaner.output.tail_pb',\n",
       " 'primary_cleaner.output.tail_sol',\n",
       " 'secondary_cleaner.output.tail_au',\n",
       " 'secondary_cleaner.output.tail_ag',\n",
       " 'secondary_cleaner.output.tail_pb',\n",
       " 'secondary_cleaner.output.tail_sol',\n",
       " 'final.output.concentrate_au',\n",
       " 'final.output.concentrate_ag',\n",
       " 'final.output.concentrate_pb',\n",
       " 'final.output.concentrate_sol',\n",
       " 'final.output.recovery',\n",
       " 'final.output.tail_au',\n",
       " 'final.output.tail_ag',\n",
       " 'final.output.tail_pb',\n",
       " 'final.output.tail_sol']"
      ]
     },
     "execution_count": 9,
     "metadata": {},
     "output_type": "execute_result"
    }
   ],
   "source": [
    "# создание объектов типа Counter из модуля collections, для подсчета количества вхождений элементов в список\n",
    "step = clns.Counter()\n",
    "type_step = clns.Counter()\n",
    "data = clns.Counter()\n",
    "\n",
    "# список, содержащий названия столбцов датафрейма df_train, которые не входят в датафрейм df_test. \n",
    "col_ext = [i for i in df_train.columns if i not in df_test.columns]\n",
    "\n",
    "# цикл для счетчиков\n",
    "for i in col_ext:\n",
    "    words = list(map(str,i.split(\".\")))\n",
    "    step[words[0]] += 1\n",
    "    type_step[words[1]] += 1\n",
    "    data[words[2]] += 1\n",
    "\n",
    "# вывод списка\n",
    "col_ext"
   ]
  },
  {
   "cell_type": "markdown",
   "metadata": {},
   "source": [
    "\n",
    "    \n",
    "**Вывод п.2.3:**\n",
    "\n",
    "Некоторые параметры недоступны, потому что замеряются и/или рассчитываются значительно позже. Из-за этого в тестовой выборке отсутствуют некоторые признаки, которые могут быть в обучающей. Также в тестовом наборе нет целевых признаков"
   ]
  },
  {
   "cell_type": "markdown",
   "metadata": {},
   "source": [
    "### Предобработка данных"
   ]
  },
  {
   "cell_type": "markdown",
   "metadata": {},
   "source": [
    "#### Доработка тестовой выборки"
   ]
  },
  {
   "cell_type": "markdown",
   "metadata": {},
   "source": [
    "Добавим недостающие признаки в тестовую выборку (df_test)"
   ]
  },
  {
   "cell_type": "code",
   "execution_count": 10,
   "metadata": {},
   "outputs": [],
   "source": [
    "# добавление столбцов методом merge() в тестовую выборку\n",
    "df_test = df_test.merge(df_full[['final.output.recovery', 'rougher.output.recovery', 'date']], how='left', on='date')"
   ]
  },
  {
   "cell_type": "markdown",
   "metadata": {},
   "source": [
    "#### Пропуски в датафреймах"
   ]
  },
  {
   "cell_type": "markdown",
   "metadata": {},
   "source": [
    "Исходя из общего анализа данных в п.2.2, в датафреймах есть пропуски. Посмотрим, что с ними можно сделать"
   ]
  },
  {
   "cell_type": "markdown",
   "metadata": {},
   "source": [
    "В датафрейме пропусков много, удалять нельзя - надо заполнять. Посмотрим как пропуски распределены по признакам"
   ]
  },
  {
   "cell_type": "code",
   "execution_count": 11,
   "metadata": {},
   "outputs": [],
   "source": [
    "# функция для подсчета пропусков в датафрейме\n",
    "def isnull(df):\n",
    "\n",
    "    print(\"-\"*100)\n",
    "    null = df.isna().sum().sort_values(ascending=False)\n",
    "    print(null)\n",
    "    print(\"-\"*100)\n",
    "    print('Всего пропусков в датафрейме:', null.sum())\n",
    "    return"
   ]
  },
  {
   "cell_type": "code",
   "execution_count": 12,
   "metadata": {
    "scrolled": true
   },
   "outputs": [
    {
     "name": "stdout",
     "output_type": "stream",
     "text": [
      "----------------------------------------------------------------------------------------------------\n",
      "secondary_cleaner.output.tail_sol           920\n",
      "rougher.state.floatbank10_e_air             429\n",
      "rougher.input.floatbank11_xanthate          407\n",
      "primary_cleaner.output.concentrate_sol      265\n",
      "final.output.concentrate_sol                192\n",
      "                                           ... \n",
      "primary_cleaner.state.floatbank8_c_air        0\n",
      "primary_cleaner.state.floatbank8_c_level      0\n",
      "primary_cleaner.state.floatbank8_d_level      0\n",
      "primary_cleaner.output.concentrate_au         0\n",
      "primary_cleaner.state.floatbank8_b_level      0\n",
      "Length: 87, dtype: int64\n",
      "----------------------------------------------------------------------------------------------------\n",
      "Всего пропусков в датафрейме: 3050\n",
      "----------------------------------------------------------------------------------------------------\n",
      "secondary_cleaner.state.floatbank2_a_air      126\n",
      "rougher.input.floatbank11_xanthate             46\n",
      "rougher.input.feed_size                        44\n",
      "primary_cleaner.input.xanthate                 43\n",
      "rougher.input.feed_pb                          28\n",
      "rougher.input.feed_sol                         22\n",
      "primary_cleaner.input.depressant                9\n",
      "rougher.input.floatbank11_sulfate               8\n",
      "rougher.state.floatbank10_e_air                 7\n",
      "rougher.input.feed_rate                         4\n",
      "rougher.input.floatbank10_sulfate               3\n",
      "primary_cleaner.state.floatbank8_d_air          2\n",
      "primary_cleaner.state.floatbank8_c_air          2\n",
      "primary_cleaner.state.floatbank8_d_level        1\n",
      "secondary_cleaner.state.floatbank3_a_level      1\n",
      "secondary_cleaner.state.floatbank2_a_level      1\n",
      "secondary_cleaner.state.floatbank2_b_air        1\n",
      "secondary_cleaner.state.floatbank2_b_level      1\n",
      "secondary_cleaner.state.floatbank3_a_air        1\n",
      "secondary_cleaner.state.floatbank4_a_air        1\n",
      "secondary_cleaner.state.floatbank3_b_air        1\n",
      "secondary_cleaner.state.floatbank3_b_level      1\n",
      "secondary_cleaner.state.floatbank4_a_level      1\n",
      "secondary_cleaner.state.floatbank4_b_air        1\n",
      "secondary_cleaner.state.floatbank4_b_level      1\n",
      "secondary_cleaner.state.floatbank5_a_air        1\n",
      "secondary_cleaner.state.floatbank5_a_level      1\n",
      "secondary_cleaner.state.floatbank5_b_air        1\n",
      "secondary_cleaner.state.floatbank5_b_level      1\n",
      "secondary_cleaner.state.floatbank6_a_air        1\n",
      "primary_cleaner.state.floatbank8_c_level        1\n",
      "secondary_cleaner.state.floatbank6_a_level      1\n",
      "primary_cleaner.state.floatbank8_b_level        1\n",
      "rougher.state.floatbank10_c_air                 1\n",
      "primary_cleaner.state.floatbank8_a_level        1\n",
      "primary_cleaner.state.floatbank8_a_air          1\n",
      "rougher.input.floatbank10_xanthate              1\n",
      "primary_cleaner.input.sulfate                   1\n",
      "rougher.state.floatbank10_a_air                 1\n",
      "rougher.state.floatbank10_a_level               1\n",
      "rougher.state.floatbank10_b_air                 1\n",
      "primary_cleaner.state.floatbank8_b_air          1\n",
      "rougher.state.floatbank10_b_level               1\n",
      "rougher.state.floatbank10_c_level               1\n",
      "rougher.input.feed_ag                           0\n",
      "rougher.state.floatbank10_d_level               0\n",
      "rougher.state.floatbank10_d_air                 0\n",
      "rougher.state.floatbank10_e_level               0\n",
      "rougher.state.floatbank10_f_air                 0\n",
      "rougher.state.floatbank10_f_level               0\n",
      "primary_cleaner.input.feed_size                 0\n",
      "rougher.input.feed_au                           0\n",
      "date                                            0\n",
      "dtype: int64\n",
      "----------------------------------------------------------------------------------------------------\n",
      "Всего пропусков в датафрейме: 375\n",
      "----------------------------------------------------------------------------------------------------\n",
      "secondary_cleaner.output.tail_sol           1748\n",
      "rougher.input.floatbank11_xanthate           453\n",
      "rougher.state.floatbank10_e_air              436\n",
      "primary_cleaner.output.concentrate_sol       370\n",
      "secondary_cleaner.state.floatbank2_a_air     220\n",
      "                                            ... \n",
      "rougher.output.tail_sol                        0\n",
      "primary_cleaner.input.feed_size                0\n",
      "rougher.input.feed_au                          0\n",
      "primary_cleaner.output.concentrate_au          0\n",
      "date                                           0\n",
      "Length: 87, dtype: int64\n",
      "----------------------------------------------------------------------------------------------------\n",
      "Всего пропусков в датафрейме: 4481\n"
     ]
    }
   ],
   "source": [
    "# циклом проходим по трем исходным датафреймам\n",
    "for df in df_all:\n",
    "    isnull(df)"
   ]
  },
  {
   "cell_type": "markdown",
   "metadata": {},
   "source": [
    "В ТЗ к проекту есть важное замечание: \"Данные индексируются датой и временем получения информации (признак date). Соседние по времени параметры часто похожи\". Заполним пропуски соседними ячейками ближайшей даты"
   ]
  },
  {
   "cell_type": "code",
   "execution_count": 13,
   "metadata": {},
   "outputs": [
    {
     "name": "stdout",
     "output_type": "stream",
     "text": [
      "Всего пропусков до заполнения: 7906\n"
     ]
    }
   ],
   "source": [
    "# подсчет общего количества пропусков до их заполнения\n",
    "isna = df_train.isna().sum().sum() + df_test.isna().sum().sum() + df_full.isna().sum().sum()\n",
    "print('Всего пропусков до заполнения:', isna)"
   ]
  },
  {
   "cell_type": "code",
   "execution_count": 14,
   "metadata": {},
   "outputs": [],
   "source": [
    "# заполнение пропусков ближайшими значениями из ячеек следующей даты\n",
    "df_train = df_train.fillna(method='ffill')\n",
    "df_test = df_test.fillna(method='ffill')\n",
    "df_full = df_full.fillna(method='ffill')"
   ]
  },
  {
   "cell_type": "code",
   "execution_count": 15,
   "metadata": {},
   "outputs": [
    {
     "name": "stdout",
     "output_type": "stream",
     "text": [
      "Всего пропусков после заполнения: 0\n"
     ]
    }
   ],
   "source": [
    "# подсчет пропусков после заполнения, для проверки\n",
    "isna = df_train.isna().sum().sum() + df_test.isna().sum().sum() + df_full.isna().sum().sum()\n",
    "print('Всего пропусков после заполнения:', isna)"
   ]
  },
  {
   "cell_type": "markdown",
   "metadata": {},
   "source": [
    "\n",
    "    \n",
    "**Выводы п.2.5:**\n",
    "   \n",
    "- добавлены недостающие признаки в тестовую выборку (df_test)\n",
    "- пропуски заполнили соседними ячейками ближайшей даты"
   ]
  },
  {
   "cell_type": "markdown",
   "metadata": {},
   "source": [
    "\n",
    "**Общие выводы п.2:**\n",
    "    \n",
    "- датафреймы достаточно объемные\n",
    "- много признаков\n",
    "- есть пропуски в признаках\n",
    "- статистические данные не дают конкретики без детального анализа признаков по отдельности\n",
    "- дубликатов нет\n",
    "- полученное значение МАЕ стремится к нулю, значит, что эффективность обогащения рассчитана правильно\n",
    "- некоторые параметры недоступны, потому что замеряются и/или рассчитываются значительно позже. Из-за этого в тестовой выборке отсутствуют некоторые признаки, которые могут быть в обучающей. Также в тестовом наборе нет целевых признаков\n",
    "- добавлены недостающие признаки в тестовую выборку (df_test)\n",
    "- пропуски заполнили соседними ячейками ближайшей даты"
   ]
  },
  {
   "cell_type": "markdown",
   "metadata": {},
   "source": [
    "## Анализ данных"
   ]
  },
  {
   "cell_type": "markdown",
   "metadata": {},
   "source": [
    "Анализ имеющихся данных будем проводить по следующему алгоритму:\n",
    "\n",
    "1) Посмотрим, как меняется концентрация металлов (Au, Ag, Pb) на различных этапах: в сырье, в черновом концентрате, в концентрате после первой очистки и в финальном концентрате, какие особенности имеют распределения;\n",
    "2) Сравним распределения размеров гранул исходного сырья на обучающей и тестовой выборках. Если распределения сильно отличаются друг от друга, оценка модели будет неправильной;\n",
    "3) Исследуем суммарную концентрацию металлов на разных стадиях: в сырье, в черновом концентрате, в концентрате после первой очистки и в финальном концентрате."
   ]
  },
  {
   "cell_type": "markdown",
   "metadata": {},
   "source": [
    "### Изменение концентрации металлов на различных этапах"
   ]
  },
  {
   "cell_type": "code",
   "execution_count": 16,
   "metadata": {},
   "outputs": [
    {
     "data": {
      "image/png": "[encoded data removed]",
      "text/plain": [
       "<Figure size 720x360 with 1 Axes>"
      ]
     },
     "metadata": {
      "needs_background": "light"
     },
     "output_type": "display_data"
    }
   ],
   "source": [
    "# Концентрация золота (Au)\n",
    "plt.figure(figsize=(10,5))\n",
    "df_full['rougher.input.feed_au'].hist(bins=100, label='флотация исходного сырья - rougher.output.feed', alpha=0.8)\n",
    "df_full['rougher.output.concentrate_au'].hist(bins=100, label='флотация - rougher.output', alpha=0.5)\n",
    "df_full['primary_cleaner.output.concentrate_au'].hist(bins=100, label='первичная очистка - primary_cleaner.output', alpha=0.5)\n",
    "df_full['final.output.concentrate_au'].hist(bins=100, label='вторичная очистка - secondary_cleaner.output', alpha=0.5)\n",
    "\n",
    "plt.xlabel('Концентрация золота Au')\n",
    "plt.ylabel('Количество результатов')\n",
    "plt.legend(loc='upper left')\n",
    "plt.show()"
   ]
  },
  {
   "cell_type": "code",
   "execution_count": 17,
   "metadata": {},
   "outputs": [
    {
     "data": {
      "image/png": "[encoded data removed]",
      "text/plain": [
       "<Figure size 720x360 with 1 Axes>"
      ]
     },
     "metadata": {
      "needs_background": "light"
     },
     "output_type": "display_data"
    }
   ],
   "source": [
    "# Концентрация серебра (Ag)\n",
    "plt.figure(figsize=(10,5))\n",
    "df_full['rougher.input.feed_ag'].hist(bins=100, label='флотация исходного сырья - rougher.output.feed', alpha=0.8)\n",
    "df_full['rougher.output.concentrate_ag'].hist(bins=100, label='флотация - rougher.output', alpha=0.5)\n",
    "df_full['primary_cleaner.output.concentrate_ag'].hist(bins=100, label='первичная очистка - primary_cleaner.output', alpha=0.5)\n",
    "df_full['final.output.concentrate_ag'].hist(bins=100, label='вторичная очистка - secondary_cleaner.output', alpha=0.5)\n",
    "\n",
    "plt.legend(loc='upper right')\n",
    "plt.xlabel('Концентрация серебра Ag')\n",
    "plt.ylabel('Количество результатов')\n",
    "plt.show()"
   ]
  },
  {
   "cell_type": "code",
   "execution_count": 18,
   "metadata": {},
   "outputs": [
    {
     "data": {
      "image/png": "[encoded data removed]",
      "text/plain": [
       "<Figure size 720x360 with 1 Axes>"
      ]
     },
     "metadata": {
      "needs_background": "light"
     },
     "output_type": "display_data"
    }
   ],
   "source": [
    "# Концентрация свинца (Pb)\n",
    "plt.figure(figsize=(10,5))\n",
    "\n",
    "df_full['rougher.input.feed_pb'].hist(bins=100, label='флотация исходного сырья - rougher.output.feed', alpha=0.5)\n",
    "df_full['rougher.output.concentrate_pb'].hist(bins=100, label='флотация - rougher.output.concentrate', alpha=0.5)\n",
    "df_full['primary_cleaner.output.concentrate_pb'].hist(bins=100, label='первичная очистка - primary_cleaner.output', alpha=0.5)\n",
    "df_full['final.output.concentrate_pb'].hist(bins=100, label='вторичная очистка - secondary_cleaner.output', alpha=0.5)\n",
    "\n",
    "plt.legend(loc='lower right')\n",
    "plt.xlabel('Концентрация свинца pb')\n",
    "plt.ylabel('Количество результатов')\n",
    "plt.show()"
   ]
  },
  {
   "cell_type": "code",
   "execution_count": 19,
   "metadata": {},
   "outputs": [
    {
     "data": {
      "image/png": "[encoded data removed]",
      "text/plain": [
       "<Figure size 720x360 with 1 Axes>"
      ]
     },
     "metadata": {
      "needs_background": "light"
     },
     "output_type": "display_data"
    }
   ],
   "source": [
    "# Концентрация золи (Sol)\n",
    "plt.figure(figsize=(10,5))\n",
    "\n",
    "df_full['rougher.input.feed_sol'].hist(bins=100, label='флотация исходного сырья - rougher.output.feed', alpha=0.5)\n",
    "df_full['rougher.output.concentrate_sol'].hist(bins=100, label='флотация - rougher.output.concentrate', alpha=0.5)\n",
    "df_full['primary_cleaner.output.concentrate_sol'].hist(bins=100, label='первичная очистка - primary_cleaner.output', alpha=0.5)\n",
    "df_full['final.output.concentrate_sol'].hist(bins=100, label='вторичная очистка - secondary_cleaner.output', alpha=0.5)\n",
    "\n",
    "plt.legend(loc='lower right')\n",
    "plt.xlabel('Концентрация золи sol')\n",
    "plt.ylabel('Количество результатов')\n",
    "plt.show()"
   ]
  },
  {
   "cell_type": "markdown",
   "metadata": {},
   "source": [
    "\n",
    "    \n",
    "**Выводы п.3.1:**\n",
    "    \n",
    "- концентрация золота (Au) увеличивается на каждом этапе очистки, масимальная происходит на этапе вторичной очистки\n",
    "- концентрация серебра (Ag) на каждом этапе не однозначно меняется, макссимальная  концентрация  достигается на этапе флотации\n",
    "- концентрация свинца (Pb) с каждым этапом увеличивается, макссимальная концентрация приходится на этап вторичной очистки\n",
    "- концентрация золи (Sol) постепенно уменьшается с каждым этапом, максимум - в исходном сырье"
   ]
  },
  {
   "cell_type": "markdown",
   "metadata": {},
   "source": [
    "### Сравнение распределения размеров гранул исходного сырья на обучающей и тестовой выборках"
   ]
  },
  {
   "cell_type": "code",
   "execution_count": 20,
   "metadata": {},
   "outputs": [
    {
     "data": {
      "image/png": "[encoded data removed]",
      "text/plain": [
       "<Figure size 720x360 with 1 Axes>"
      ]
     },
     "metadata": {
      "needs_background": "light"
     },
     "output_type": "display_data"
    }
   ],
   "source": [
    "# Распределение размеров гранул в процессе флотации\n",
    "plt.figure(figsize=(10,5))\n",
    "\n",
    "df_train['rougher.input.feed_size'].hist(bins=500, label='df_train, rougher.input.feed_size', alpha=0.5, density=True)\n",
    "df_test['rougher.input.feed_size'].hist(bins=500, label='df_test, rougher.input.feed_size', alpha=0.5, density=True)\n",
    "plt.title('Распределение размеров гранул в процессе флотации')\n",
    "plt.xlim([20, 120])\n",
    "\n",
    "plt.legend(loc='upper right')\n",
    "plt.xlabel('Размеры гранул')\n",
    "plt.ylabel('Количество результатов')\n",
    "plt.show()"
   ]
  },
  {
   "cell_type": "code",
   "execution_count": 21,
   "metadata": {},
   "outputs": [
    {
     "data": {
      "image/png": "[encoded data removed]",
      "text/plain": [
       "<Figure size 720x360 with 1 Axes>"
      ]
     },
     "metadata": {
      "needs_background": "light"
     },
     "output_type": "display_data"
    }
   ],
   "source": [
    "# Распределение размеров гранул в результате первичной очистки\n",
    "plt.figure(figsize=(10,5))\n",
    "\n",
    "df_train['primary_cleaner.input.feed_size'].hist(bins=500, label='df_train, primary_cleaner.input.feed_size', alpha=0.5, density=True)\n",
    "df_test['primary_cleaner.input.feed_size'].hist(bins=500, label='df_test, primary_cleaner.input.feed_size', alpha=0.5, density=True)\n",
    "plt.title('Распределение размеров гранул в результате первичной очистки')\n",
    "plt.xlim([5, 10])\n",
    "\n",
    "plt.legend(loc='upper right')\n",
    "plt.xlabel('Размеры гранул')\n",
    "plt.ylabel('Количество результатов')\n",
    "plt.show()"
   ]
  },
  {
   "cell_type": "markdown",
   "metadata": {},
   "source": [
    "\n",
    "    \n",
    "**Выводы п.3.2:**\n",
    "    \n",
    "- качественно диаграммы на обучающей и тестовой выборке похожи - стремятся к нормальному распределению\n",
    "- ввиду бОльшего размера обучающей выборки, колокол диаграммы выше, чем на тестовой выборке, поэтому был добавлен параметр density=True для нормализации графиков"
   ]
  },
  {
   "cell_type": "markdown",
   "metadata": {},
   "source": [
    "### Исследование суммарной концентрации металлов на разных стадиях"
   ]
  },
  {
   "cell_type": "markdown",
   "metadata": {},
   "source": [
    "Исследовние проведем суммарной концентрации металлов на разных этапах технологического процесса"
   ]
  },
  {
   "cell_type": "code",
   "execution_count": 22,
   "metadata": {},
   "outputs": [],
   "source": [
    "# запись в отдельную колонку суммарной концентрации металлов на этапе флотации\n",
    "df_train['rougher.output.concentrate_au_ag_pb_sol'] = (df_train['rougher.output.concentrate_au']\n",
    "                                                      + df_train['rougher.output.concentrate_ag']\n",
    "                                                      + df_train['rougher.output.concentrate_pb']\n",
    "                                                      + df_train['rougher.output.concentrate_sol'])"
   ]
  },
  {
   "cell_type": "code",
   "execution_count": 23,
   "metadata": {},
   "outputs": [
    {
     "data": {
      "image/png": "[encoded data removed]",
      "text/plain": [
       "<Figure size 720x360 with 1 Axes>"
      ]
     },
     "metadata": {
      "needs_background": "light"
     },
     "output_type": "display_data"
    }
   ],
   "source": [
    "# диаграмма суммарной концентрации на этапе флотации в сравнении с другими металлами\n",
    "plt.figure(figsize=(10,5))\n",
    "df_train['rougher.output.concentrate_au_ag_pb_sol'].hist(bins=100, label='concentrate_au_ag_pb_sol', alpha=0.8)\n",
    "df_train['rougher.output.concentrate_au'].hist(bins=100, label='concentrate_au', alpha=0.5)\n",
    "df_train['rougher.output.concentrate_ag'].hist(bins=100, label='concentrate_ag', alpha=0.5)\n",
    "df_train['rougher.output.concentrate_pb'].hist(bins=100, label='output.concentrate_pb', alpha=0.5)\n",
    "df_train['rougher.output.concentrate_sol'].hist(bins=100, label='output.concentrate_sol', alpha=0.5)\n",
    "plt.title('Суммарная концентрация металлов на этапе флотации')\n",
    "plt.xlabel('Концентрация')\n",
    "plt.ylabel('Количество')\n",
    "plt.legend(loc='upper left')\n",
    "plt.show()"
   ]
  },
  {
   "cell_type": "code",
   "execution_count": 24,
   "metadata": {},
   "outputs": [],
   "source": [
    "# запись в отдельную колонку суммарной концентрации металлов после первичной очистки\n",
    "df_train['primary_cleaner.output.concentrate_au_ag_pb_sol'] = (df_train['primary_cleaner.output.concentrate_au']\n",
    "                                                              + df_train['primary_cleaner.output.concentrate_ag']\n",
    "                                                              + df_train['primary_cleaner.output.concentrate_pb']\n",
    "                                                              + df_train['primary_cleaner.output.concentrate_sol'])"
   ]
  },
  {
   "cell_type": "code",
   "execution_count": 25,
   "metadata": {},
   "outputs": [
    {
     "data": {
      "image/png": "[encoded data removed]",
      "text/plain": [
       "<Figure size 720x360 with 1 Axes>"
      ]
     },
     "metadata": {
      "needs_background": "light"
     },
     "output_type": "display_data"
    }
   ],
   "source": [
    "# диаграмма суммарной концентрации после первичной очистки в сравнении с другими металлами\n",
    "plt.figure(figsize=(10,5))\n",
    "df_train['primary_cleaner.output.concentrate_au_ag_pb_sol'].hist(bins=100, label='concentrate_au_ag_pb_sol', alpha=0.8)\n",
    "df_train['primary_cleaner.output.concentrate_au'].hist(bins=100, label='concentrate_au', alpha=0.5)\n",
    "df_train['primary_cleaner.output.concentrate_ag'].hist(bins=100, label='concentrate_ag', alpha=0.5)\n",
    "df_train['primary_cleaner.output.concentrate_pb'].hist(bins=100, label='output.concentrate_pb', alpha=0.5)\n",
    "df_train['primary_cleaner.output.concentrate_sol'].hist(bins=100, label='output.concentrate_sol', alpha=0.5)\n",
    "plt.title('Суммарная концентрация металлов после первичной очистки')\n",
    "plt.xlabel('Концентрация')\n",
    "plt.ylabel('Количество')\n",
    "plt.legend(loc='upper left')\n",
    "plt.show()"
   ]
  },
  {
   "cell_type": "code",
   "execution_count": 26,
   "metadata": {},
   "outputs": [],
   "source": [
    "# запись в отдельную колонку суммарной концентрации металлов в результате вторичной очистки\n",
    "df_train['final.output.concentrate_au_ag_pb_sol'] = (df_train['final.output.concentrate_au']\n",
    "                                                    + df_train['final.output.concentrate_ag']\n",
    "                                                    + df_train['final.output.concentrate_pb']\n",
    "                                                    + df_train['final.output.concentrate_sol'])"
   ]
  },
  {
   "cell_type": "code",
   "execution_count": 27,
   "metadata": {},
   "outputs": [
    {
     "data": {
      "image/png": "[encoded data removed]",
      "text/plain": [
       "<Figure size 720x360 with 1 Axes>"
      ]
     },
     "metadata": {
      "needs_background": "light"
     },
     "output_type": "display_data"
    }
   ],
   "source": [
    "# диаграмма суммарной концентрации в результате вторичной очистки в сравнении с другими металлами\n",
    "plt.figure(figsize=(10,5))\n",
    "df_train['final.output.concentrate_au_ag_pb_sol'].hist(bins=100, label='concentrate_au_ag_pb_sol', alpha=0.8)\n",
    "df_train['final.output.concentrate_au'].hist(bins=100, label='concentrate_au', alpha=0.5)\n",
    "df_train['final.output.concentrate_ag'].hist(bins=100, label='concentrate_ag', alpha=0.5)\n",
    "df_train['final.output.concentrate_pb'].hist(bins=100, label='output.concentrate_pb', alpha=0.5)\n",
    "df_train['final.output.concentrate_sol'].hist(bins=100, label='output.concentrate_sol', alpha=0.5)\n",
    "plt.title('Суммарная концентрация металлов в результате вторичной очистки')\n",
    "plt.xlabel('Концентрация')\n",
    "plt.ylabel('Количество')\n",
    "plt.legend(loc='upper left')\n",
    "plt.show()"
   ]
  },
  {
   "cell_type": "code",
   "execution_count": 28,
   "metadata": {},
   "outputs": [
    {
     "data": {
      "image/png": "[encoded data removed]",
      "text/plain": [
       "<Figure size 1080x360 with 1 Axes>"
      ]
     },
     "metadata": {
      "needs_background": "light"
     },
     "output_type": "display_data"
    }
   ],
   "source": [
    "# диаграмма размаха суммарной концентрации на каждом из этапов\n",
    "df_train[['rougher.output.concentrate_au_ag_pb_sol',\n",
    "          'primary_cleaner.output.concentrate_au_ag_pb_sol',\n",
    "          'final.output.concentrate_au_ag_pb_sol']].boxplot(figsize = (15,5))\n",
    "plt.title('Размах и выбросы суммарной концентрации на каждом из этапов')\n",
    "plt.ylabel('Значения')\n",
    "plt.show()"
   ]
  },
  {
   "cell_type": "markdown",
   "metadata": {},
   "source": [
    "\n",
    "    \n",
    "**Выводы п.3.3:**\n",
    "    \n",
    "- в выборках есть выбросы в виде нулей\n",
    "- суммарная концентрация на этапе вторичной очистки выше, чем первичной. Пики концентрации приходятся на 65 и 70 соответственно"
   ]
  },
  {
   "cell_type": "markdown",
   "metadata": {},
   "source": [
    "### Удаление выбросов"
   ]
  },
  {
   "cell_type": "markdown",
   "metadata": {},
   "source": [
    "Удалять значения за пределами первого и третьего квантиля (Q1 и Q3) не стоит, так как они нужны для дальнейшего обучения модели, а вот наличие нулей только ухудшит процесс обучения. Поэтому из обучающей выборки удалим выбросы в виде нулей из признаков, рассмотренных выше."
   ]
  },
  {
   "cell_type": "code",
   "execution_count": 29,
   "metadata": {},
   "outputs": [],
   "source": [
    "# перезапишем обучающую выборку без нулей в признаках\n",
    "df_train = df_train[(df_train['rougher.input.feed_au'] != 0) & \n",
    "                    (df_train['rougher.input.feed_ag'] != 0) & \n",
    "                    (df_train['rougher.input.feed_pb'] != 0) & \n",
    "                    (df_train['rougher.input.feed_sol'] != 0) & \n",
    "                    (df_train['rougher.output.concentrate_au'] != 0) & \n",
    "                    (df_train['rougher.output.concentrate_ag'] != 0) & \n",
    "                    (df_train['rougher.output.concentrate_pb'] != 0) & \n",
    "                    (df_train['rougher.output.concentrate_sol'] != 0) & \n",
    "                    (df_train['primary_cleaner.output.concentrate_au'] != 0) & \n",
    "                    (df_train['primary_cleaner.output.concentrate_ag'] != 0) & \n",
    "                    (df_train['primary_cleaner.output.concentrate_pb'] != 0) & \n",
    "                    (df_train['primary_cleaner.output.concentrate_sol'] != 0) & \n",
    "                    (df_train['final.output.concentrate_au'] != 0) & \n",
    "                    (df_train['final.output.concentrate_ag'] != 0) & \n",
    "                    (df_train['final.output.concentrate_pb'] != 0) & \n",
    "                    (df_train['final.output.concentrate_sol'] != 0) &\n",
    "                    (df_train['rougher.output.concentrate_au_ag_pb_sol'] != 0) &\n",
    "                    (df_train['primary_cleaner.output.concentrate_au_ag_pb_sol'] != 0) &\n",
    "                    (df_train['final.output.concentrate_au_ag_pb_sol'] != 0)]"
   ]
  },
  {
   "cell_type": "markdown",
   "metadata": {},
   "source": [
    "\n",
    "    \n",
    "**Выводы п.3.3, 3.4:**\n",
    "- Диаграммы принимают вид нормального распределения \n",
    "- Наблюдаются выбросы в нулевых значениях. Эти выбросы были удалены, так как они будут мешать обучаться модели на выборке **df_train**"
   ]
  },
  {
   "cell_type": "markdown",
   "metadata": {},
   "source": [
    "\n",
    "**Общий вывод п.3:**\n",
    "    \n",
    "\n",
    "- концентрация золота (Au) увеличивается на каждом этапе очистки, максимальная происходит на этапе вторичной очистки\n",
    "- концентрация серебра (Ag) на каждом этапе не однозначно меняется, максимальная  концентрация  достигается на этапе флотации\n",
    "- концентрация свинца (Pb) с каждым этапом увеличивается, максимальная концентрация приходится на этап вторичной очистки\n",
    "- концентрация золи (Sol) постепенно уменьшается с каждым этапом, максимум - в исходном сырье\n",
    "- качественно диаграммы на обучающей и тестовой выборке похожи - стремятся к нормальному распределению\n",
    "- ввиду бОльшего размера обучающей выборки, колокол диаграммы выше, чем на тестовой выборке, поэтому был добавлен параметр density=True для нормализации графиков\n",
    "- в выборках есть выбросы в виде нулей\n",
    "- суммарная концентрация на этапе вторичной очистки выше, чем первичной. Пики концентрации приходятся на 65 и 70 соответственно\n",
    "- Диаграммы принимают вид нормального распределения \n",
    "- Наблюдаются выбросы в нулевых значениях. Эти выбросы были удалены, так как они будут мешать обучаться модели на выборке **df_train**"
   ]
  },
  {
   "cell_type": "markdown",
   "metadata": {},
   "source": [
    "## Модель предсказывания коэффициента восстановления золота"
   ]
  },
  {
   "cell_type": "markdown",
   "metadata": {},
   "source": [
    "### Подготовка выборки и модели"
   ]
  },
  {
   "cell_type": "markdown",
   "metadata": {},
   "source": [
    "Для обучения модели понадобятся все признаки обучающей выборки кроме даты, удалим этот признак"
   ]
  },
  {
   "cell_type": "code",
   "execution_count": 30,
   "metadata": {},
   "outputs": [],
   "source": [
    "# создание списка признаков без колонки с датой для дальшейшей обучающей выборки\n",
    "features_columns = list(df_test.columns)[1:-2]\n",
    "\n",
    "# создание списка с целевыми признаками\n",
    "target_columns = ['rougher.output.recovery', 'final.output.recovery']\n",
    "\n",
    "# создание датафреймов для обучения модели\n",
    "features_train = df_train[features_columns]\n",
    "target_train = df_train[target_columns]\n",
    "features_test = df_test[features_columns]\n",
    "target_test = df_test[target_columns]"
   ]
  },
  {
   "cell_type": "code",
   "execution_count": 31,
   "metadata": {},
   "outputs": [],
   "source": [
    "# функция для вычисления метрики качества sMAPE\n",
    "def sMAPE_func(target, pred):\n",
    "    sMAPE = abs(target - pred) / ((abs(target) + abs(pred)) / 2) * 100\n",
    "    sMAPE = sMAPE.fillna(value=0)\n",
    "    sMAPE = np.mean(sMAPE)\n",
    "    \n",
    "    return sMAPE"
   ]
  },
  {
   "cell_type": "code",
   "execution_count": 32,
   "metadata": {},
   "outputs": [],
   "source": [
    "# функция для вычисления Итоговой sMAPE\n",
    "def final_sMAPE_func(target_rougher, pred_rougher, target_final, pred_final):\n",
    "    sMAPE_rougher = sMAPE_func(target_rougher, pred_rougher)\n",
    "    sMAPE_final = sMAPE_func(target_final, pred_final)\n",
    "    final_sMAPE = 0.25 * sMAPE_rougher + 0.75 * sMAPE_final\n",
    "    \n",
    "    return final_sMAPE"
   ]
  },
  {
   "cell_type": "code",
   "execution_count": 33,
   "metadata": {},
   "outputs": [],
   "source": [
    "# метод для вычисления итоговой sMAPE (по аргументам smape_rougher и smape_final)\n",
    "def summary_sMAPE(sMAPE_rougher, sMAPE_final):\n",
    "    sum_sMAPE = 0.25 * sMAPE_rougher + 0.75 * sMAPE_final\n",
    "    \n",
    "    return sum_sMAPE"
   ]
  },
  {
   "cell_type": "code",
   "execution_count": 34,
   "metadata": {},
   "outputs": [],
   "source": [
    "# расчет мтрики make_scorer\n",
    "sMAPE_score = make_scorer(sMAPE_func, greater_is_better=False)"
   ]
  },
  {
   "cell_type": "markdown",
   "metadata": {},
   "source": [
    "\n",
    "    \n",
    "**Выводы п.4.1:**\n",
    "    \n",
    "- удален признак с датой на обучающей и тестовой выборках\n",
    "- написаны функции для расчета метрик sMAPE"
   ]
  },
  {
   "cell_type": "markdown",
   "metadata": {},
   "source": [
    "### Линейная регрессия"
   ]
  },
  {
   "cell_type": "code",
   "execution_count": 35,
   "metadata": {},
   "outputs": [],
   "source": [
    "# описание модели линейной регрессии\n",
    "model_LR = LinearRegression()"
   ]
  },
  {
   "cell_type": "code",
   "execution_count": 36,
   "metadata": {},
   "outputs": [
    {
     "name": "stdout",
     "output_type": "stream",
     "text": [
      "Средняя оценка качества sMAPE_LR_rougher: 7.03\n"
     ]
    }
   ],
   "source": [
    "# оценка модели линейной регрессии кроссвалидацией на обучающей выборке\n",
    "scores_LR_rougher = cross_val_score(model_LR,\n",
    "                                    features_train,\n",
    "                                    target_train['rougher.output.recovery'],\n",
    "                                    scoring = sMAPE_score,\n",
    "                                    cv = 5)\n",
    "\n",
    "# среднее абсолютное значение оценок качества модели\n",
    "sMAPE_LR_rougher  = np.mean(abs(scores_LR_rougher))\n",
    "print('Средняя оценка качества sMAPE_LR_rougher:', round(sMAPE_LR_rougher, 2))"
   ]
  },
  {
   "cell_type": "code",
   "execution_count": 58,
   "metadata": {},
   "outputs": [
    {
     "name": "stdout",
     "output_type": "stream",
     "text": [
      "Средняя оценка качества sMAPE_LR_final: 9.48\n"
     ]
    }
   ],
   "source": [
    "# оценим модель с помощью кроссвалидации на обучающей выборке\n",
    "scores_LR_final = cross_val_score(model_LR,\n",
    "                                  features_train,\n",
    "                                  target_train['final.output.recovery'],\n",
    "                                  scoring = sMAPE_score,\n",
    "                                  cv = 5)\n",
    "\n",
    "# среднее абсолютное значение оценок качества модели\n",
    "sMAPE_LR_final = np.mean(abs(scores_LR_final))\n",
    "print('Средняя оценка качества sMAPE_LR_final:', round(sMAPE_LR_final, 2))"
   ]
  },
  {
   "cell_type": "code",
   "execution_count": 59,
   "metadata": {},
   "outputs": [
    {
     "name": "stdout",
     "output_type": "stream",
     "text": [
      "Средняя итоговая оценка качества модели sMAPE_LR_total: 8.86\n"
     ]
    }
   ],
   "source": [
    "# вызов функции итоговой оценки sMape\n",
    "sMAPE_LR_total = summary_sMAPE(sMAPE_LR_rougher, sMAPE_LR_final)\n",
    "print('Средняя итоговая оценка качества модели sMAPE_LR_total:', round(sMAPE_LR_total, 2))"
   ]
  },
  {
   "cell_type": "markdown",
   "metadata": {},
   "source": [
    "\n",
    "    \n",
    "**Выводы п.4.2 модели линейной регрессии:**\n",
    "\n",
    "- Средняя оценка качества sMAPE_LR_rougher: 7.03\n",
    "- Средняя оценка качества sMAPE_LR_final: 9.48\n",
    "- Средняя итоговая оценка качества модели sMAPE_LR_total: 8.86"
   ]
  },
  {
   "cell_type": "markdown",
   "metadata": {},
   "source": [
    "### Дерево решений"
   ]
  },
  {
   "cell_type": "code",
   "execution_count": 39,
   "metadata": {},
   "outputs": [
    {
     "name": "stdout",
     "output_type": "stream",
     "text": [
      "Средняя оценка качества sMAPE_DTR_rougher: 6.78\n"
     ]
    }
   ],
   "source": [
    "# описание модели дерева решений\n",
    "model_DTR_rougher = DecisionTreeRegressor(random_state=RANDOM_STATE, max_depth=5)\n",
    "\n",
    "# обучение модели\n",
    "model_DTR_rougher.fit(features_train, target_train['rougher.output.recovery'])\n",
    "\n",
    "# оценка модели с помощью кроссвалидации на обучающей выборке\n",
    "scores_DTR_rougher = cross_val_score(model_DTR_rougher,\n",
    "                                     features_train,\n",
    "                                     target_train['rougher.output.recovery'],\n",
    "                                     scoring = sMAPE_score,\n",
    "                                     cv = 5)\n",
    "\n",
    "# среднее абсолютное значение оценок качества модели\n",
    "sMAPE_DTR_rougher = np.mean(abs(scores_DTR_rougher))\n",
    "print('Средняя оценка качества sMAPE_DTR_rougher:', round(sMAPE_DTR_rougher, 2))"
   ]
  },
  {
   "cell_type": "code",
   "execution_count": 40,
   "metadata": {},
   "outputs": [
    {
     "name": "stdout",
     "output_type": "stream",
     "text": [
      "Средняя оценка качества sMAPE_DTR_final: 10.28\n"
     ]
    }
   ],
   "source": [
    "# описание модели дерева решений\n",
    "model_DTR_final = DecisionTreeRegressor(random_state=RANDOM_STATE, max_depth=5)\n",
    "\n",
    "# обучение модели\n",
    "model_DTR_final.fit(features_train, target_train['final.output.recovery'])\n",
    "\n",
    "# оценка модели с помощью кроссвалидации на обучающей выборке\n",
    "scores_DTR_final = cross_val_score(model_DTR_final,\n",
    "                                   features_train,\n",
    "                                   target_train['final.output.recovery'],\n",
    "                                   scoring = sMAPE_score,\n",
    "                                   cv = 5)\n",
    "\n",
    "# среднее абсолютное значение оценок качества модели\n",
    "sMAPE_DTR_final = np.mean(abs(scores_DTR_final))\n",
    "print('Средняя оценка качества sMAPE_DTR_final:', round(sMAPE_DTR_final, 2))"
   ]
  },
  {
   "cell_type": "code",
   "execution_count": 41,
   "metadata": {},
   "outputs": [
    {
     "name": "stdout",
     "output_type": "stream",
     "text": [
      "Средняя итоговая оценка качества модели sMAPE_DTR_total: 9.4\n"
     ]
    }
   ],
   "source": [
    "# вызов функции итоговой оценки sMape\n",
    "sMAPE_DTR_total = summary_sMAPE(sMAPE_DTR_rougher, sMAPE_DTR_final)\n",
    "print('Средняя итоговая оценка качества модели sMAPE_DTR_total:', round(sMAPE_DTR_total, 2))"
   ]
  },
  {
   "cell_type": "code",
   "execution_count": 46,
   "metadata": {},
   "outputs": [
    {
     "name": "stderr",
     "output_type": "stream",
     "text": [
      "/opt/conda/lib/python3.9/site-packages/sklearn/model_selection/_search.py:285: UserWarning: The total space of parameters 5 is smaller than n_iter=10. Running 5 iterations. For exhaustive searches, use GridSearchCV.\n",
      "  warnings.warn(\n"
     ]
    },
    {
     "name": "stdout",
     "output_type": "stream",
     "text": [
      "{'max_depth': 5}\n",
      "Абсолютное значение grid_DTR_rougher: 6.78\n"
     ]
    }
   ],
   "source": [
    "# описание модели дерева решений\n",
    "model_DTR_rougher = DecisionTreeRegressor(random_state=RANDOM_STATE)\n",
    "\n",
    "# подбор оптимальных параметров глубины дерева\n",
    "parameters = {'max_depth': [x for x in range(1, 10, 2)]}\n",
    "\n",
    "# перебор гиперпараметров методом GridSearchCV\n",
    "\n",
    "\n",
    "grid_DTR_rougher = RandomizedSearchCV(model_DTR_rougher,\n",
    "                                        parameters,\n",
    "                                        cv=5,\n",
    "                                        n_iter=10,\n",
    "                                        random_state=RANDOM_STATE,\n",
    "                                        scoring=sMAPE_score)\n",
    "\n",
    "# обучение модели\n",
    "grid_DTR_rougher.fit(features_train, target_train['rougher.output.recovery'])\n",
    "\n",
    "# вывод лучших гиперпараметров\n",
    "print(grid_DTR_rougher.best_params_)\n",
    "print('Абсолютное значение grid_DTR_rougher:', abs(round(grid_DTR_rougher.best_score_, 3)))"
   ]
  },
  {
   "cell_type": "code",
   "execution_count": 47,
   "metadata": {},
   "outputs": [
    {
     "name": "stderr",
     "output_type": "stream",
     "text": [
      "/opt/conda/lib/python3.9/site-packages/sklearn/model_selection/_search.py:285: UserWarning: The total space of parameters 5 is smaller than n_iter=10. Running 5 iterations. For exhaustive searches, use GridSearchCV.\n",
      "  warnings.warn(\n"
     ]
    },
    {
     "name": "stdout",
     "output_type": "stream",
     "text": [
      "{'max_depth': 3}\n",
      "Абсолютное значение grid_DTR_final: 9.21\n"
     ]
    }
   ],
   "source": [
    "# описание модели дерева решений\n",
    "model_DTR_final = DecisionTreeRegressor(random_state=RANDOM_STATE)\n",
    "\n",
    "# подбор оптимальных параметров глубины дерева\n",
    "parameters = {'max_depth': [x for x in range(1, 10, 2)]}\n",
    "\n",
    "# перебор гиперпараметров методом GridSearchCV\n",
    "grid_DTR_final = RandomizedSearchCV(model_DTR_rougher,\n",
    "                                        parameters,\n",
    "                                        cv=5,\n",
    "                                        n_iter=10,\n",
    "                                        random_state=RANDOM_STATE,\n",
    "                                        scoring=sMAPE_score)\n",
    "\n",
    "# обучение модели\n",
    "grid_DTR_final.fit(features_train, target_train['final.output.recovery'])\n",
    "\n",
    "# вывод лучших гиперпараметров\n",
    "print(grid_DTR_final.best_params_)\n",
    "print('Абсолютное значение grid_DTR_final:', abs(round(grid_DTR_final.best_score_, 2)))"
   ]
  },
  {
   "cell_type": "code",
   "execution_count": 48,
   "metadata": {},
   "outputs": [
    {
     "name": "stdout",
     "output_type": "stream",
     "text": [
      "Средняя итоговая оценка качества модели sMAPE_DTR_total: 8.6\n"
     ]
    }
   ],
   "source": [
    "# вызов функции итоговой оценки sMape\n",
    "sMAPE_DTR_total = summary_sMAPE(abs(round(grid_DTR_rougher.best_score_, 2)), abs(round(grid_DTR_final.best_score_, 2)))\n",
    "print('Средняя итоговая оценка качества модели sMAPE_DTR_total:', round(sMAPE_DTR_total, 2))"
   ]
  },
  {
   "cell_type": "markdown",
   "metadata": {},
   "source": [
    "\n",
    "    \n",
    "**Выводы п.4.3 модели Дерева решений:**\n",
    "\n",
    "- Средняя оценка качества sMAPE_DTR_rougher: 6.78\n",
    "- Средняя оценка качества sMAPE_DTR_final: 10.28\n",
    "- Средняя итоговая оценка качества модели sMAPE_DTR_total: 9.4\n",
    "\n",
    "С перебором гиперпараметров методом GridSearchCV:\n",
    "{'max_depth': 5}\n",
    "Абсолютное значение grid_DTR_rougher: 6.78\n",
    "\n",
    "{'max_depth': 3}\n",
    "Абсолютное значение grid_DTR_final: 9.21\n",
    "\n",
    "Средняя итоговая оценка качества модели sMAPE_DTR_total: 8.6 "
   ]
  },
  {
   "cell_type": "markdown",
   "metadata": {},
   "source": [
    "### Случайный лес"
   ]
  },
  {
   "cell_type": "code",
   "execution_count": 50,
   "metadata": {},
   "outputs": [
    {
     "name": "stdout",
     "output_type": "stream",
     "text": [
      "Средняя оценка качества модели sMAPE_RFR_rougher: 6.83\n"
     ]
    }
   ],
   "source": [
    "# описание модели случайного леса\n",
    "model_RFR_rougher = RandomForestRegressor(random_state=RANDOM_STATE, max_depth=5, n_estimators=5)\n",
    "\n",
    "# оценка модели случайного леса кроссвалидацией на обучающей выборке\n",
    "scores_RFR_rougher = cross_val_score(model_RFR_rougher,\n",
    "                                     features_train,\n",
    "                                     target_train['rougher.output.recovery'],\n",
    "                                     scoring=sMAPE_score,\n",
    "                                     cv = 5)\n",
    "\n",
    "\n",
    "# среднее абсолютное значение оценок качества модели\n",
    "sMAPE_RFR_rougher = np.mean(abs(scores_RFR_rougher))\n",
    "print('Средняя оценка качества модели sMAPE_RFR_rougher:', round(sMAPE_RFR_rougher, 2))"
   ]
  },
  {
   "cell_type": "code",
   "execution_count": 61,
   "metadata": {},
   "outputs": [
    {
     "name": "stdout",
     "output_type": "stream",
     "text": [
      "Средняя оценка качества модели sMAPE_RFR_final: 9.61\n"
     ]
    }
   ],
   "source": [
    "# описание модели случайного леса\n",
    "model_RFR_final = RandomForestRegressor(random_state=RANDOM_STATE, max_depth=5, n_estimators=5)\n",
    "\n",
    "# оценка модели случайного леса кроссвалидацией на обучающей выборке\n",
    "scores_RFR_final = cross_val_score(model_RFR_final,\n",
    "                                   features_train,\n",
    "                                   target_train['final.output.recovery'],\n",
    "                                   scoring=sMAPE_score,\n",
    "                                   cv = 5)\n",
    "\n",
    "# среднее абсолютное значение оценок качества модели\n",
    "sMAPE_RFR_final = np.mean(abs(scores_RFR_final))\n",
    "print('Средняя оценка качества модели sMAPE_RFR_final:', round(sMAPE_RFR_final, 2))"
   ]
  },
  {
   "cell_type": "code",
   "execution_count": 49,
   "metadata": {},
   "outputs": [
    {
     "name": "stdout",
     "output_type": "stream",
     "text": [
      "Средняя итоговая оценка качества модели sMAPE_RFR_total: 8.91\n"
     ]
    }
   ],
   "source": [
    "# вызов функции итоговой оценки sMape\n",
    "sMAPE_RFR_total = summary_sMAPE(sMAPE_RFR_rougher, sMAPE_RFR_final)\n",
    "print('Средняя итоговая оценка качества модели sMAPE_RFR_total:', round(sMAPE_RFR_total, 2))"
   ]
  },
  {
   "cell_type": "code",
   "execution_count": 52,
   "metadata": {
    "scrolled": true
   },
   "outputs": [
    {
     "name": "stderr",
     "output_type": "stream",
     "text": [
      "/opt/conda/lib/python3.9/site-packages/sklearn/model_selection/_search.py:285: UserWarning: The total space of parameters 3 is smaller than n_iter=10. Running 3 iterations. For exhaustive searches, use GridSearchCV.\n",
      "  warnings.warn(\n"
     ]
    },
    {
     "name": "stdout",
     "output_type": "stream",
     "text": [
      "Лучшие гиперпараметры:  {'max_depth': 5}\n",
      "grid_RFR_rougher 6.78\n"
     ]
    }
   ],
   "source": [
    "# описание модели случайного леса\n",
    "model_RFR_rougher = RandomForestRegressor(random_state=RANDOM_STATE)\n",
    "\n",
    "# перебор гиперпараметров методом GridSearchCV\n",
    "parameters = { 'max_depth': [x for x in range(2, 9, 3)]}\n",
    "\n",
    "grid_RFR_rougher = RandomizedSearchCV(model_DTR_rougher,\n",
    "                                        parameters,\n",
    "                                        cv=5,\n",
    "                                        n_iter=10,\n",
    "                                        random_state=RANDOM_STATE,\n",
    "                                        scoring=sMAPE_score)\n",
    "\n",
    "\n",
    "# обучение модели\n",
    "grid_RFR_rougher.fit(features_train, target_train['rougher.output.recovery'])\n",
    "\n",
    "# вывод лучших гиперпараметров\n",
    "print('Лучшие гиперпараметры: ', grid_RFR_rougher.best_params_)\n",
    "print('grid_RFR_rougher', abs(round(grid_RFR_rougher.best_score_, 2)))"
   ]
  },
  {
   "cell_type": "code",
   "execution_count": 55,
   "metadata": {},
   "outputs": [
    {
     "name": "stderr",
     "output_type": "stream",
     "text": [
      "/opt/conda/lib/python3.9/site-packages/sklearn/model_selection/_search.py:285: UserWarning: The total space of parameters 3 is smaller than n_iter=10. Running 3 iterations. For exhaustive searches, use GridSearchCV.\n",
      "  warnings.warn(\n"
     ]
    },
    {
     "name": "stdout",
     "output_type": "stream",
     "text": [
      "Лучшие гиперпараметры:  {'max_depth': 2}\n",
      "grid_RFR_final 9.3\n"
     ]
    }
   ],
   "source": [
    "# описание модели случайного леса\n",
    "model_RFR_final = RandomForestRegressor(random_state=RANDOM_STATE)\n",
    "\n",
    "# перебор гиперпараметров методом GridSearchCV\n",
    "parameters = { 'max_depth': [x for x in range(2, 9, 3)]}\n",
    "\n",
    "\n",
    "grid_RFR_final = RandomizedSearchCV(model_DTR_rougher,\n",
    "                                        parameters,\n",
    "                                        cv=5,\n",
    "                                        n_iter=10,\n",
    "                                        random_state=RANDOM_STATE,\n",
    "                                        scoring=sMAPE_score)\n",
    "\n",
    "\n",
    "# обучение модели\n",
    "grid_RFR_final.fit(features_train, target_train['final.output.recovery'])\n",
    "\n",
    "# вывод лучших гиперпараметров\n",
    "print('Лучшие гиперпараметры: ', grid_RFR_final.best_params_)\n",
    "print('grid_RFR_final', round(abs(grid_RFR_final.best_score_), 2))"
   ]
  },
  {
   "cell_type": "code",
   "execution_count": 56,
   "metadata": {},
   "outputs": [
    {
     "name": "stdout",
     "output_type": "stream",
     "text": [
      "Средняя итоговая оценка качества модели sMAPE_RFR_total 8.67\n"
     ]
    }
   ],
   "source": [
    "# вызов функции итоговой оценки sMape\n",
    "sMAPE_RFR_total = summary_sMAPE(abs(round(grid_RFR_rougher.best_score_, 2)), abs(round(grid_RFR_final.best_score_, 2)))\n",
    "print('Средняя итоговая оценка качества модели sMAPE_RFR_total', round(sMAPE_RFR_total, 2))"
   ]
  },
  {
   "cell_type": "markdown",
   "metadata": {},
   "source": [
    "\n",
    "    \n",
    "**Выводы п.4.4 модели Случайный лес:**\n",
    "\n",
    "- Средняя оценка качества модели sMAPE_RFR_rougher: 6.83\n",
    "- Средняя оценка качества модели sMAPE_RFR_final: 9.61\n",
    "- Средняя итоговая оценка качества модели sMAPE_RFR_total: 8.91\n",
    "- Лучшие гиперпараметры:  {'max_depth': 5, 'n_estimators': 30} grid_RFR_rougher 6.64\n",
    "- Лучшие гиперпараметры:  {'max_depth': 2, 'n_estimators': 30} grid_RFR_final 8.81\n",
    "- Средняя итоговая оценка качества модели sMAPE_RFR_total 8.27"
   ]
  },
  {
   "cell_type": "markdown",
   "metadata": {},
   "source": [
    "### Cводная таблица рассчитанных значений sMAPE"
   ]
  },
  {
   "cell_type": "markdown",
   "metadata": {},
   "source": [
    "Соберем в сводную таблицу рассчитанные значения sMAPE для наглядности, отсортируем по убыванию"
   ]
  },
  {
   "cell_type": "code",
   "execution_count": 63,
   "metadata": {},
   "outputs": [
    {
     "data": {
      "text/html": [
       "<div>\n",
       "<style scoped>\n",
       "    .dataframe tbody tr th:only-of-type {\n",
       "        vertical-align: middle;\n",
       "    }\n",
       "\n",
       "    .dataframe tbody tr th {\n",
       "        vertical-align: top;\n",
       "    }\n",
       "\n",
       "    .dataframe thead th {\n",
       "        text-align: right;\n",
       "    }\n",
       "</style>\n",
       "<table border=\"1\" class=\"dataframe\">\n",
       "  <thead>\n",
       "    <tr style=\"text-align: right;\">\n",
       "      <th></th>\n",
       "      <th>name</th>\n",
       "      <th>sMAPE</th>\n",
       "    </tr>\n",
       "  </thead>\n",
       "  <tbody>\n",
       "    <tr>\n",
       "      <th>4</th>\n",
       "      <td>sMAPE_DTR_final</td>\n",
       "      <td>10.278899</td>\n",
       "    </tr>\n",
       "    <tr>\n",
       "      <th>7</th>\n",
       "      <td>sMAPE_RFR_final</td>\n",
       "      <td>9.606440</td>\n",
       "    </tr>\n",
       "    <tr>\n",
       "      <th>1</th>\n",
       "      <td>sMAPE_LR_final</td>\n",
       "      <td>9.476664</td>\n",
       "    </tr>\n",
       "    <tr>\n",
       "      <th>2</th>\n",
       "      <td>sMAPE_LR_total</td>\n",
       "      <td>8.864228</td>\n",
       "    </tr>\n",
       "    <tr>\n",
       "      <th>8</th>\n",
       "      <td>sMAPE_RFR_total</td>\n",
       "      <td>8.670000</td>\n",
       "    </tr>\n",
       "    <tr>\n",
       "      <th>5</th>\n",
       "      <td>sMAPE_DTR_total</td>\n",
       "      <td>8.602500</td>\n",
       "    </tr>\n",
       "    <tr>\n",
       "      <th>0</th>\n",
       "      <td>sMAPE_LR_rougher</td>\n",
       "      <td>7.026917</td>\n",
       "    </tr>\n",
       "    <tr>\n",
       "      <th>6</th>\n",
       "      <td>sMAPE_RFR_rougher</td>\n",
       "      <td>6.833490</td>\n",
       "    </tr>\n",
       "    <tr>\n",
       "      <th>3</th>\n",
       "      <td>sMAPE_DTR_rougher</td>\n",
       "      <td>6.780498</td>\n",
       "    </tr>\n",
       "  </tbody>\n",
       "</table>\n",
       "</div>"
      ],
      "text/plain": [
       "                name      sMAPE\n",
       "4    sMAPE_DTR_final  10.278899\n",
       "7    sMAPE_RFR_final   9.606440\n",
       "1     sMAPE_LR_final   9.476664\n",
       "2     sMAPE_LR_total   8.864228\n",
       "8    sMAPE_RFR_total   8.670000\n",
       "5    sMAPE_DTR_total   8.602500\n",
       "0   sMAPE_LR_rougher   7.026917\n",
       "6  sMAPE_RFR_rougher   6.833490\n",
       "3  sMAPE_DTR_rougher   6.780498"
      ]
     },
     "execution_count": 63,
     "metadata": {},
     "output_type": "execute_result"
    }
   ],
   "source": [
    "# создание имен в виде списов со значениями\n",
    "name = ['sMAPE_LR_rougher',\n",
    "        'sMAPE_LR_final',\n",
    "        'sMAPE_LR_total',\n",
    "        'sMAPE_DTR_rougher',\n",
    "        'sMAPE_DTR_final',\n",
    "        'sMAPE_DTR_total',\n",
    "        'sMAPE_RFR_rougher',\n",
    "        'sMAPE_RFR_final',\n",
    "        'sMAPE_RFR_total']\n",
    "\n",
    "sMAPE = [sMAPE_LR_rougher,\n",
    "         sMAPE_LR_final,\n",
    "         sMAPE_LR_total,\n",
    "         sMAPE_DTR_rougher,\n",
    "         sMAPE_DTR_final,\n",
    "         sMAPE_DTR_total,\n",
    "         sMAPE_RFR_rougher,\n",
    "         sMAPE_RFR_final,\n",
    "         sMAPE_RFR_total]\n",
    "\n",
    "# создание DataFrame из значения\n",
    "metrics = pd.DataFrame({'name': name, 'sMAPE': sMAPE})\n",
    "\n",
    "# сортировка DataFrame по значениям метрики sMAPE\n",
    "metrics.sort_values('sMAPE', ascending=False)"
   ]
  },
  {
   "cell_type": "markdown",
   "metadata": {},
   "source": [
    "\n",
    "    \n",
    "**Выводы п.4.5:**\n",
    "    \n",
    "В данной таблице лучшая модель (по наименьшему значению sMAPE на кросс-валидации) на этапе **rougher** - модель Дерево решений, а на этапе финальной очистки (final) - модель Линейной регрессии. Для этих моделей и будем проводить итоговое обучение и проверку на тестовой выборке."
   ]
  },
  {
   "cell_type": "markdown",
   "metadata": {},
   "source": [
    "### Проверка лучшей модели"
   ]
  },
  {
   "cell_type": "code",
   "execution_count": 54,
   "metadata": {},
   "outputs": [],
   "source": [
    "# функция для создания и обучения модели DecisionTreeRegressor с заданными параметрами\n",
    "def DTR_model(features_train, target_train, features_test, depth):\n",
    "    model_DTR = DecisionTreeRegressor(random_state=RANDOM_STATE, max_depth = depth)\n",
    "    model_DTR.fit(features_train, target_train)\n",
    "    pred_DTR_test = model_DTR.predict(features_test)\n",
    "\n",
    "    return pred_DTR_test"
   ]
  },
  {
   "cell_type": "code",
   "execution_count": 55,
   "metadata": {},
   "outputs": [],
   "source": [
    "# вызов функции DTR_model для обучения модели с заданными параметрами для этапа rougher\n",
    "pred_rougher_test = DTR_model(features_train, target_train['rougher.output.recovery'], features_test, 5)"
   ]
  },
  {
   "cell_type": "code",
   "execution_count": 56,
   "metadata": {},
   "outputs": [],
   "source": [
    "# функция для создания и обучения модели LinearRegression с заданными параметрами\n",
    "def LR_model(features_train, target_train, features_test):\n",
    "    model_LR = LinearRegression()\n",
    "    model_LR.fit(features_train, target_train)\n",
    "    pred_LR_test = model_LR.predict(features_test)\n",
    "\n",
    "    return pred_LR_test"
   ]
  },
  {
   "cell_type": "code",
   "execution_count": 57,
   "metadata": {},
   "outputs": [],
   "source": [
    "# вызов функции LR_model для обучения модели с заданными параметрами для этапа final\n",
    "pred_final_test = LR_model(features_train, target_train['final.output.recovery'], features_test)"
   ]
  },
  {
   "cell_type": "code",
   "execution_count": 58,
   "metadata": {},
   "outputs": [],
   "source": [
    "# вызов функции final_sMAPE_func для рассчета smape на тестовов выборке\n",
    "sMAPE_test = final_sMAPE_func(target_test['rougher.output.recovery'],\n",
    "                              pred_rougher_test,\n",
    "                              target_test['final.output.recovery'],\n",
    "                              pred_final_test)"
   ]
  },
  {
   "cell_type": "code",
   "execution_count": 59,
   "metadata": {},
   "outputs": [
    {
     "name": "stdout",
     "output_type": "stream",
     "text": [
      "Итоговая оценка sMAPE на тестовых данных: 7.05\n"
     ]
    }
   ],
   "source": [
    "print('Итоговая оценка sMAPE на тестовых данных:', round(sMAPE_test, 2))"
   ]
  },
  {
   "cell_type": "markdown",
   "metadata": {},
   "source": [
    "### Проверка модели на адекватность"
   ]
  },
  {
   "cell_type": "code",
   "execution_count": 60,
   "metadata": {},
   "outputs": [],
   "source": [
    "# функция для создания и обучения модели DummyRegressor с заданными параметрами\n",
    "def dummy_model(features_train, target_train, features_test):\n",
    "    dummy_regr = DummyRegressor(strategy=\"mean\")\n",
    "    dummy_regr.fit(features_train, target_train)\n",
    "    dummy_test = dummy_regr.predict(features_test)\n",
    "    \n",
    "    return dummy_test"
   ]
  },
  {
   "cell_type": "code",
   "execution_count": 61,
   "metadata": {},
   "outputs": [],
   "source": [
    "# прогноз модели для этапа rougher\n",
    "pred_test_rougher_dummy = dummy_model(features_train, target_train['rougher.output.recovery'], features_test)"
   ]
  },
  {
   "cell_type": "code",
   "execution_count": 62,
   "metadata": {},
   "outputs": [],
   "source": [
    "# прогноз модели для этапа final\n",
    "pred_test_final_dummy = dummy_model(features_train, target_train['final.output.recovery'], features_test)"
   ]
  },
  {
   "cell_type": "code",
   "execution_count": 63,
   "metadata": {},
   "outputs": [],
   "source": [
    "# вызов функции final_sMAPE_func для рассчета smape на тестовов выборке\n",
    "sMAPE_test_dummy = final_sMAPE_func(target_test['rougher.output.recovery'],\n",
    "                                    pred_test_rougher_dummy,\n",
    "                                    target_test['final.output.recovery'],\n",
    "                                    pred_test_final_dummy)"
   ]
  },
  {
   "cell_type": "code",
   "execution_count": 64,
   "metadata": {},
   "outputs": [
    {
     "name": "stdout",
     "output_type": "stream",
     "text": [
      "Итоговая оценка sMAPE модели DummyRegressor на тестовых данных: 8.47\n"
     ]
    }
   ],
   "source": [
    "print('Итоговая оценка sMAPE модели DummyRegressor на тестовых данных:', round(sMAPE_test_dummy, 2))"
   ]
  },
  {
   "cell_type": "markdown",
   "metadata": {},
   "source": [
    "-----"
   ]
  },
  {
   "cell_type": "markdown",
   "metadata": {},
   "source": [
    "\n",
    "    \n",
    "**Общие выводы п.4:**\n",
    "    \n",
    "**Выводы п.4.1:**\n",
    "    \n",
    "- удален признак с датой на обучающей и тестовой выборках\n",
    "- написаны функции для расчета метрик sMAPE\n",
    "\n",
    "\n",
    "\n",
    "**Выводы п.4.2 модели линейной регрессии:**\n",
    "\n",
    "- Средняя оценка качества sMAPE_LR_rougher: 7.03\n",
    "- Средняя оценка качества sMAPE_LR_final: 9.48\n",
    "- Средняя итоговая оценка качества модели sMAPE_LR_total: 8.86\n",
    "\n",
    "\n",
    "    \n",
    "**Выводы п.4.3 модели Дерева решений:**\n",
    "\n",
    "- Средняя оценка качества sMAPE_DTR_rougher: 6.78\n",
    "- Средняя оценка качества sMAPE_DTR_final: 10.28\n",
    "- Абсолютное значение grid_DTR_rougher: 6.78 при глубине дерева = 5\n",
    "- Абсолютное значение grid_DTR_rougher: 6.78 при глубине дерева = 3 с перебором гиперпараметров методом GridSearchCV\n",
    "\n",
    "\n",
    "\n",
    "**Выводы п.4.4 модели Случайный лес:**\n",
    "\n",
    "- Средняя оценка качества модели sMAPE_RFR_rougher: 6.83\n",
    "- Средняя оценка качества модели sMAPE_RFR_final: 9.61\n",
    "- Средняя итоговая оценка качества модели sMAPE_RFR_total: 8.91\n",
    "- Лучшие гиперпараметры:  {'max_depth': 5, 'n_estimators': 30} grid_RFR_rougher 6.64\n",
    "- Лучшие гиперпараметры:  {'max_depth': 2, 'n_estimators': 30} grid_RFR_final 8.81\n",
    "- Средняя итоговая оценка качества модели sMAPE_RFR_total 8.27\n",
    "\n",
    "\n",
    "**Выводы п.4.5:**\n",
    "    \n",
    "В данной таблице лучшая модель - Дерево решений на этапе финальной очистки. Случайный лес немного отстал из-за недостаточной глубины и количества эстиматоров. Если увеличить эти гиперпарметры, лучшая модель будет Случайный лес. **Для этих моделей и было проведено итоговое обучение и проверка на тестовой выборке**"
   ]
  },
  {
   "cell_type": "markdown",
   "metadata": {},
   "source": [
    "## Общий вывод"
   ]
  },
  {
   "cell_type": "markdown",
   "metadata": {},
   "source": [
    "\n",
    "\n",
    "**Краткий обзор проделанной работы**\n",
    "    \n",
    "В данной работе была подготовлена ML-модель машинного обучения для компании «Цифры», которая предсказывает коэффициент восстановления золота из золотосодержащей руды для оптимизации производства, чтобы не запускать предприятие с убыточными характеристиками. В модели используются данные с параметрами добычи и очистки.\n",
    "\n",
    "**Раздел 1 Постановка задачи**\n",
    "- Описаны основные этапы работы\n",
    "- Приведены исходные данные\n",
    "- Описан технологический процесс производства\n",
    "\n",
    "**Раздел 2 Подготовка данных**\n",
    "- Импортированы библиотеки и датафреймы\n",
    "- Представлена общая информация о датафреймах\n",
    "- Проведена проверка эффективности обогащения\n",
    "- Выполнен анализ признаков датафреймов\n",
    "- Сделана предобработка данных: доработка тестовой выборки, пропуски в датафреймах\n",
    "\n",
    "**Раздел 3 Анализ данных**\n",
    "- На диаграммах представлено изменение концентрации металлов на различных этапах\n",
    "- Сравнение распределения размеров гранул исходного сырья на обучающей и тестовой выборках\n",
    "- Проведено исследование суммарной концентрации металлов на разных стадиях\n",
    "- Приведена диаграмма размаха суммарной концентрации на каждом из этапов\n",
    "- Удалены выбросы в виде нулей\n",
    "\n",
    "**Раздел 4 Модель предсказывания коэффициента восстановления золота**\n",
    "- Подготовлены выборки и функции для расчета метрик\n",
    "- Модель Линейной регрессии\n",
    "- Модель Дерева решений\n",
    "- Модель Случайного леса\n",
    "- Приведена Cводная таблица рассчитанных значений sMAPE\n",
    "- Выполнена проверка лучшей модели\n",
    "- Проведена проверка модели на адекватность\n",
    "\n",
    "**Резюме исследования:**\n",
    "\n",
    "1. Полученные датафреймы достаточно объемные, в них много признаков, были пропуски в признаках. Статистические данные на первый взгляд не дают конкретики без детального анализа признаков по отдельности. Полученное значение МАЕ стремится к нулю, а это значит, что эффективность обогащения рассчитана правильно. В признаках некоторые параметры недоступны, потому что замеряются и/или рассчитываются значительно позже. Из-за этого в тестовой выборке отсутствуют некоторые признаки, которые могут быть в обучающей. Также в тестовом наборе нет целевых признаков. Данные были обработаны, добавлены недостающие признаки в тестовую выборку (df_test), пропуски заполнены соседними ячейками ближайшей даты;\n",
    "    \n",
    "2. Анализирую полученные графики концентрации металлов на разных этапах, видно, что концентрация золота (Au) увеличивается на каждом этапе очистки, масимальная происходит на этапе вторичной очистки. Концентрация серебра (Ag) на каждом этапе не однозначно меняется, максимальная  концентрация  достигается на этапе флотации. Концентрация свинца (Pb) с каждым этапом увеличивается, максимальная концентрация приходится на этап вторичной очистки. Концентрация золи (Sol) постепенно уменьшается с каждым этапом, максимум - в исходном сырье. Диаграммы распределение размеров гранул на обучающей и тестовой выборке качественно похожи - стремятся к нормальному распределению;\n",
    "    \n",
    "3. При создании **ML** - моделей была произведена подготовка данных - удален признак с датой на обучающей и тестовой выборках, написаны функции для расчета метрик sMAPE, проедено обучение моделей в том числе с применением гиперпараметров. Результаты метрик сведены в таблицу, в которой лучшая модель (по наименьшему значению sMAPE на кросс-валидации) на этапе **rougher** - модель Дерево решений, а на этапе финальной очистки (final) - модель Линейной регрессии. Для этих моделей и было проведено итоговое обучение и проверка на тестовой выборке\n",
    "    \n",
    "Проверка лучшей модели (Линейной регрессии) показала результат Итоговой оценки sMAPE на тестовых данных: 7.05\n",
    "При проверке модели на адекватность Итоговая оценка sMAPE модели DummyRegressor на тестовых данных: 8.47"
   ]
  }
 ],
 "metadata": {
  "ExecuteTimeLog": [
   {
    "duration": 1475,
    "start_time": "2023-05-14T02:07:08.640Z"
   },
   {
    "duration": 2388,
    "start_time": "2023-05-14T02:07:10.117Z"
   },
   {
    "duration": 3,
    "start_time": "2023-05-14T02:07:15.454Z"
   },
   {
    "duration": 5,
    "start_time": "2023-05-14T02:07:16.459Z"
   },
   {
    "duration": 5797,
    "start_time": "2023-05-14T02:07:16.999Z"
   },
   {
    "duration": 3,
    "start_time": "2023-05-14T02:07:22.798Z"
   },
   {
    "duration": 260,
    "start_time": "2023-05-14T02:07:23.138Z"
   },
   {
    "duration": 9,
    "start_time": "2023-05-14T02:07:23.399Z"
   },
   {
    "duration": 3,
    "start_time": "2023-05-14T02:07:56.738Z"
   },
   {
    "duration": 6,
    "start_time": "2023-05-14T02:08:45.528Z"
   },
   {
    "duration": 12,
    "start_time": "2023-05-14T02:10:06.669Z"
   },
   {
    "duration": 3,
    "start_time": "2023-05-14T02:10:32.948Z"
   },
   {
    "duration": 22,
    "start_time": "2023-05-14T02:10:33.588Z"
   },
   {
    "duration": 13,
    "start_time": "2023-05-14T02:10:38.528Z"
   },
   {
    "duration": 15,
    "start_time": "2023-05-14T02:11:10.348Z"
   },
   {
    "duration": 14,
    "start_time": "2023-05-14T02:11:14.841Z"
   },
   {
    "duration": 22,
    "start_time": "2023-05-14T02:11:15.480Z"
   },
   {
    "duration": 14,
    "start_time": "2023-05-14T02:11:16.128Z"
   },
   {
    "duration": 612,
    "start_time": "2023-05-14T02:11:19.740Z"
   },
   {
    "duration": 695,
    "start_time": "2023-05-14T02:11:20.480Z"
   },
   {
    "duration": 629,
    "start_time": "2023-05-14T02:11:21.177Z"
   },
   {
    "duration": 726,
    "start_time": "2023-05-14T02:11:21.808Z"
   },
   {
    "duration": 9,
    "start_time": "2023-05-14T02:13:52.429Z"
   },
   {
    "duration": 3,
    "start_time": "2023-05-14T02:13:53.168Z"
   },
   {
    "duration": 3,
    "start_time": "2023-05-14T02:13:56.688Z"
   },
   {
    "duration": 3,
    "start_time": "2023-05-14T02:14:01.969Z"
   },
   {
    "duration": 3,
    "start_time": "2023-05-14T02:14:05.348Z"
   },
   {
    "duration": 3,
    "start_time": "2023-05-14T02:14:08.168Z"
   },
   {
    "duration": 2056,
    "start_time": "2023-05-14T02:14:08.849Z"
   },
   {
    "duration": 1577,
    "start_time": "2023-05-14T02:14:12.328Z"
   },
   {
    "duration": 2063,
    "start_time": "2023-05-27T16:36:49.134Z"
   },
   {
    "duration": 2714,
    "start_time": "2023-05-27T16:36:51.203Z"
   },
   {
    "duration": 4,
    "start_time": "2023-05-27T16:36:53.920Z"
   },
   {
    "duration": 8,
    "start_time": "2023-05-27T16:36:53.926Z"
   },
   {
    "duration": 1330,
    "start_time": "2023-05-27T16:36:53.937Z"
   },
   {
    "duration": 5,
    "start_time": "2023-05-27T16:36:55.268Z"
   },
   {
    "duration": 407,
    "start_time": "2023-05-27T16:36:55.282Z"
   },
   {
    "duration": 23,
    "start_time": "2023-05-27T16:36:55.703Z"
   },
   {
    "duration": 11,
    "start_time": "2023-05-27T16:36:55.729Z"
   },
   {
    "duration": 12,
    "start_time": "2023-05-27T16:36:55.742Z"
   },
   {
    "duration": 5,
    "start_time": "2023-05-27T16:36:55.756Z"
   },
   {
    "duration": 23,
    "start_time": "2023-05-27T16:36:55.762Z"
   },
   {
    "duration": 24,
    "start_time": "2023-05-27T16:36:55.788Z"
   },
   {
    "duration": 25,
    "start_time": "2023-05-27T16:36:55.819Z"
   },
   {
    "duration": 17,
    "start_time": "2023-05-27T16:36:55.846Z"
   },
   {
    "duration": 1082,
    "start_time": "2023-05-27T16:36:55.865Z"
   },
   {
    "duration": 829,
    "start_time": "2023-05-27T16:36:56.948Z"
   },
   {
    "duration": 1051,
    "start_time": "2023-05-27T16:36:57.779Z"
   },
   {
    "duration": 801,
    "start_time": "2023-05-27T16:36:58.832Z"
   },
   {
    "duration": 1828,
    "start_time": "2023-05-27T16:36:59.635Z"
   },
   {
    "duration": 1825,
    "start_time": "2023-05-27T16:37:01.464Z"
   },
   {
    "duration": 5,
    "start_time": "2023-05-27T16:37:03.291Z"
   },
   {
    "duration": 1238,
    "start_time": "2023-05-27T16:37:03.298Z"
   },
   {
    "duration": 9,
    "start_time": "2023-05-27T16:37:04.540Z"
   },
   {
    "duration": 1095,
    "start_time": "2023-05-27T16:37:04.551Z"
   },
   {
    "duration": 5,
    "start_time": "2023-05-27T16:37:05.648Z"
   },
   {
    "duration": 1208,
    "start_time": "2023-05-27T16:37:05.655Z"
   },
   {
    "duration": 278,
    "start_time": "2023-05-27T16:37:06.864Z"
   },
   {
    "duration": 16,
    "start_time": "2023-05-27T16:37:07.144Z"
   },
   {
    "duration": 28,
    "start_time": "2023-05-27T16:37:07.162Z"
   },
   {
    "duration": 8,
    "start_time": "2023-05-27T16:37:07.193Z"
   },
   {
    "duration": 4,
    "start_time": "2023-05-27T16:37:07.202Z"
   },
   {
    "duration": 2,
    "start_time": "2023-05-27T16:37:07.208Z"
   },
   {
    "duration": 2,
    "start_time": "2023-05-27T16:37:07.211Z"
   },
   {
    "duration": 7,
    "start_time": "2023-05-27T16:37:07.215Z"
   },
   {
    "duration": 7459,
    "start_time": "2023-05-27T16:37:07.225Z"
   },
   {
    "duration": 5698,
    "start_time": "2023-05-27T16:37:14.695Z"
   },
   {
    "duration": 10,
    "start_time": "2023-05-27T16:37:20.417Z"
   },
   {
    "duration": 2147,
    "start_time": "2023-05-27T16:37:20.434Z"
   },
   {
    "duration": 2148,
    "start_time": "2023-05-27T16:37:22.587Z"
   },
   {
    "duration": 9,
    "start_time": "2023-05-27T16:37:24.746Z"
   },
   {
    "duration": 184,
    "start_time": "2023-05-27T16:38:51.501Z"
   },
   {
    "duration": 4,
    "start_time": "2023-05-27T16:40:07.940Z"
   },
   {
    "duration": 8636,
    "start_time": "2023-05-27T16:40:23.706Z"
   },
   {
    "duration": 3995,
    "start_time": "2023-05-27T16:40:39.443Z"
   },
   {
    "duration": 10077,
    "start_time": "2023-05-27T16:40:55.911Z"
   },
   {
    "duration": 8896,
    "start_time": "2023-05-27T16:41:52.902Z"
   },
   {
    "duration": 6,
    "start_time": "2023-05-27T16:42:04.918Z"
   },
   {
    "duration": 13,
    "start_time": "2023-05-27T16:42:58.432Z"
   },
   {
    "duration": 5910,
    "start_time": "2023-05-27T16:43:17.327Z"
   },
   {
    "duration": 30,
    "start_time": "2023-05-27T16:44:20.520Z"
   },
   {
    "duration": 5279,
    "start_time": "2023-05-27T16:45:40.570Z"
   },
   {
    "duration": 138,
    "start_time": "2023-05-27T16:46:00.293Z"
   },
   {
    "duration": 0,
    "start_time": "2023-05-27T16:47:57.719Z"
   },
   {
    "duration": 5401,
    "start_time": "2023-05-27T16:47:59.511Z"
   },
   {
    "duration": 6,
    "start_time": "2023-05-27T16:48:09.707Z"
   },
   {
    "duration": 10,
    "start_time": "2023-05-27T16:48:12.319Z"
   },
   {
    "duration": 4717,
    "start_time": "2023-05-27T16:48:37.606Z"
   },
   {
    "duration": 18,
    "start_time": "2023-05-27T16:48:55.474Z"
   },
   {
    "duration": 17,
    "start_time": "2023-05-27T16:49:03.505Z"
   },
   {
    "duration": 5008,
    "start_time": "2023-05-27T16:49:29.098Z"
   },
   {
    "duration": 11,
    "start_time": "2023-05-27T16:49:46.524Z"
   },
   {
    "duration": 15,
    "start_time": "2023-05-27T16:51:53.203Z"
   },
   {
    "duration": 11,
    "start_time": "2023-05-27T16:55:44.643Z"
   },
   {
    "duration": 26,
    "start_time": "2023-05-27T16:57:05.652Z"
   },
   {
    "duration": 11,
    "start_time": "2023-05-27T16:57:07.498Z"
   },
   {
    "duration": 225618,
    "start_time": "2023-05-27T16:57:15.510Z"
   },
   {
    "duration": 27629,
    "start_time": "2023-05-27T17:01:06.747Z"
   },
   {
    "duration": 113094,
    "start_time": "2023-05-27T17:02:03.049Z"
   }
  ],
  "kernelspec": {
   "display_name": "Python 3 (ipykernel)",
   "language": "python",
   "name": "python3"
  },
  "language_info": {
   "codemirror_mode": {
    "name": "ipython",
    "version": 3
   },
   "file_extension": ".py",
   "mimetype": "text/x-python",
   "name": "python",
   "nbconvert_exporter": "python",
   "pygments_lexer": "ipython3",
   "version": "3.9.13"
  },
  "toc": {
   "base_numbering": 1,
   "nav_menu": {},
   "number_sections": true,
   "sideBar": true,
   "skip_h1_title": true,
   "title_cell": "Содержание",
   "title_sidebar": "Contents",
   "toc_cell": true,
   "toc_position": {
    "height": "calc(100% - 180px)",
    "left": "10px",
    "top": "150px",
    "width": "292.15px"
   },
   "toc_section_display": true,
   "toc_window_display": false
  },
  "varInspector": {
   "cols": {
    "lenName": 16,
    "lenType": 16,
    "lenVar": 40
   },
   "kernels_config": {
    "python": {
     "delete_cmd_postfix": "",
     "delete_cmd_prefix": "del ",
     "library": "var_list.py",
     "varRefreshCmd": "print(var_dic_list())"
    },
    "r": {
     "delete_cmd_postfix": ") ",
     "delete_cmd_prefix": "rm(",
     "library": "var_list.r",
     "varRefreshCmd": "cat(var_dic_list()) "
    }
   },
   "oldHeight": 122.844,
   "position": {
    "height": "40px",
    "left": "2290px",
    "right": "20px",
    "top": "120px",
    "width": "250px"
   },
   "types_to_exclude": [
    "module",
    "function",
    "builtin_function_or_method",
    "instance",
    "_Feature"
   ],
   "varInspector_section_display": "none",
   "window_display": true
  }
 },
 "nbformat": 4,
 "nbformat_minor": 2
}
